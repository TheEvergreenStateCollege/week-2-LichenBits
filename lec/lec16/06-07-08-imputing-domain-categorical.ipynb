{
 "cells": [
  {
   "cell_type": "code",
   "execution_count": 1,
   "id": "9e219919",
   "metadata": {
    "scrolled": true
   },
   "outputs": [],
   "source": [
    "import numpy as np\n",
    "import pandas as pd\n",
    "import matplotlib.pyplot as plt\n",
    "from sklearn.linear_model import LinearRegression\n",
    "from seaborn import load_dataset"
   ]
  },
  {
   "cell_type": "code",
   "execution_count": 2,
   "id": "07c35d59",
   "metadata": {},
   "outputs": [],
   "source": [
    "# if you've lost the associated utils file for this lecture, use the code in Appendix A, below\n",
    "from utils import plot_y_vs_yhat, plot_predictions, evaluate, phi_curved, phi_periodic, phi_curved_and_periodic"
   ]
  },
  {
   "cell_type": "markdown",
   "id": "97abe8a1",
   "metadata": {},
   "source": [
    "# 6. Imputing Missing Values with Scikit-Learn\n",
    "\n",
    "\n",
    "In this notebook, we discuss how to deal with missing values. In the process, we will work through feature engineering to construct a model that predicts vehicle efficiency.\n"
   ]
  },
  {
   "cell_type": "markdown",
   "id": "69abd388",
   "metadata": {},
   "source": [
    "## 6.1 Load `mpg` Dataset\n",
    "\n",
    "For this notebook, we will use the seaborn `mpg` data set which describes the fuel mileage (measured in miles per gallon or mpg) of various cars along with characteristics of those cars.  Our goal will be to build a model that can predict the fuel mileage of a car based on the characteristics of that car."
   ]
  },
  {
   "cell_type": "code",
   "execution_count": 3,
   "id": "59c6198f",
   "metadata": {},
   "outputs": [
    {
     "data": {
      "text/html": [
       "<div>\n",
       "<style scoped>\n",
       "    .dataframe tbody tr th:only-of-type {\n",
       "        vertical-align: middle;\n",
       "    }\n",
       "\n",
       "    .dataframe tbody tr th {\n",
       "        vertical-align: top;\n",
       "    }\n",
       "\n",
       "    .dataframe thead th {\n",
       "        text-align: right;\n",
       "    }\n",
       "</style>\n",
       "<table border=\"1\" class=\"dataframe\">\n",
       "  <thead>\n",
       "    <tr style=\"text-align: right;\">\n",
       "      <th></th>\n",
       "      <th>mpg</th>\n",
       "      <th>cylinders</th>\n",
       "      <th>displacement</th>\n",
       "      <th>horsepower</th>\n",
       "      <th>weight</th>\n",
       "      <th>acceleration</th>\n",
       "      <th>model_year</th>\n",
       "      <th>origin</th>\n",
       "      <th>name</th>\n",
       "    </tr>\n",
       "  </thead>\n",
       "  <tbody>\n",
       "    <tr>\n",
       "      <th>0</th>\n",
       "      <td>18.0</td>\n",
       "      <td>8</td>\n",
       "      <td>307.0</td>\n",
       "      <td>130.0</td>\n",
       "      <td>3504</td>\n",
       "      <td>12.0</td>\n",
       "      <td>70</td>\n",
       "      <td>usa</td>\n",
       "      <td>chevrolet chevelle malibu</td>\n",
       "    </tr>\n",
       "    <tr>\n",
       "      <th>1</th>\n",
       "      <td>15.0</td>\n",
       "      <td>8</td>\n",
       "      <td>350.0</td>\n",
       "      <td>165.0</td>\n",
       "      <td>3693</td>\n",
       "      <td>11.5</td>\n",
       "      <td>70</td>\n",
       "      <td>usa</td>\n",
       "      <td>buick skylark 320</td>\n",
       "    </tr>\n",
       "    <tr>\n",
       "      <th>2</th>\n",
       "      <td>18.0</td>\n",
       "      <td>8</td>\n",
       "      <td>318.0</td>\n",
       "      <td>150.0</td>\n",
       "      <td>3436</td>\n",
       "      <td>11.0</td>\n",
       "      <td>70</td>\n",
       "      <td>usa</td>\n",
       "      <td>plymouth satellite</td>\n",
       "    </tr>\n",
       "    <tr>\n",
       "      <th>3</th>\n",
       "      <td>16.0</td>\n",
       "      <td>8</td>\n",
       "      <td>304.0</td>\n",
       "      <td>150.0</td>\n",
       "      <td>3433</td>\n",
       "      <td>12.0</td>\n",
       "      <td>70</td>\n",
       "      <td>usa</td>\n",
       "      <td>amc rebel sst</td>\n",
       "    </tr>\n",
       "    <tr>\n",
       "      <th>4</th>\n",
       "      <td>17.0</td>\n",
       "      <td>8</td>\n",
       "      <td>302.0</td>\n",
       "      <td>140.0</td>\n",
       "      <td>3449</td>\n",
       "      <td>10.5</td>\n",
       "      <td>70</td>\n",
       "      <td>usa</td>\n",
       "      <td>ford torino</td>\n",
       "    </tr>\n",
       "    <tr>\n",
       "      <th>...</th>\n",
       "      <td>...</td>\n",
       "      <td>...</td>\n",
       "      <td>...</td>\n",
       "      <td>...</td>\n",
       "      <td>...</td>\n",
       "      <td>...</td>\n",
       "      <td>...</td>\n",
       "      <td>...</td>\n",
       "      <td>...</td>\n",
       "    </tr>\n",
       "    <tr>\n",
       "      <th>393</th>\n",
       "      <td>27.0</td>\n",
       "      <td>4</td>\n",
       "      <td>140.0</td>\n",
       "      <td>86.0</td>\n",
       "      <td>2790</td>\n",
       "      <td>15.6</td>\n",
       "      <td>82</td>\n",
       "      <td>usa</td>\n",
       "      <td>ford mustang gl</td>\n",
       "    </tr>\n",
       "    <tr>\n",
       "      <th>394</th>\n",
       "      <td>44.0</td>\n",
       "      <td>4</td>\n",
       "      <td>97.0</td>\n",
       "      <td>52.0</td>\n",
       "      <td>2130</td>\n",
       "      <td>24.6</td>\n",
       "      <td>82</td>\n",
       "      <td>europe</td>\n",
       "      <td>vw pickup</td>\n",
       "    </tr>\n",
       "    <tr>\n",
       "      <th>395</th>\n",
       "      <td>32.0</td>\n",
       "      <td>4</td>\n",
       "      <td>135.0</td>\n",
       "      <td>84.0</td>\n",
       "      <td>2295</td>\n",
       "      <td>11.6</td>\n",
       "      <td>82</td>\n",
       "      <td>usa</td>\n",
       "      <td>dodge rampage</td>\n",
       "    </tr>\n",
       "    <tr>\n",
       "      <th>396</th>\n",
       "      <td>28.0</td>\n",
       "      <td>4</td>\n",
       "      <td>120.0</td>\n",
       "      <td>79.0</td>\n",
       "      <td>2625</td>\n",
       "      <td>18.6</td>\n",
       "      <td>82</td>\n",
       "      <td>usa</td>\n",
       "      <td>ford ranger</td>\n",
       "    </tr>\n",
       "    <tr>\n",
       "      <th>397</th>\n",
       "      <td>31.0</td>\n",
       "      <td>4</td>\n",
       "      <td>119.0</td>\n",
       "      <td>82.0</td>\n",
       "      <td>2720</td>\n",
       "      <td>19.4</td>\n",
       "      <td>82</td>\n",
       "      <td>usa</td>\n",
       "      <td>chevy s-10</td>\n",
       "    </tr>\n",
       "  </tbody>\n",
       "</table>\n",
       "<p>398 rows × 9 columns</p>\n",
       "</div>"
      ],
      "text/plain": [
       "      mpg  cylinders  displacement  horsepower  weight  acceleration  \\\n",
       "0    18.0          8         307.0       130.0    3504          12.0   \n",
       "1    15.0          8         350.0       165.0    3693          11.5   \n",
       "2    18.0          8         318.0       150.0    3436          11.0   \n",
       "3    16.0          8         304.0       150.0    3433          12.0   \n",
       "4    17.0          8         302.0       140.0    3449          10.5   \n",
       "..    ...        ...           ...         ...     ...           ...   \n",
       "393  27.0          4         140.0        86.0    2790          15.6   \n",
       "394  44.0          4          97.0        52.0    2130          24.6   \n",
       "395  32.0          4         135.0        84.0    2295          11.6   \n",
       "396  28.0          4         120.0        79.0    2625          18.6   \n",
       "397  31.0          4         119.0        82.0    2720          19.4   \n",
       "\n",
       "     model_year  origin                       name  \n",
       "0            70     usa  chevrolet chevelle malibu  \n",
       "1            70     usa          buick skylark 320  \n",
       "2            70     usa         plymouth satellite  \n",
       "3            70     usa              amc rebel sst  \n",
       "4            70     usa                ford torino  \n",
       "..          ...     ...                        ...  \n",
       "393          82     usa            ford mustang gl  \n",
       "394          82  europe                  vw pickup  \n",
       "395          82     usa              dodge rampage  \n",
       "396          82     usa                ford ranger  \n",
       "397          82     usa                 chevy s-10  \n",
       "\n",
       "[398 rows x 9 columns]"
      ]
     },
     "execution_count": 3,
     "metadata": {},
     "output_type": "execute_result"
    }
   ],
   "source": [
    "data = load_dataset(\"mpg\")\n",
    "data"
   ]
  },
  {
   "cell_type": "markdown",
   "id": "4a1042a0",
   "metadata": {},
   "source": [
    "Notice a large number of columns are not quantitative continuous. Ignore these for now. We will deal with in next lesson."
   ]
  },
  {
   "cell_type": "code",
   "execution_count": 4,
   "id": "82d676ef",
   "metadata": {},
   "outputs": [],
   "source": [
    "Y = data[[\"mpg\"]]"
   ]
  },
  {
   "cell_type": "markdown",
   "id": "75ab3d7e",
   "metadata": {},
   "source": [
    "## 6.2 Keeping Track of Progress\n",
    "\n",
    "Because we are going to be building multiple models with different feature functions it is important to have a standard way to track each of the models.  \n",
    "\n",
    "The following function takes a model prediction function, the name of a model, and the dictionary of models that we have already constructed.  It then evaluates the new model on the data and plots how the new model performs relative to the previous models as well as the $Y$ vs $\\hat{Y}$ scatter plot.  \n",
    "\n",
    "In addition, it updates the dictionary of models to include the new model for future plotting."
   ]
  },
  {
   "cell_type": "code",
   "execution_count": 9,
   "id": "fd9856de",
   "metadata": {},
   "outputs": [],
   "source": [
    "results = {}"
   ]
  },
  {
   "cell_type": "code",
   "execution_count": 10,
   "id": "5a112059",
   "metadata": {},
   "outputs": [],
   "source": [
    "def evaluate_and_plot_mpg(name, df, y, yhat):\n",
    "    metrics = evaluate(df, y, yhat)\n",
    "    plot_y_vs_yhat(df, y, yhat)\n",
    "    \n",
    "    results[name] = metrics\n",
    "    return pd.DataFrame(results).sort_values(by='MSE', axis=1).T"
   ]
  },
  {
   "cell_type": "markdown",
   "id": "c503e025",
   "metadata": {},
   "source": [
    "## 6.3 Imputing Missing Quantitative Continuous Features\n",
    "\n",
    "This data set has several quantitative continuous features that we can use to build our first model.  However, even for quantitative continuous features, we may want to do some additional feature engineering.  Things to consider are:\n",
    "\n",
    "1. transforming features with non-linear functions (log, exp, sine, polynomials)\n",
    "2. constructing products or ratios of features\n",
    "3. dealing with missing values"
   ]
  },
  {
   "cell_type": "markdown",
   "id": "9519d03b",
   "metadata": {},
   "source": [
    "### Missing Values\n",
    "\n",
    "We can use the Pandas `DataFrame.isna` function to find rows with missing values:"
   ]
  },
  {
   "cell_type": "code",
   "execution_count": 5,
   "id": "5e06e869",
   "metadata": {},
   "outputs": [
    {
     "data": {
      "text/html": [
       "<div>\n",
       "<style scoped>\n",
       "    .dataframe tbody tr th:only-of-type {\n",
       "        vertical-align: middle;\n",
       "    }\n",
       "\n",
       "    .dataframe tbody tr th {\n",
       "        vertical-align: top;\n",
       "    }\n",
       "\n",
       "    .dataframe thead th {\n",
       "        text-align: right;\n",
       "    }\n",
       "</style>\n",
       "<table border=\"1\" class=\"dataframe\">\n",
       "  <thead>\n",
       "    <tr style=\"text-align: right;\">\n",
       "      <th></th>\n",
       "      <th>mpg</th>\n",
       "      <th>cylinders</th>\n",
       "      <th>displacement</th>\n",
       "      <th>horsepower</th>\n",
       "      <th>weight</th>\n",
       "      <th>acceleration</th>\n",
       "      <th>model_year</th>\n",
       "      <th>origin</th>\n",
       "      <th>name</th>\n",
       "    </tr>\n",
       "  </thead>\n",
       "  <tbody>\n",
       "    <tr>\n",
       "      <th>32</th>\n",
       "      <td>25.0</td>\n",
       "      <td>4</td>\n",
       "      <td>98.0</td>\n",
       "      <td>NaN</td>\n",
       "      <td>2046</td>\n",
       "      <td>19.0</td>\n",
       "      <td>71</td>\n",
       "      <td>usa</td>\n",
       "      <td>ford pinto</td>\n",
       "    </tr>\n",
       "    <tr>\n",
       "      <th>126</th>\n",
       "      <td>21.0</td>\n",
       "      <td>6</td>\n",
       "      <td>200.0</td>\n",
       "      <td>NaN</td>\n",
       "      <td>2875</td>\n",
       "      <td>17.0</td>\n",
       "      <td>74</td>\n",
       "      <td>usa</td>\n",
       "      <td>ford maverick</td>\n",
       "    </tr>\n",
       "    <tr>\n",
       "      <th>330</th>\n",
       "      <td>40.9</td>\n",
       "      <td>4</td>\n",
       "      <td>85.0</td>\n",
       "      <td>NaN</td>\n",
       "      <td>1835</td>\n",
       "      <td>17.3</td>\n",
       "      <td>80</td>\n",
       "      <td>europe</td>\n",
       "      <td>renault lecar deluxe</td>\n",
       "    </tr>\n",
       "    <tr>\n",
       "      <th>336</th>\n",
       "      <td>23.6</td>\n",
       "      <td>4</td>\n",
       "      <td>140.0</td>\n",
       "      <td>NaN</td>\n",
       "      <td>2905</td>\n",
       "      <td>14.3</td>\n",
       "      <td>80</td>\n",
       "      <td>usa</td>\n",
       "      <td>ford mustang cobra</td>\n",
       "    </tr>\n",
       "    <tr>\n",
       "      <th>354</th>\n",
       "      <td>34.5</td>\n",
       "      <td>4</td>\n",
       "      <td>100.0</td>\n",
       "      <td>NaN</td>\n",
       "      <td>2320</td>\n",
       "      <td>15.8</td>\n",
       "      <td>81</td>\n",
       "      <td>europe</td>\n",
       "      <td>renault 18i</td>\n",
       "    </tr>\n",
       "    <tr>\n",
       "      <th>374</th>\n",
       "      <td>23.0</td>\n",
       "      <td>4</td>\n",
       "      <td>151.0</td>\n",
       "      <td>NaN</td>\n",
       "      <td>3035</td>\n",
       "      <td>20.5</td>\n",
       "      <td>82</td>\n",
       "      <td>usa</td>\n",
       "      <td>amc concord dl</td>\n",
       "    </tr>\n",
       "  </tbody>\n",
       "</table>\n",
       "</div>"
      ],
      "text/plain": [
       "      mpg  cylinders  displacement  horsepower  weight  acceleration  \\\n",
       "32   25.0          4          98.0         NaN    2046          19.0   \n",
       "126  21.0          6         200.0         NaN    2875          17.0   \n",
       "330  40.9          4          85.0         NaN    1835          17.3   \n",
       "336  23.6          4         140.0         NaN    2905          14.3   \n",
       "354  34.5          4         100.0         NaN    2320          15.8   \n",
       "374  23.0          4         151.0         NaN    3035          20.5   \n",
       "\n",
       "     model_year  origin                  name  \n",
       "32           71     usa            ford pinto  \n",
       "126          74     usa         ford maverick  \n",
       "330          80  europe  renault lecar deluxe  \n",
       "336          80     usa    ford mustang cobra  \n",
       "354          81  europe           renault 18i  \n",
       "374          82     usa        amc concord dl  "
      ]
     },
     "execution_count": 5,
     "metadata": {},
     "output_type": "execute_result"
    }
   ],
   "source": [
    "data[data.isna().any(axis=1)]"
   ]
  },
  {
   "cell_type": "markdown",
   "id": "dc189531",
   "metadata": {},
   "source": [
    "There are many ways to deal with missing values.  A common strategy is to substitute the mean.  Because missing values can actually be useful signal, it is often a good idea to include a feature indicating that the value was missing. "
   ]
  },
  {
   "cell_type": "code",
   "execution_count": 6,
   "id": "c3e68c68",
   "metadata": {},
   "outputs": [],
   "source": [
    "def impute_mpg(df):\n",
    "    Phi = df[[\"cylinders\", \"displacement\", \n",
    "              \"horsepower\", \"weight\", \n",
    "              \"acceleration\", \n",
    "              \"model_year\"]].copy()\n",
    "    Phi[\"horsepower_missing\"] = Phi[\"horsepower\"].isna()\n",
    "    Phi = Phi.fillna(Phi.mean())\n",
    "    return Phi"
   ]
  },
  {
   "cell_type": "markdown",
   "id": "8ce8cf8b",
   "metadata": {},
   "source": [
    "### Baseline Biased OLS Model\n",
    "\n",
    "Using our feature function, we can fit our first model to the transformed data:"
   ]
  },
  {
   "cell_type": "code",
   "execution_count": 7,
   "id": "11929f5c",
   "metadata": {},
   "outputs": [],
   "source": [
    "def train_model_with_phi(df, phi, X, Y):\n",
    "    model = LinearRegression()\n",
    "    Phi = phi(X)\n",
    "    model.fit(Phi, Y)\n",
    "    yhat = model.predict(Phi)\n",
    "    return model, yhat"
   ]
  },
  {
   "cell_type": "code",
   "execution_count": 8,
   "id": "4971825e",
   "metadata": {},
   "outputs": [],
   "source": [
    "basic, yhat = train_model_with_phi(data, impute_mpg, data, Y)\n",
    "data['Yhat'] = yhat"
   ]
  },
  {
   "cell_type": "code",
   "execution_count": 11,
   "id": "597f65d8",
   "metadata": {
    "scrolled": true
   },
   "outputs": [
    {
     "name": "stdout",
     "output_type": "stream",
     "text": [
      "Mean Squared Error: 11.655535856999618\n",
      "Mean Absolute Error: 2.6300102173760966\n",
      "Root Mean Squared Error: 3.414020482803174\n"
     ]
    },
    {
     "data": {
      "text/html": [
       "<div>\n",
       "<style scoped>\n",
       "    .dataframe tbody tr th:only-of-type {\n",
       "        vertical-align: middle;\n",
       "    }\n",
       "\n",
       "    .dataframe tbody tr th {\n",
       "        vertical-align: top;\n",
       "    }\n",
       "\n",
       "    .dataframe thead th {\n",
       "        text-align: right;\n",
       "    }\n",
       "</style>\n",
       "<table border=\"1\" class=\"dataframe\">\n",
       "  <thead>\n",
       "    <tr style=\"text-align: right;\">\n",
       "      <th></th>\n",
       "      <th>MAE</th>\n",
       "      <th>MSE</th>\n",
       "      <th>RMSE</th>\n",
       "    </tr>\n",
       "  </thead>\n",
       "  <tbody>\n",
       "    <tr>\n",
       "      <th>basic</th>\n",
       "      <td>2.63001</td>\n",
       "      <td>11.655536</td>\n",
       "      <td>3.41402</td>\n",
       "    </tr>\n",
       "  </tbody>\n",
       "</table>\n",
       "</div>"
      ],
      "text/plain": [
       "           MAE        MSE     RMSE\n",
       "basic  2.63001  11.655536  3.41402"
      ]
     },
     "execution_count": 11,
     "metadata": {},
     "output_type": "execute_result"
    },
    {
     "data": {
      "image/png": "[encoded data removed]",
      "text/plain": [
       "<Figure size 432x288 with 1 Axes>"
      ]
     },
     "metadata": {
      "needs_background": "light"
     },
     "output_type": "display_data"
    }
   ],
   "source": [
    "evaluate_and_plot_mpg('basic', data, y=\"mpg\", yhat=\"Yhat\")"
   ]
  },
  {
   "cell_type": "markdown",
   "id": "952663e0",
   "metadata": {},
   "source": [
    "## 6.4 Stable Feature Functions\n",
    "\n",
    "Unfortunately, the feature function we just implemented applies a different transformation depending on what input we provide. Specifically, if the `horsepower` is missing when we go to make a prediction we will substitute it with a different mean then was used when we fit our model.  Furthermore, if we only want predictions on a few records and the `horsepower` is missing from those records then the feature function will be unable to substitute a meaningful value."
   ]
  },
  {
   "cell_type": "markdown",
   "id": "91068d09",
   "metadata": {},
   "source": [
    "For example, if we were to get new records that look like the following:"
   ]
  },
  {
   "cell_type": "code",
   "execution_count": 12,
   "id": "63dcfa1b",
   "metadata": {},
   "outputs": [
    {
     "data": {
      "text/html": [
       "<div>\n",
       "<style scoped>\n",
       "    .dataframe tbody tr th:only-of-type {\n",
       "        vertical-align: middle;\n",
       "    }\n",
       "\n",
       "    .dataframe tbody tr th {\n",
       "        vertical-align: top;\n",
       "    }\n",
       "\n",
       "    .dataframe thead th {\n",
       "        text-align: right;\n",
       "    }\n",
       "</style>\n",
       "<table border=\"1\" class=\"dataframe\">\n",
       "  <thead>\n",
       "    <tr style=\"text-align: right;\">\n",
       "      <th></th>\n",
       "      <th>mpg</th>\n",
       "      <th>cylinders</th>\n",
       "      <th>displacement</th>\n",
       "      <th>horsepower</th>\n",
       "      <th>weight</th>\n",
       "      <th>acceleration</th>\n",
       "      <th>model_year</th>\n",
       "      <th>origin</th>\n",
       "      <th>name</th>\n",
       "      <th>Yhat</th>\n",
       "    </tr>\n",
       "  </thead>\n",
       "  <tbody>\n",
       "    <tr>\n",
       "      <th>32</th>\n",
       "      <td>25.0</td>\n",
       "      <td>4</td>\n",
       "      <td>98.0</td>\n",
       "      <td>NaN</td>\n",
       "      <td>2046</td>\n",
       "      <td>19.0</td>\n",
       "      <td>71</td>\n",
       "      <td>usa</td>\n",
       "      <td>ford pinto</td>\n",
       "      <td>25.916113</td>\n",
       "    </tr>\n",
       "    <tr>\n",
       "      <th>126</th>\n",
       "      <td>21.0</td>\n",
       "      <td>6</td>\n",
       "      <td>200.0</td>\n",
       "      <td>NaN</td>\n",
       "      <td>2875</td>\n",
       "      <td>17.0</td>\n",
       "      <td>74</td>\n",
       "      <td>usa</td>\n",
       "      <td>ford maverick</td>\n",
       "      <td>22.400660</td>\n",
       "    </tr>\n",
       "    <tr>\n",
       "      <th>330</th>\n",
       "      <td>40.9</td>\n",
       "      <td>4</td>\n",
       "      <td>85.0</td>\n",
       "      <td>NaN</td>\n",
       "      <td>1835</td>\n",
       "      <td>17.3</td>\n",
       "      <td>80</td>\n",
       "      <td>europe</td>\n",
       "      <td>renault lecar deluxe</td>\n",
       "      <td>33.964920</td>\n",
       "    </tr>\n",
       "  </tbody>\n",
       "</table>\n",
       "</div>"
      ],
      "text/plain": [
       "      mpg  cylinders  displacement  horsepower  weight  acceleration  \\\n",
       "32   25.0          4          98.0         NaN    2046          19.0   \n",
       "126  21.0          6         200.0         NaN    2875          17.0   \n",
       "330  40.9          4          85.0         NaN    1835          17.3   \n",
       "\n",
       "     model_year  origin                  name       Yhat  \n",
       "32           71     usa            ford pinto  25.916113  \n",
       "126          74     usa         ford maverick  22.400660  \n",
       "330          80  europe  renault lecar deluxe  33.964920  "
      ]
     },
     "execution_count": 12,
     "metadata": {},
     "output_type": "execute_result"
    }
   ],
   "source": [
    "new_data = data[data['horsepower'].isna()].head(3)\n",
    "new_data"
   ]
  },
  {
   "cell_type": "markdown",
   "id": "de3e2c82",
   "metadata": {},
   "source": [
    "The feature function is be unable to substitute the mean since none of the records have a `horsepower` value."
   ]
  },
  {
   "cell_type": "code",
   "execution_count": 13,
   "id": "22606904",
   "metadata": {},
   "outputs": [
    {
     "name": "stdout",
     "output_type": "stream",
     "text": [
      "Input contains NaN, infinity or a value too large for dtype('float64').\n"
     ]
    }
   ],
   "source": [
    "try:\n",
    "    basic.predict(impute_mpg(new_data))\n",
    "except Exception as e:\n",
    "    print(e)"
   ]
  },
  {
   "cell_type": "markdown",
   "id": "7488b194",
   "metadata": {},
   "source": [
    "We can fix this by computing the mean on the original data and using that mean on any new data."
   ]
  },
  {
   "cell_type": "code",
   "execution_count": 14,
   "id": "9b238078",
   "metadata": {},
   "outputs": [
    {
     "name": "stderr",
     "output_type": "stream",
     "text": [
      "/tmp/ipykernel_920/1297707433.py:2: FutureWarning: Dropping of nuisance columns in DataFrame reductions (with 'numeric_only=None') is deprecated; in a future version this will raise TypeError.  Select only valid columns before calling the reduction.\n",
      "  def impute_mpg(df, data_mean = data.mean()):\n"
     ]
    }
   ],
   "source": [
    "# Making a global variable\n",
    "def impute_mpg(df, data_mean = data.mean()):\n",
    "    feature_cols = [\"cylinders\", \"displacement\", \"horsepower\", \"weight\", \"acceleration\", \"model_year\"]\n",
    "    Phi = df[feature_cols].copy()\n",
    "    Phi[\"horsepower_missing\"] = Phi[\"horsepower\"].isna().astype(float)\n",
    "    Phi = Phi.fillna(data_mean)\n",
    "    return Phi"
   ]
  },
  {
   "cell_type": "code",
   "execution_count": 15,
   "id": "2a768cd2",
   "metadata": {},
   "outputs": [
    {
     "data": {
      "text/plain": [
       "array([[25.91611313],\n",
       "       [22.40066016],\n",
       "       [33.96492047]])"
      ]
     },
     "execution_count": 15,
     "metadata": {},
     "output_type": "execute_result"
    }
   ],
   "source": [
    "basic.predict(impute_mpg(new_data))"
   ]
  },
  {
   "cell_type": "markdown",
   "id": "c8d2015a",
   "metadata": {},
   "source": [
    "## 6.5 Scikit-learn Model Imputer\n",
    "\n",
    "Because these kinds of transformations are fairly common. Scikit-learn has built-in transformations for data imputation.  These transformations have a common pattern of `fit` and `transform`.  You first `fit` the transformation to your data and then you can `transform` your data and any future data using the same transformation."
   ]
  },
  {
   "cell_type": "code",
   "execution_count": 16,
   "id": "34508e8b",
   "metadata": {},
   "outputs": [],
   "source": [
    "from sklearn.impute import SimpleImputer\n",
    "imputer = SimpleImputer(strategy=\"mean\")"
   ]
  },
  {
   "cell_type": "code",
   "execution_count": 17,
   "id": "201e0e3c",
   "metadata": {},
   "outputs": [
    {
     "data": {
      "text/plain": [
       "SimpleImputer()"
      ]
     },
     "execution_count": 17,
     "metadata": {},
     "output_type": "execute_result"
    }
   ],
   "source": [
    "imputer.fit(data[['weight', 'horsepower']])"
   ]
  },
  {
   "cell_type": "code",
   "execution_count": 18,
   "id": "d2321cbd",
   "metadata": {},
   "outputs": [
    {
     "data": {
      "text/plain": [
       "array([2046.        ,  104.46938776])"
      ]
     },
     "execution_count": 18,
     "metadata": {},
     "output_type": "execute_result"
    }
   ],
   "source": [
    "imputer.transform(data[['weight', 'horsepower']])[32]"
   ]
  },
  {
   "cell_type": "code",
   "execution_count": 19,
   "id": "1c5f07ad",
   "metadata": {},
   "outputs": [],
   "source": [
    "imputer.fit(data[['horsepower']])\n",
    "def impute_mpg_sklearn(df, imputer=imputer):\n",
    "    feature_cols = [\"cylinders\", \"displacement\", \"horsepower\", \"weight\", \"acceleration\", \"model_year\"]\n",
    "    Phi = df[feature_cols].copy()\n",
    "    Phi[\"horsepower_missing\"] = Phi[\"horsepower\"].isna().astype(float)\n",
    "    Phi[\"horsepower\"] = imputer.transform(Phi[[\"horsepower\"]]).flatten()\n",
    "    return Phi"
   ]
  },
  {
   "cell_type": "code",
   "execution_count": 20,
   "id": "f333dfbd",
   "metadata": {
    "scrolled": true
   },
   "outputs": [
    {
     "name": "stdout",
     "output_type": "stream",
     "text": [
      "Mean Squared Error: 11.655535856999618\n",
      "Mean Absolute Error: 2.6300102173760966\n",
      "Root Mean Squared Error: 3.414020482803174\n"
     ]
    },
    {
     "data": {
      "text/html": [
       "<div>\n",
       "<style scoped>\n",
       "    .dataframe tbody tr th:only-of-type {\n",
       "        vertical-align: middle;\n",
       "    }\n",
       "\n",
       "    .dataframe tbody tr th {\n",
       "        vertical-align: top;\n",
       "    }\n",
       "\n",
       "    .dataframe thead th {\n",
       "        text-align: right;\n",
       "    }\n",
       "</style>\n",
       "<table border=\"1\" class=\"dataframe\">\n",
       "  <thead>\n",
       "    <tr style=\"text-align: right;\">\n",
       "      <th></th>\n",
       "      <th>MSE</th>\n",
       "      <th>MAE</th>\n",
       "      <th>RMSE</th>\n",
       "    </tr>\n",
       "  </thead>\n",
       "  <tbody>\n",
       "    <tr>\n",
       "      <th>basic</th>\n",
       "      <td>11.655536</td>\n",
       "      <td>2.63001</td>\n",
       "      <td>3.41402</td>\n",
       "    </tr>\n",
       "    <tr>\n",
       "      <th>basic_sklearn</th>\n",
       "      <td>11.655536</td>\n",
       "      <td>2.63001</td>\n",
       "      <td>3.41402</td>\n",
       "    </tr>\n",
       "  </tbody>\n",
       "</table>\n",
       "</div>"
      ],
      "text/plain": [
       "                     MSE      MAE     RMSE\n",
       "basic          11.655536  2.63001  3.41402\n",
       "basic_sklearn  11.655536  2.63001  3.41402"
      ]
     },
     "execution_count": 20,
     "metadata": {},
     "output_type": "execute_result"
    },
    {
     "data": {
      "image/png": "[encoded data removed]",
      "text/plain": [
       "<Figure size 432x288 with 1 Axes>"
      ]
     },
     "metadata": {
      "needs_background": "light"
     },
     "output_type": "display_data"
    }
   ],
   "source": [
    "basicsk, data['Yhat'] = train_model_with_phi(data, impute_mpg_sklearn, data, Y)\n",
    "evaluate_and_plot_mpg(\"basic_sklearn\", data, y=\"mpg\", yhat=\"Yhat\")"
   ]
  },
  {
   "cell_type": "markdown",
   "id": "e6bb7611",
   "metadata": {},
   "source": [
    "# 7. Applying Domain Knowledge\n",
    "\n",
    "Let's try improving the model by applying feature functions from before: polynomial and sinusoidal features."
   ]
  },
  {
   "cell_type": "markdown",
   "id": "ca57732c",
   "metadata": {},
   "source": [
    "The displacement of an engine is defined as the product of the volume of each cylinder and number of cylinders.  However, not all cylinders fire at the same time (at least in a functioning engine) so the fuel economy might be more closely related to the volume of any one cylinder.  \n",
    "\n",
    "![Cylinders from https://gifimage.net/piston-gif-3/](https://gifimage.net/wp-content/uploads/2018/04/piston-gif-3.gif)\n",
    "\n",
    "## 7.1 Displacement Features\n",
    "\n",
    "We can use this \"domain knowledge\" to compute a new feature encoding the volume per cylinder by taking the ratio of displacement and cylinders. "
   ]
  },
  {
   "cell_type": "code",
   "execution_count": 21,
   "id": "5f6fb365",
   "metadata": {},
   "outputs": [],
   "source": [
    "def phi_with_displacement(df):\n",
    "    Phi = impute_mpg_sklearn(df)\n",
    "    Phi['displacement/cylinder'] = Phi['displacement'] / Phi['cylinders']\n",
    "    return Phi"
   ]
  },
  {
   "cell_type": "markdown",
   "id": "a53b99a6",
   "metadata": {},
   "source": [
    "Again fitting and evaluating our model we see a reduction in prediction error (RMSE)."
   ]
  },
  {
   "cell_type": "code",
   "execution_count": 22,
   "id": "2b14a6a3",
   "metadata": {
    "scrolled": true
   },
   "outputs": [
    {
     "name": "stdout",
     "output_type": "stream",
     "text": [
      "Mean Squared Error: 9.124885140995026\n",
      "Mean Absolute Error: 2.2237381270624215\n",
      "Root Mean Squared Error: 3.0207424817410415\n"
     ]
    },
    {
     "data": {
      "text/html": [
       "<div>\n",
       "<style scoped>\n",
       "    .dataframe tbody tr th:only-of-type {\n",
       "        vertical-align: middle;\n",
       "    }\n",
       "\n",
       "    .dataframe tbody tr th {\n",
       "        vertical-align: top;\n",
       "    }\n",
       "\n",
       "    .dataframe thead th {\n",
       "        text-align: right;\n",
       "    }\n",
       "</style>\n",
       "<table border=\"1\" class=\"dataframe\">\n",
       "  <thead>\n",
       "    <tr style=\"text-align: right;\">\n",
       "      <th></th>\n",
       "      <th>MSE</th>\n",
       "      <th>MAE</th>\n",
       "      <th>RMSE</th>\n",
       "    </tr>\n",
       "  </thead>\n",
       "  <tbody>\n",
       "    <tr>\n",
       "      <th>disp</th>\n",
       "      <td>9.124885</td>\n",
       "      <td>2.223738</td>\n",
       "      <td>3.020742</td>\n",
       "    </tr>\n",
       "    <tr>\n",
       "      <th>basic</th>\n",
       "      <td>11.655536</td>\n",
       "      <td>2.630010</td>\n",
       "      <td>3.414020</td>\n",
       "    </tr>\n",
       "    <tr>\n",
       "      <th>basic_sklearn</th>\n",
       "      <td>11.655536</td>\n",
       "      <td>2.630010</td>\n",
       "      <td>3.414020</td>\n",
       "    </tr>\n",
       "  </tbody>\n",
       "</table>\n",
       "</div>"
      ],
      "text/plain": [
       "                     MSE       MAE      RMSE\n",
       "disp            9.124885  2.223738  3.020742\n",
       "basic          11.655536  2.630010  3.414020\n",
       "basic_sklearn  11.655536  2.630010  3.414020"
      ]
     },
     "execution_count": 22,
     "metadata": {},
     "output_type": "execute_result"
    },
    {
     "data": {
      "image/png": "[encoded data removed]",
      "text/plain": [
       "<Figure size 432x288 with 1 Axes>"
      ]
     },
     "metadata": {
      "needs_background": "light"
     },
     "output_type": "display_data"
    }
   ],
   "source": [
    "disp, data['Yhat_disp'] = train_model_with_phi(data, phi_with_displacement, data, Y)\n",
    "evaluate_and_plot_mpg(\"disp\", data, y=\"mpg\", yhat=\"Yhat_disp\")"
   ]
  },
  {
   "cell_type": "markdown",
   "id": "13f52b08",
   "metadata": {},
   "source": [
    "## 7.2 Polynomial Features\n",
    "\n",
    "Let's apply the feature functions we explored in the previous lesson. Do they work here?"
   ]
  },
  {
   "cell_type": "code",
   "execution_count": 23,
   "id": "f45a698e",
   "metadata": {},
   "outputs": [],
   "source": [
    "def phi_crazy(df):\n",
    "    Phi = impute_mpg_sklearn(df)\n",
    "    Phi = phi_curved(Phi)\n",
    "    return Phi"
   ]
  },
  {
   "cell_type": "code",
   "execution_count": 24,
   "id": "8e11f8a0",
   "metadata": {
    "scrolled": true
   },
   "outputs": [
    {
     "name": "stdout",
     "output_type": "stream",
     "text": [
      "Mean Squared Error: 6.580192525428359\n",
      "Mean Absolute Error: 1.8916719012627623\n",
      "Root Mean Squared Error: 2.5651885945147113\n"
     ]
    },
    {
     "data": {
      "text/html": [
       "<div>\n",
       "<style scoped>\n",
       "    .dataframe tbody tr th:only-of-type {\n",
       "        vertical-align: middle;\n",
       "    }\n",
       "\n",
       "    .dataframe tbody tr th {\n",
       "        vertical-align: top;\n",
       "    }\n",
       "\n",
       "    .dataframe thead th {\n",
       "        text-align: right;\n",
       "    }\n",
       "</style>\n",
       "<table border=\"1\" class=\"dataframe\">\n",
       "  <thead>\n",
       "    <tr style=\"text-align: right;\">\n",
       "      <th></th>\n",
       "      <th>MSE</th>\n",
       "      <th>MAE</th>\n",
       "      <th>RMSE</th>\n",
       "    </tr>\n",
       "  </thead>\n",
       "  <tbody>\n",
       "    <tr>\n",
       "      <th>crazy</th>\n",
       "      <td>6.580193</td>\n",
       "      <td>1.891672</td>\n",
       "      <td>2.565189</td>\n",
       "    </tr>\n",
       "    <tr>\n",
       "      <th>disp</th>\n",
       "      <td>9.124885</td>\n",
       "      <td>2.223738</td>\n",
       "      <td>3.020742</td>\n",
       "    </tr>\n",
       "    <tr>\n",
       "      <th>basic</th>\n",
       "      <td>11.655536</td>\n",
       "      <td>2.630010</td>\n",
       "      <td>3.414020</td>\n",
       "    </tr>\n",
       "    <tr>\n",
       "      <th>basic_sklearn</th>\n",
       "      <td>11.655536</td>\n",
       "      <td>2.630010</td>\n",
       "      <td>3.414020</td>\n",
       "    </tr>\n",
       "  </tbody>\n",
       "</table>\n",
       "</div>"
      ],
      "text/plain": [
       "                     MSE       MAE      RMSE\n",
       "crazy           6.580193  1.891672  2.565189\n",
       "disp            9.124885  2.223738  3.020742\n",
       "basic          11.655536  2.630010  3.414020\n",
       "basic_sklearn  11.655536  2.630010  3.414020"
      ]
     },
     "execution_count": 24,
     "metadata": {},
     "output_type": "execute_result"
    },
    {
     "data": {
      "image/png": "[encoded data removed]",
      "text/plain": [
       "<Figure size 432x288 with 1 Axes>"
      ]
     },
     "metadata": {
      "needs_background": "light"
     },
     "output_type": "display_data"
    }
   ],
   "source": [
    "disp, data['Yhat_crazy'] = train_model_with_phi(data, phi_crazy, data, Y)\n",
    "evaluate_and_plot_mpg(\"crazy\", data, y=\"mpg\", yhat=\"Yhat_crazy\")"
   ]
  },
  {
   "cell_type": "markdown",
   "id": "82f0c1b4",
   "metadata": {},
   "source": [
    "## 7.3 Sinusoidal Features\n",
    "\n",
    "Those seemed to work well. Let's try more."
   ]
  },
  {
   "cell_type": "code",
   "execution_count": 25,
   "id": "c977db86",
   "metadata": {},
   "outputs": [],
   "source": [
    "def phi_crazier(df):\n",
    "    Phi = impute_mpg_sklearn(df)\n",
    "    Phi = phi_curved_and_periodic(Phi)\n",
    "    return Phi"
   ]
  },
  {
   "cell_type": "code",
   "execution_count": 26,
   "id": "205981e0",
   "metadata": {},
   "outputs": [
    {
     "name": "stdout",
     "output_type": "stream",
     "text": [
      "Mean Squared Error: 6.10796346351352\n",
      "Mean Absolute Error: 1.8161928427404483\n",
      "Root Mean Squared Error: 2.471429437292014\n"
     ]
    },
    {
     "data": {
      "text/html": [
       "<div>\n",
       "<style scoped>\n",
       "    .dataframe tbody tr th:only-of-type {\n",
       "        vertical-align: middle;\n",
       "    }\n",
       "\n",
       "    .dataframe tbody tr th {\n",
       "        vertical-align: top;\n",
       "    }\n",
       "\n",
       "    .dataframe thead th {\n",
       "        text-align: right;\n",
       "    }\n",
       "</style>\n",
       "<table border=\"1\" class=\"dataframe\">\n",
       "  <thead>\n",
       "    <tr style=\"text-align: right;\">\n",
       "      <th></th>\n",
       "      <th>MSE</th>\n",
       "      <th>MAE</th>\n",
       "      <th>RMSE</th>\n",
       "    </tr>\n",
       "  </thead>\n",
       "  <tbody>\n",
       "    <tr>\n",
       "      <th>crazier</th>\n",
       "      <td>6.107963</td>\n",
       "      <td>1.816193</td>\n",
       "      <td>2.471429</td>\n",
       "    </tr>\n",
       "    <tr>\n",
       "      <th>crazy</th>\n",
       "      <td>6.580193</td>\n",
       "      <td>1.891672</td>\n",
       "      <td>2.565189</td>\n",
       "    </tr>\n",
       "    <tr>\n",
       "      <th>disp</th>\n",
       "      <td>9.124885</td>\n",
       "      <td>2.223738</td>\n",
       "      <td>3.020742</td>\n",
       "    </tr>\n",
       "    <tr>\n",
       "      <th>basic</th>\n",
       "      <td>11.655536</td>\n",
       "      <td>2.630010</td>\n",
       "      <td>3.414020</td>\n",
       "    </tr>\n",
       "    <tr>\n",
       "      <th>basic_sklearn</th>\n",
       "      <td>11.655536</td>\n",
       "      <td>2.630010</td>\n",
       "      <td>3.414020</td>\n",
       "    </tr>\n",
       "  </tbody>\n",
       "</table>\n",
       "</div>"
      ],
      "text/plain": [
       "                     MSE       MAE      RMSE\n",
       "crazier         6.107963  1.816193  2.471429\n",
       "crazy           6.580193  1.891672  2.565189\n",
       "disp            9.124885  2.223738  3.020742\n",
       "basic          11.655536  2.630010  3.414020\n",
       "basic_sklearn  11.655536  2.630010  3.414020"
      ]
     },
     "execution_count": 26,
     "metadata": {},
     "output_type": "execute_result"
    },
    {
     "data": {
      "image/png": "[encoded data removed]",
      "text/plain": [
       "<Figure size 432x288 with 1 Axes>"
      ]
     },
     "metadata": {
      "needs_background": "light"
     },
     "output_type": "display_data"
    }
   ],
   "source": [
    "disp, data['Yhat_crazier'] = train_model_with_phi(data, phi_crazier, data, Y)\n",
    "evaluate_and_plot_mpg(\"crazier\", data, y=\"mpg\", yhat=\"Yhat_crazier\")"
   ]
  },
  {
   "cell_type": "markdown",
   "id": "c3252f22",
   "metadata": {},
   "source": [
    "This random hodge podge of features is what we call \"feature soup\". It's senseless feature mashing to get a better result. We'll see why specifically this is bad, in future lectures. For now, it looks like feature soup is getting diminishing returns and has plateau'ed in performance. Hitting a wall here, we'll now turn to an alternative: Below, we'll leverage insights about the problem, our domain knowledge, to *further* significantly improve our model performance."
   ]
  },
  {
   "cell_type": "markdown",
   "id": "dbcc94be",
   "metadata": {},
   "source": [
    "# 8. Encoding Non-Numeric and Categorical Data"
   ]
  },
  {
   "cell_type": "markdown",
   "id": "a23264ad",
   "metadata": {},
   "source": [
    "## 8.1 Encoding Categorical Data \n",
    "\n",
    "The `origin` column in this data set is categorical (nominal) data taking on a fixed set of possible values."
   ]
  },
  {
   "cell_type": "code",
   "execution_count": 27,
   "id": "e1eb3a50",
   "metadata": {},
   "outputs": [
    {
     "data": {
      "text/html": [
       "<div>\n",
       "<style scoped>\n",
       "    .dataframe tbody tr th:only-of-type {\n",
       "        vertical-align: middle;\n",
       "    }\n",
       "\n",
       "    .dataframe tbody tr th {\n",
       "        vertical-align: top;\n",
       "    }\n",
       "\n",
       "    .dataframe thead th {\n",
       "        text-align: right;\n",
       "    }\n",
       "</style>\n",
       "<table border=\"1\" class=\"dataframe\">\n",
       "  <thead>\n",
       "    <tr style=\"text-align: right;\">\n",
       "      <th></th>\n",
       "      <th>mpg</th>\n",
       "      <th>cylinders</th>\n",
       "      <th>displacement</th>\n",
       "      <th>horsepower</th>\n",
       "      <th>weight</th>\n",
       "      <th>acceleration</th>\n",
       "      <th>model_year</th>\n",
       "      <th>origin</th>\n",
       "      <th>name</th>\n",
       "      <th>Yhat</th>\n",
       "      <th>Yhat_disp</th>\n",
       "      <th>Yhat_crazy</th>\n",
       "      <th>Yhat_crazier</th>\n",
       "    </tr>\n",
       "  </thead>\n",
       "  <tbody>\n",
       "    <tr>\n",
       "      <th>0</th>\n",
       "      <td>18.0</td>\n",
       "      <td>8</td>\n",
       "      <td>307.0</td>\n",
       "      <td>130.0</td>\n",
       "      <td>3504</td>\n",
       "      <td>12.0</td>\n",
       "      <td>70</td>\n",
       "      <td>usa</td>\n",
       "      <td>chevrolet chevelle malibu</td>\n",
       "      <td>15.109165</td>\n",
       "      <td>14.207502</td>\n",
       "      <td>16.786522</td>\n",
       "      <td>15.754505</td>\n",
       "    </tr>\n",
       "    <tr>\n",
       "      <th>1</th>\n",
       "      <td>15.0</td>\n",
       "      <td>8</td>\n",
       "      <td>350.0</td>\n",
       "      <td>165.0</td>\n",
       "      <td>3693</td>\n",
       "      <td>11.5</td>\n",
       "      <td>70</td>\n",
       "      <td>usa</td>\n",
       "      <td>buick skylark 320</td>\n",
       "      <td>14.145522</td>\n",
       "      <td>13.553382</td>\n",
       "      <td>15.062133</td>\n",
       "      <td>15.199882</td>\n",
       "    </tr>\n",
       "    <tr>\n",
       "      <th>2</th>\n",
       "      <td>18.0</td>\n",
       "      <td>8</td>\n",
       "      <td>318.0</td>\n",
       "      <td>150.0</td>\n",
       "      <td>3436</td>\n",
       "      <td>11.0</td>\n",
       "      <td>70</td>\n",
       "      <td>usa</td>\n",
       "      <td>plymouth satellite</td>\n",
       "      <td>15.627641</td>\n",
       "      <td>14.162964</td>\n",
       "      <td>16.193132</td>\n",
       "      <td>16.178916</td>\n",
       "    </tr>\n",
       "    <tr>\n",
       "      <th>3</th>\n",
       "      <td>16.0</td>\n",
       "      <td>8</td>\n",
       "      <td>304.0</td>\n",
       "      <td>150.0</td>\n",
       "      <td>3433</td>\n",
       "      <td>12.0</td>\n",
       "      <td>70</td>\n",
       "      <td>usa</td>\n",
       "      <td>amc rebel sst</td>\n",
       "      <td>15.647515</td>\n",
       "      <td>13.682197</td>\n",
       "      <td>15.569031</td>\n",
       "      <td>15.321225</td>\n",
       "    </tr>\n",
       "    <tr>\n",
       "      <th>4</th>\n",
       "      <td>17.0</td>\n",
       "      <td>8</td>\n",
       "      <td>302.0</td>\n",
       "      <td>140.0</td>\n",
       "      <td>3449</td>\n",
       "      <td>10.5</td>\n",
       "      <td>70</td>\n",
       "      <td>usa</td>\n",
       "      <td>ford torino</td>\n",
       "      <td>15.347630</td>\n",
       "      <td>13.918877</td>\n",
       "      <td>16.723288</td>\n",
       "      <td>16.500641</td>\n",
       "    </tr>\n",
       "  </tbody>\n",
       "</table>\n",
       "</div>"
      ],
      "text/plain": [
       "    mpg  cylinders  displacement  horsepower  weight  acceleration  \\\n",
       "0  18.0          8         307.0       130.0    3504          12.0   \n",
       "1  15.0          8         350.0       165.0    3693          11.5   \n",
       "2  18.0          8         318.0       150.0    3436          11.0   \n",
       "3  16.0          8         304.0       150.0    3433          12.0   \n",
       "4  17.0          8         302.0       140.0    3449          10.5   \n",
       "\n",
       "   model_year origin                       name       Yhat  Yhat_disp  \\\n",
       "0          70    usa  chevrolet chevelle malibu  15.109165  14.207502   \n",
       "1          70    usa          buick skylark 320  14.145522  13.553382   \n",
       "2          70    usa         plymouth satellite  15.627641  14.162964   \n",
       "3          70    usa              amc rebel sst  15.647515  13.682197   \n",
       "4          70    usa                ford torino  15.347630  13.918877   \n",
       "\n",
       "   Yhat_crazy  Yhat_crazier  \n",
       "0   16.786522     15.754505  \n",
       "1   15.062133     15.199882  \n",
       "2   16.193132     16.178916  \n",
       "3   15.569031     15.321225  \n",
       "4   16.723288     16.500641  "
      ]
     },
     "execution_count": 27,
     "metadata": {},
     "output_type": "execute_result"
    }
   ],
   "source": [
    "data.head()"
   ]
  },
  {
   "cell_type": "code",
   "execution_count": 28,
   "id": "7f30fb98",
   "metadata": {},
   "outputs": [
    {
     "data": {
      "image/png": "[encoded data removed]",
      "text/plain": [
       "<Figure size 432x288 with 1 Axes>"
      ]
     },
     "metadata": {
      "needs_background": "light"
     },
     "output_type": "display_data"
    }
   ],
   "source": [
    "_ = plt.hist(data['origin'])"
   ]
  },
  {
   "cell_type": "markdown",
   "id": "1500936a",
   "metadata": {},
   "source": [
    "To use this kind of data in a model, we need to transform into a vector encoding that treats each distinct value as a separate dimension.  This is called One-hot Encoding or Dummy Encoding. "
   ]
  },
  {
   "cell_type": "markdown",
   "id": "66c2ef7a",
   "metadata": {},
   "source": [
    "### 8.1.1 One-Hot Encoding (Dummy Encoding)\n",
    "\n",
    "\n",
    "One-Hot encoding, sometimes also called **dummy encoding** is a simple mechanism to encode categorical data as real numbers such that the magnitude of each dimension is meaningful.  Suppose a feature can take on $k$ distinct values (e.g., $k=50$ for 50 states in the United Stated).  A new feature (dimension) is created for each distinct value.  For each record, all the new features are set to zero except the one corresponding to the value in the original feature. \n",
    "\n",
    "<img src=\"images/one_hot_state.png\" width=\"600px\">\n",
    "\n",
    "The term one-hot encoding comes from a digital circuit encoding of a categorical state as particular \"hot\" wire:\n",
    "\n",
    "<img src=\"images/one_hot_encoding.png\" width=\"400px\">"
   ]
  },
  {
   "cell_type": "markdown",
   "id": "9f69bc1c",
   "metadata": {},
   "source": [
    "### 8.1.2  Dummy Encoding in Pandas\n",
    "\n",
    "We can construct a one-hot (dummy) encoding of the origin column using the `Pandas.get_dummies` function:"
   ]
  },
  {
   "cell_type": "code",
   "execution_count": 29,
   "id": "45b9fc8f",
   "metadata": {},
   "outputs": [
    {
     "data": {
      "text/html": [
       "<div>\n",
       "<style scoped>\n",
       "    .dataframe tbody tr th:only-of-type {\n",
       "        vertical-align: middle;\n",
       "    }\n",
       "\n",
       "    .dataframe tbody tr th {\n",
       "        vertical-align: top;\n",
       "    }\n",
       "\n",
       "    .dataframe thead th {\n",
       "        text-align: right;\n",
       "    }\n",
       "</style>\n",
       "<table border=\"1\" class=\"dataframe\">\n",
       "  <thead>\n",
       "    <tr style=\"text-align: right;\">\n",
       "      <th></th>\n",
       "      <th>origin_europe</th>\n",
       "      <th>origin_japan</th>\n",
       "      <th>origin_usa</th>\n",
       "    </tr>\n",
       "  </thead>\n",
       "  <tbody>\n",
       "    <tr>\n",
       "      <th>0</th>\n",
       "      <td>0</td>\n",
       "      <td>0</td>\n",
       "      <td>1</td>\n",
       "    </tr>\n",
       "    <tr>\n",
       "      <th>1</th>\n",
       "      <td>0</td>\n",
       "      <td>0</td>\n",
       "      <td>1</td>\n",
       "    </tr>\n",
       "    <tr>\n",
       "      <th>2</th>\n",
       "      <td>0</td>\n",
       "      <td>0</td>\n",
       "      <td>1</td>\n",
       "    </tr>\n",
       "    <tr>\n",
       "      <th>3</th>\n",
       "      <td>0</td>\n",
       "      <td>0</td>\n",
       "      <td>1</td>\n",
       "    </tr>\n",
       "    <tr>\n",
       "      <th>4</th>\n",
       "      <td>0</td>\n",
       "      <td>0</td>\n",
       "      <td>1</td>\n",
       "    </tr>\n",
       "    <tr>\n",
       "      <th>...</th>\n",
       "      <td>...</td>\n",
       "      <td>...</td>\n",
       "      <td>...</td>\n",
       "    </tr>\n",
       "    <tr>\n",
       "      <th>393</th>\n",
       "      <td>0</td>\n",
       "      <td>0</td>\n",
       "      <td>1</td>\n",
       "    </tr>\n",
       "    <tr>\n",
       "      <th>394</th>\n",
       "      <td>1</td>\n",
       "      <td>0</td>\n",
       "      <td>0</td>\n",
       "    </tr>\n",
       "    <tr>\n",
       "      <th>395</th>\n",
       "      <td>0</td>\n",
       "      <td>0</td>\n",
       "      <td>1</td>\n",
       "    </tr>\n",
       "    <tr>\n",
       "      <th>396</th>\n",
       "      <td>0</td>\n",
       "      <td>0</td>\n",
       "      <td>1</td>\n",
       "    </tr>\n",
       "    <tr>\n",
       "      <th>397</th>\n",
       "      <td>0</td>\n",
       "      <td>0</td>\n",
       "      <td>1</td>\n",
       "    </tr>\n",
       "  </tbody>\n",
       "</table>\n",
       "<p>398 rows × 3 columns</p>\n",
       "</div>"
      ],
      "text/plain": [
       "     origin_europe  origin_japan  origin_usa\n",
       "0                0             0           1\n",
       "1                0             0           1\n",
       "2                0             0           1\n",
       "3                0             0           1\n",
       "4                0             0           1\n",
       "..             ...           ...         ...\n",
       "393              0             0           1\n",
       "394              1             0           0\n",
       "395              0             0           1\n",
       "396              0             0           1\n",
       "397              0             0           1\n",
       "\n",
       "[398 rows x 3 columns]"
      ]
     },
     "execution_count": 29,
     "metadata": {},
     "output_type": "execute_result"
    }
   ],
   "source": [
    "pd.get_dummies(data[['origin']])"
   ]
  },
  {
   "cell_type": "markdown",
   "id": "ca90f0f3",
   "metadata": {},
   "source": [
    "Using the `Pandas.get_dummies`, we can build a new feature function which extends our previous features with the additional dummy encoding columns."
   ]
  },
  {
   "cell_type": "code",
   "execution_count": 57,
   "id": "bddefee0",
   "metadata": {},
   "outputs": [],
   "source": [
    "def phi_with_origin(df):\n",
    "    Phi = phi_with_displacement(df)\n",
    "    Phi = Phi.join(pd.get_dummies(df[['origin']]))\n",
    "    return Phi"
   ]
  },
  {
   "cell_type": "markdown",
   "id": "5abf7d2d",
   "metadata": {},
   "source": [
    "We fit a new model with the origin feature encoding:"
   ]
  },
  {
   "cell_type": "code",
   "execution_count": 58,
   "id": "78970af7",
   "metadata": {},
   "outputs": [
    {
     "name": "stdout",
     "output_type": "stream",
     "text": [
      "Mean Squared Error: 9.037171327747574\n",
      "Mean Absolute Error: 2.224874824656813\n",
      "Root Mean Squared Error: 3.006188837672639\n"
     ]
    },
    {
     "data": {
      "text/html": [
       "<div>\n",
       "<style scoped>\n",
       "    .dataframe tbody tr th:only-of-type {\n",
       "        vertical-align: middle;\n",
       "    }\n",
       "\n",
       "    .dataframe tbody tr th {\n",
       "        vertical-align: top;\n",
       "    }\n",
       "\n",
       "    .dataframe thead th {\n",
       "        text-align: right;\n",
       "    }\n",
       "</style>\n",
       "<table border=\"1\" class=\"dataframe\">\n",
       "  <thead>\n",
       "    <tr style=\"text-align: right;\">\n",
       "      <th></th>\n",
       "      <th>MSE</th>\n",
       "      <th>MAE</th>\n",
       "      <th>RMSE</th>\n",
       "    </tr>\n",
       "  </thead>\n",
       "  <tbody>\n",
       "    <tr>\n",
       "      <th>name</th>\n",
       "      <td>1.840570</td>\n",
       "      <td>0.766515</td>\n",
       "      <td>1.356676</td>\n",
       "    </tr>\n",
       "    <tr>\n",
       "      <th>crazier</th>\n",
       "      <td>6.107963</td>\n",
       "      <td>1.816193</td>\n",
       "      <td>2.471429</td>\n",
       "    </tr>\n",
       "    <tr>\n",
       "      <th>crazy</th>\n",
       "      <td>6.580193</td>\n",
       "      <td>1.891672</td>\n",
       "      <td>2.565189</td>\n",
       "    </tr>\n",
       "    <tr>\n",
       "      <th>oh</th>\n",
       "      <td>9.037171</td>\n",
       "      <td>2.224875</td>\n",
       "      <td>3.006189</td>\n",
       "    </tr>\n",
       "    <tr>\n",
       "      <th>disp</th>\n",
       "      <td>9.124885</td>\n",
       "      <td>2.223738</td>\n",
       "      <td>3.020742</td>\n",
       "    </tr>\n",
       "    <tr>\n",
       "      <th>basic</th>\n",
       "      <td>11.655536</td>\n",
       "      <td>2.630010</td>\n",
       "      <td>3.414020</td>\n",
       "    </tr>\n",
       "    <tr>\n",
       "      <th>basic_sklearn</th>\n",
       "      <td>11.655536</td>\n",
       "      <td>2.630010</td>\n",
       "      <td>3.414020</td>\n",
       "    </tr>\n",
       "  </tbody>\n",
       "</table>\n",
       "</div>"
      ],
      "text/plain": [
       "                     MSE       MAE      RMSE\n",
       "name            1.840570  0.766515  1.356676\n",
       "crazier         6.107963  1.816193  2.471429\n",
       "crazy           6.580193  1.891672  2.565189\n",
       "oh              9.037171  2.224875  3.006189\n",
       "disp            9.124885  2.223738  3.020742\n",
       "basic          11.655536  2.630010  3.414020\n",
       "basic_sklearn  11.655536  2.630010  3.414020"
      ]
     },
     "execution_count": 58,
     "metadata": {},
     "output_type": "execute_result"
    },
    {
     "data": {
      "image/png": "[encoded data removed]",
      "text/plain": [
       "<Figure size 432x288 with 1 Axes>"
      ]
     },
     "metadata": {
      "needs_background": "light"
     },
     "output_type": "display_data"
    }
   ],
   "source": [
    "oh, data['Yhat_oh'] = train_model_with_phi(data, phi_with_origin, data, Y)\n",
    "evaluate_and_plot_mpg(\"oh\", data, y=\"mpg\", yhat=\"Yhat_oh\")"
   ]
  },
  {
   "cell_type": "markdown",
   "id": "9bce2e07",
   "metadata": {},
   "source": [
    "Unfortunately, the above feature function is not stable.  For example, if we are given a single vehicle to make a prediction the model will fail:"
   ]
  },
  {
   "cell_type": "code",
   "execution_count": 59,
   "id": "152ea642",
   "metadata": {},
   "outputs": [
    {
     "name": "stdout",
     "output_type": "stream",
     "text": [
      "matmul: Input operand 1 has a mismatch in its core dimension 0, with gufunc signature (n?,k),(k,m?)->(n?,m?) (size 11 is different from 9)\n"
     ]
    }
   ],
   "source": [
    "try:\n",
    "    oh.predict(phi_with_origin(data.head(1)))\n",
    "except Exception as e:\n",
    "    print(e)"
   ]
  },
  {
   "cell_type": "markdown",
   "id": "e72b3f45",
   "metadata": {},
   "source": [
    "To see why this fails look at the feature transformation for a single row:"
   ]
  },
  {
   "cell_type": "code",
   "execution_count": 60,
   "id": "56b8028a",
   "metadata": {},
   "outputs": [
    {
     "data": {
      "text/html": [
       "<div>\n",
       "<style scoped>\n",
       "    .dataframe tbody tr th:only-of-type {\n",
       "        vertical-align: middle;\n",
       "    }\n",
       "\n",
       "    .dataframe tbody tr th {\n",
       "        vertical-align: top;\n",
       "    }\n",
       "\n",
       "    .dataframe thead th {\n",
       "        text-align: right;\n",
       "    }\n",
       "</style>\n",
       "<table border=\"1\" class=\"dataframe\">\n",
       "  <thead>\n",
       "    <tr style=\"text-align: right;\">\n",
       "      <th></th>\n",
       "      <th>cylinders</th>\n",
       "      <th>displacement</th>\n",
       "      <th>horsepower</th>\n",
       "      <th>weight</th>\n",
       "      <th>acceleration</th>\n",
       "      <th>model_year</th>\n",
       "      <th>horsepower_missing</th>\n",
       "      <th>displacement/cylinder</th>\n",
       "      <th>origin_usa</th>\n",
       "    </tr>\n",
       "  </thead>\n",
       "  <tbody>\n",
       "    <tr>\n",
       "      <th>0</th>\n",
       "      <td>8</td>\n",
       "      <td>307.0</td>\n",
       "      <td>130.0</td>\n",
       "      <td>3504</td>\n",
       "      <td>12.0</td>\n",
       "      <td>70</td>\n",
       "      <td>0.0</td>\n",
       "      <td>38.375</td>\n",
       "      <td>1</td>\n",
       "    </tr>\n",
       "  </tbody>\n",
       "</table>\n",
       "</div>"
      ],
      "text/plain": [
       "   cylinders  displacement  horsepower  weight  acceleration  model_year  \\\n",
       "0          8         307.0       130.0    3504          12.0          70   \n",
       "\n",
       "   horsepower_missing  displacement/cylinder  origin_usa  \n",
       "0                 0.0                 38.375           1  "
      ]
     },
     "execution_count": 60,
     "metadata": {},
     "output_type": "execute_result"
    }
   ],
   "source": [
    "phi_with_origin(data.head(1))"
   ]
  },
  {
   "cell_type": "markdown",
   "id": "6739399b",
   "metadata": {},
   "source": [
    "The dummy columns are not created for the other categories.  "
   ]
  },
  {
   "cell_type": "markdown",
   "id": "85c98669",
   "metadata": {},
   "source": [
    "There are a couple solutions.  We could maintain a list of dummy columns and always add these columns.  Alternatively, we could use a library function designed to solve this problem.  The second option is much easier.  "
   ]
  },
  {
   "cell_type": "markdown",
   "id": "53a18121",
   "metadata": {},
   "source": [
    "### 8.1.3 Scikit-learn One-hot Encoder\n",
    "\n",
    "The scikit-learn library has a wide range feature transformations and a framework for composing them in reusable (stable) pipelines.  Let's first look at a basic [`OneHotEncoder`](https://scikit-learn.org/stable/modules/generated/sklearn.preprocessing.OneHotEncoder.html) transformation."
   ]
  },
  {
   "cell_type": "code",
   "execution_count": 61,
   "id": "2f3797aa",
   "metadata": {},
   "outputs": [],
   "source": [
    "from sklearn.preprocessing import OneHotEncoder\n",
    "oh_enc = OneHotEncoder()"
   ]
  },
  {
   "cell_type": "markdown",
   "id": "c48c8e03",
   "metadata": {},
   "source": [
    "We then fit that instance to some data.  This is where we would determine the specific values that a categorical feature can take:"
   ]
  },
  {
   "cell_type": "code",
   "execution_count": 62,
   "id": "cdc2f4a9",
   "metadata": {},
   "outputs": [
    {
     "data": {
      "text/plain": [
       "OneHotEncoder()"
      ]
     },
     "execution_count": 62,
     "metadata": {},
     "output_type": "execute_result"
    }
   ],
   "source": [
    "oh_enc.fit(data[['origin']])"
   ]
  },
  {
   "cell_type": "markdown",
   "id": "33788d48",
   "metadata": {},
   "source": [
    "Once we fit the transformation, we can then use it transform new data:"
   ]
  },
  {
   "cell_type": "code",
   "execution_count": 63,
   "id": "ce1ff41d",
   "metadata": {},
   "outputs": [
    {
     "data": {
      "text/plain": [
       "<5x3 sparse matrix of type '<class 'numpy.float64'>'\n",
       "\twith 5 stored elements in Compressed Sparse Row format>"
      ]
     },
     "execution_count": 63,
     "metadata": {},
     "output_type": "execute_result"
    }
   ],
   "source": [
    "oh_enc.transform(data[['origin']].head())"
   ]
  },
  {
   "cell_type": "code",
   "execution_count": 64,
   "id": "96efae9c",
   "metadata": {},
   "outputs": [
    {
     "data": {
      "text/plain": [
       "matrix([[0., 0., 1.],\n",
       "        [0., 0., 1.],\n",
       "        [0., 0., 1.],\n",
       "        [0., 0., 1.],\n",
       "        [0., 0., 1.]])"
      ]
     },
     "execution_count": 64,
     "metadata": {},
     "output_type": "execute_result"
    }
   ],
   "source": [
    "oh_enc.transform(data[['origin']].head()).todense()"
   ]
  },
  {
   "cell_type": "markdown",
   "id": "a27fc9af",
   "metadata": {},
   "source": [
    "We can also inspect the categories of the one-hot encoder:"
   ]
  },
  {
   "cell_type": "code",
   "execution_count": 65,
   "id": "c2b2a35c",
   "metadata": {},
   "outputs": [
    {
     "data": {
      "text/plain": [
       "array(['x0_europe', 'x0_japan', 'x0_usa'], dtype=object)"
      ]
     },
     "execution_count": 65,
     "metadata": {},
     "output_type": "execute_result"
    }
   ],
   "source": [
    "oh_enc.get_feature_names()"
   ]
  },
  {
   "cell_type": "markdown",
   "id": "a5fc5059",
   "metadata": {},
   "source": [
    "We can update our feature function to use the one-hot encoder instead."
   ]
  },
  {
   "cell_type": "code",
   "execution_count": 66,
   "id": "357600f5",
   "metadata": {},
   "outputs": [],
   "source": [
    "def phi_with_origin(df):\n",
    "    Phi = phi_with_displacement(df)\n",
    "    dummies = pd.DataFrame(oh_enc.transform(df[['origin']]).todense(), \n",
    "                           columns=oh_enc.get_feature_names(),\n",
    "                           index = df.index)\n",
    "    return Phi.join(dummies)"
   ]
  },
  {
   "cell_type": "code",
   "execution_count": 67,
   "id": "83df32db",
   "metadata": {},
   "outputs": [
    {
     "data": {
      "text/html": [
       "<div>\n",
       "<style scoped>\n",
       "    .dataframe tbody tr th:only-of-type {\n",
       "        vertical-align: middle;\n",
       "    }\n",
       "\n",
       "    .dataframe tbody tr th {\n",
       "        vertical-align: top;\n",
       "    }\n",
       "\n",
       "    .dataframe thead th {\n",
       "        text-align: right;\n",
       "    }\n",
       "</style>\n",
       "<table border=\"1\" class=\"dataframe\">\n",
       "  <thead>\n",
       "    <tr style=\"text-align: right;\">\n",
       "      <th></th>\n",
       "      <th>cylinders</th>\n",
       "      <th>displacement</th>\n",
       "      <th>horsepower</th>\n",
       "      <th>weight</th>\n",
       "      <th>acceleration</th>\n",
       "      <th>model_year</th>\n",
       "      <th>horsepower_missing</th>\n",
       "      <th>displacement/cylinder</th>\n",
       "      <th>x0_europe</th>\n",
       "      <th>x0_japan</th>\n",
       "      <th>x0_usa</th>\n",
       "    </tr>\n",
       "  </thead>\n",
       "  <tbody>\n",
       "    <tr>\n",
       "      <th>0</th>\n",
       "      <td>8</td>\n",
       "      <td>307.0</td>\n",
       "      <td>130.0</td>\n",
       "      <td>3504</td>\n",
       "      <td>12.0</td>\n",
       "      <td>70</td>\n",
       "      <td>0.0</td>\n",
       "      <td>38.375</td>\n",
       "      <td>0.0</td>\n",
       "      <td>0.0</td>\n",
       "      <td>1.0</td>\n",
       "    </tr>\n",
       "    <tr>\n",
       "      <th>1</th>\n",
       "      <td>8</td>\n",
       "      <td>350.0</td>\n",
       "      <td>165.0</td>\n",
       "      <td>3693</td>\n",
       "      <td>11.5</td>\n",
       "      <td>70</td>\n",
       "      <td>0.0</td>\n",
       "      <td>43.750</td>\n",
       "      <td>0.0</td>\n",
       "      <td>0.0</td>\n",
       "      <td>1.0</td>\n",
       "    </tr>\n",
       "    <tr>\n",
       "      <th>2</th>\n",
       "      <td>8</td>\n",
       "      <td>318.0</td>\n",
       "      <td>150.0</td>\n",
       "      <td>3436</td>\n",
       "      <td>11.0</td>\n",
       "      <td>70</td>\n",
       "      <td>0.0</td>\n",
       "      <td>39.750</td>\n",
       "      <td>0.0</td>\n",
       "      <td>0.0</td>\n",
       "      <td>1.0</td>\n",
       "    </tr>\n",
       "    <tr>\n",
       "      <th>3</th>\n",
       "      <td>8</td>\n",
       "      <td>304.0</td>\n",
       "      <td>150.0</td>\n",
       "      <td>3433</td>\n",
       "      <td>12.0</td>\n",
       "      <td>70</td>\n",
       "      <td>0.0</td>\n",
       "      <td>38.000</td>\n",
       "      <td>0.0</td>\n",
       "      <td>0.0</td>\n",
       "      <td>1.0</td>\n",
       "    </tr>\n",
       "    <tr>\n",
       "      <th>4</th>\n",
       "      <td>8</td>\n",
       "      <td>302.0</td>\n",
       "      <td>140.0</td>\n",
       "      <td>3449</td>\n",
       "      <td>10.5</td>\n",
       "      <td>70</td>\n",
       "      <td>0.0</td>\n",
       "      <td>37.750</td>\n",
       "      <td>0.0</td>\n",
       "      <td>0.0</td>\n",
       "      <td>1.0</td>\n",
       "    </tr>\n",
       "  </tbody>\n",
       "</table>\n",
       "</div>"
      ],
      "text/plain": [
       "   cylinders  displacement  horsepower  weight  acceleration  model_year  \\\n",
       "0          8         307.0       130.0    3504          12.0          70   \n",
       "1          8         350.0       165.0    3693          11.5          70   \n",
       "2          8         318.0       150.0    3436          11.0          70   \n",
       "3          8         304.0       150.0    3433          12.0          70   \n",
       "4          8         302.0       140.0    3449          10.5          70   \n",
       "\n",
       "   horsepower_missing  displacement/cylinder  x0_europe  x0_japan  x0_usa  \n",
       "0                 0.0                 38.375        0.0       0.0     1.0  \n",
       "1                 0.0                 43.750        0.0       0.0     1.0  \n",
       "2                 0.0                 39.750        0.0       0.0     1.0  \n",
       "3                 0.0                 38.000        0.0       0.0     1.0  \n",
       "4                 0.0                 37.750        0.0       0.0     1.0  "
      ]
     },
     "execution_count": 67,
     "metadata": {},
     "output_type": "execute_result"
    }
   ],
   "source": [
    "phi_with_origin(data.head())"
   ]
  },
  {
   "cell_type": "code",
   "execution_count": 68,
   "id": "2f3e6e68",
   "metadata": {},
   "outputs": [
    {
     "name": "stdout",
     "output_type": "stream",
     "text": [
      "Mean Squared Error: 9.037171327747574\n",
      "Mean Absolute Error: 2.224874824656813\n",
      "Root Mean Squared Error: 3.006188837672639\n"
     ]
    },
    {
     "data": {
      "text/html": [
       "<div>\n",
       "<style scoped>\n",
       "    .dataframe tbody tr th:only-of-type {\n",
       "        vertical-align: middle;\n",
       "    }\n",
       "\n",
       "    .dataframe tbody tr th {\n",
       "        vertical-align: top;\n",
       "    }\n",
       "\n",
       "    .dataframe thead th {\n",
       "        text-align: right;\n",
       "    }\n",
       "</style>\n",
       "<table border=\"1\" class=\"dataframe\">\n",
       "  <thead>\n",
       "    <tr style=\"text-align: right;\">\n",
       "      <th></th>\n",
       "      <th>MSE</th>\n",
       "      <th>MAE</th>\n",
       "      <th>RMSE</th>\n",
       "    </tr>\n",
       "  </thead>\n",
       "  <tbody>\n",
       "    <tr>\n",
       "      <th>name</th>\n",
       "      <td>1.840570</td>\n",
       "      <td>0.766515</td>\n",
       "      <td>1.356676</td>\n",
       "    </tr>\n",
       "    <tr>\n",
       "      <th>crazier</th>\n",
       "      <td>6.107963</td>\n",
       "      <td>1.816193</td>\n",
       "      <td>2.471429</td>\n",
       "    </tr>\n",
       "    <tr>\n",
       "      <th>crazy</th>\n",
       "      <td>6.580193</td>\n",
       "      <td>1.891672</td>\n",
       "      <td>2.565189</td>\n",
       "    </tr>\n",
       "    <tr>\n",
       "      <th>oh</th>\n",
       "      <td>9.037171</td>\n",
       "      <td>2.224875</td>\n",
       "      <td>3.006189</td>\n",
       "    </tr>\n",
       "    <tr>\n",
       "      <th>disp</th>\n",
       "      <td>9.124885</td>\n",
       "      <td>2.223738</td>\n",
       "      <td>3.020742</td>\n",
       "    </tr>\n",
       "    <tr>\n",
       "      <th>basic</th>\n",
       "      <td>11.655536</td>\n",
       "      <td>2.630010</td>\n",
       "      <td>3.414020</td>\n",
       "    </tr>\n",
       "    <tr>\n",
       "      <th>basic_sklearn</th>\n",
       "      <td>11.655536</td>\n",
       "      <td>2.630010</td>\n",
       "      <td>3.414020</td>\n",
       "    </tr>\n",
       "  </tbody>\n",
       "</table>\n",
       "</div>"
      ],
      "text/plain": [
       "                     MSE       MAE      RMSE\n",
       "name            1.840570  0.766515  1.356676\n",
       "crazier         6.107963  1.816193  2.471429\n",
       "crazy           6.580193  1.891672  2.565189\n",
       "oh              9.037171  2.224875  3.006189\n",
       "disp            9.124885  2.223738  3.020742\n",
       "basic          11.655536  2.630010  3.414020\n",
       "basic_sklearn  11.655536  2.630010  3.414020"
      ]
     },
     "execution_count": 68,
     "metadata": {},
     "output_type": "execute_result"
    },
    {
     "data": {
      "image/png": "[encoded data removed]",
      "text/plain": [
       "<Figure size 432x288 with 1 Axes>"
      ]
     },
     "metadata": {
      "needs_background": "light"
     },
     "output_type": "display_data"
    }
   ],
   "source": [
    "# model = LinearRegression()\n",
    "# model.fit(phi_with_origin(data), data[[\"mpg\"]])\n",
    "# evaluate_model(\"cont.+(d/c)+o\", model, phi_with_origin, models)\n",
    "oh, data['Yhat_oh'] = train_model_with_phi(data, phi_with_origin, data, Y)\n",
    "evaluate_and_plot_mpg(\"oh\", data, y=\"mpg\", yhat=\"Yhat_oh\")"
   ]
  },
  {
   "cell_type": "markdown",
   "id": "e42813d1",
   "metadata": {},
   "source": [
    "## 8.2 Encoding Text using Bag-of-Words\n",
    "\n",
    "The only remaining feature to encode is the vehicle name.  Is there potentially signal in the vehicle name?\n"
   ]
  },
  {
   "cell_type": "code",
   "execution_count": 69,
   "id": "1ebb824e",
   "metadata": {},
   "outputs": [
    {
     "data": {
      "text/html": [
       "<div>\n",
       "<style scoped>\n",
       "    .dataframe tbody tr th:only-of-type {\n",
       "        vertical-align: middle;\n",
       "    }\n",
       "\n",
       "    .dataframe tbody tr th {\n",
       "        vertical-align: top;\n",
       "    }\n",
       "\n",
       "    .dataframe thead th {\n",
       "        text-align: right;\n",
       "    }\n",
       "</style>\n",
       "<table border=\"1\" class=\"dataframe\">\n",
       "  <thead>\n",
       "    <tr style=\"text-align: right;\">\n",
       "      <th></th>\n",
       "      <th>name</th>\n",
       "    </tr>\n",
       "  </thead>\n",
       "  <tbody>\n",
       "    <tr>\n",
       "      <th>0</th>\n",
       "      <td>chevrolet chevelle malibu</td>\n",
       "    </tr>\n",
       "    <tr>\n",
       "      <th>1</th>\n",
       "      <td>buick skylark 320</td>\n",
       "    </tr>\n",
       "    <tr>\n",
       "      <th>2</th>\n",
       "      <td>plymouth satellite</td>\n",
       "    </tr>\n",
       "    <tr>\n",
       "      <th>3</th>\n",
       "      <td>amc rebel sst</td>\n",
       "    </tr>\n",
       "    <tr>\n",
       "      <th>4</th>\n",
       "      <td>ford torino</td>\n",
       "    </tr>\n",
       "    <tr>\n",
       "      <th>5</th>\n",
       "      <td>ford galaxie 500</td>\n",
       "    </tr>\n",
       "    <tr>\n",
       "      <th>6</th>\n",
       "      <td>chevrolet impala</td>\n",
       "    </tr>\n",
       "    <tr>\n",
       "      <th>7</th>\n",
       "      <td>plymouth fury iii</td>\n",
       "    </tr>\n",
       "    <tr>\n",
       "      <th>8</th>\n",
       "      <td>pontiac catalina</td>\n",
       "    </tr>\n",
       "    <tr>\n",
       "      <th>9</th>\n",
       "      <td>amc ambassador dpl</td>\n",
       "    </tr>\n",
       "  </tbody>\n",
       "</table>\n",
       "</div>"
      ],
      "text/plain": [
       "                        name\n",
       "0  chevrolet chevelle malibu\n",
       "1          buick skylark 320\n",
       "2         plymouth satellite\n",
       "3              amc rebel sst\n",
       "4                ford torino\n",
       "5           ford galaxie 500\n",
       "6           chevrolet impala\n",
       "7          plymouth fury iii\n",
       "8           pontiac catalina\n",
       "9         amc ambassador dpl"
      ]
     },
     "execution_count": 69,
     "metadata": {},
     "output_type": "execute_result"
    }
   ],
   "source": [
    "data[['name']].head(10)"
   ]
  },
  {
   "cell_type": "markdown",
   "id": "babe748e",
   "metadata": {},
   "source": [
    "Encoding text can be challenging.  The capturing the semantics and grammar of language in mathematical (vector) representations is an active area of research.  State-of-the-art techniques often rely on neural networks trained on large collections of text. In this class, we will focus on basic text encoding techniques that are still widely used.  If you are interested in learning more, checkout [BERT Explained: A Complete Guide with Theory and Tutorial](https://towardsml.com/2019/09/17/bert-explained-a-complete-guide-with-theory-and-tutorial).\n"
   ]
  },
  {
   "cell_type": "markdown",
   "id": "7e70f23b",
   "metadata": {},
   "source": [
    "\n",
    "Here we present two widely used representations of text:\n",
    "\n",
    "* **Bag-of-Words Encoding**: encodes text by the frequency of each word\n",
    "* **N-Gram Encoding**: encodes text by the frequency of sequences of words of length $N$\n",
    "\n",
    "Both of these encoding strategies are related to the one-hot encoding with dummy features created for every word or sequence of words and with multiple dummy features having counts greater than zero.\n"
   ]
  },
  {
   "cell_type": "markdown",
   "id": "63ed6341",
   "metadata": {},
   "source": [
    "### 8.2.1 The Bag-of-Words Encoding\n",
    "\n",
    "\n",
    "The bag-of-words encoding is widely used and a standard representation for text in many of the popular text clustering algorithms.  The following is a simple illustration of the bag-of-words encoding:\n",
    "\n",
    "<img src=\"images/bag_of_words.png\" width=\"600px\">\n",
    "\n",
    "**Notice**\n",
    "1. **Stop words are often removed.** Stop-words are words like `is` and `about` that in isolation contain very little information about the meaning of the sentence.  Here is a good list of [stop-words in many languages](https://code.google.com/archive/p/stop-words/). \n",
    "1. **Word order information is lost.**  Nonetheless the vector still suggests that the sentence is about `fun`, `machines`, and `learning`.  Thought there are many possible meanings _learning machines have fun learning_ or _learning about machines is fun learning_ ...\n",
    "1. **Capitalization and punctuation are typically removed.**  However, emoji symbols may be worth preserving.  \n",
    "1. **Sparse Encoding:** is necessary to represent the bag-of-words efficiently.  There are millions of possible words (including terminology, names, and misspellings) and so instantiating a `0` for every word that is not in each record would be inefficient.  \n"
   ]
  },
  {
   "cell_type": "markdown",
   "id": "8a44bfd4",
   "metadata": {},
   "source": [
    "#### Professor Gonzalez is an \"artist\"\n",
    "\n",
    "When professor Gonzalez was a graduate student at Carnegie Mellon University, he and several other computer scientists created the following art piece on display in the Gates Center:\n",
    "\n",
    "<img src=\"images/bag_of_words_art.jpg\" width=\"300px\">\n",
    "\n",
    "Is this art or science? \n",
    "\n",
    "**Notice**\n",
    "1. The unordered collection of words in the bag.\n",
    "1. The stop words on the floor.\n",
    "1. _The missing broom._  The original sculpture had a broom attached but the janitor got confused .... \n",
    "\n"
   ]
  },
  {
   "cell_type": "markdown",
   "id": "1dd26268",
   "metadata": {},
   "source": [
    "### 8.2.2 Bag-of-words in Scikit-learn\n",
    "\n",
    "We can use scikit-learn to construct a bag-of-words representation of text"
   ]
  },
  {
   "cell_type": "code",
   "execution_count": 70,
   "id": "7f2ca5ca",
   "metadata": {},
   "outputs": [
    {
     "data": {
      "text/plain": [
       "['Some say the world will end in fire,',\n",
       " 'Some say in ice.',\n",
       " 'From what Ive tasted of desire',\n",
       " 'I hold with those who favor fire.']"
      ]
     },
     "execution_count": 70,
     "metadata": {},
     "output_type": "execute_result"
    }
   ],
   "source": [
    "frost_text = [x for x in \"\"\"\n",
    "Some say the world will end in fire,\n",
    "Some say in ice.\n",
    "From what Ive tasted of desire\n",
    "I hold with those who favor fire.\n",
    "\"\"\".split(\"\\n\") if len(x) > 0]\n",
    "\n",
    "frost_text"
   ]
  },
  {
   "cell_type": "code",
   "execution_count": 71,
   "id": "5de464ac",
   "metadata": {},
   "outputs": [
    {
     "data": {
      "text/plain": [
       "CountVectorizer(stop_words='english')"
      ]
     },
     "execution_count": 71,
     "metadata": {},
     "output_type": "execute_result"
    }
   ],
   "source": [
    "from sklearn.feature_extraction.text import CountVectorizer\n",
    "\n",
    "# Construct the tokenizer with English stop words\n",
    "bow = CountVectorizer(stop_words=\"english\")\n",
    "\n",
    "# fit the model to the passage\n",
    "bow.fit(frost_text)"
   ]
  },
  {
   "cell_type": "code",
   "execution_count": 72,
   "id": "78da041b",
   "metadata": {},
   "outputs": [
    {
     "name": "stdout",
     "output_type": "stream",
     "text": [
      "Words: [(0, 'desire'), (1, 'end'), (2, 'favor'), (3, 'hold'), (4, 'ice'), (5, 'ive'), (6, 'say'), (7, 'tasted'), (8, 'world')]\n"
     ]
    }
   ],
   "source": [
    "# Print the words that are kept\n",
    "print(\"Words:\", list(enumerate(bow.get_feature_names())))"
   ]
  },
  {
   "cell_type": "code",
   "execution_count": 73,
   "id": "85c2cb8f",
   "metadata": {},
   "outputs": [
    {
     "name": "stdout",
     "output_type": "stream",
     "text": [
      "Sentence Encoding: \n",
      "\n",
      "Some say the world will end in fire,\n",
      "[[0 1 0 0 0 0 1 0 1]]\n",
      "------------------\n",
      "Some say in ice.\n",
      "[[0 0 0 0 1 0 1 0 0]]\n",
      "------------------\n",
      "From what Ive tasted of desire\n",
      "[[1 0 0 0 0 1 0 1 0]]\n",
      "------------------\n",
      "I hold with those who favor fire.\n",
      "[[0 0 1 1 0 0 0 0 0]]\n",
      "------------------\n"
     ]
    }
   ],
   "source": [
    "print(\"Sentence Encoding: \\n\")\n",
    "# Print the encoding of each line\n",
    "for (text, encoding) in zip(frost_text, bow.transform(frost_text)):\n",
    "    print(text)\n",
    "    print(encoding.todense())\n",
    "    print(\"------------------\")"
   ]
  },
  {
   "cell_type": "markdown",
   "id": "83b47d49",
   "metadata": {},
   "source": [
    "## 8.3 Encoding Text using N-Gram Encoding\n",
    "\n",
    "The n-gram encoding is a generalization of the bag-of-words encoding designed to capture information about word ordering.  Consider the following passage of text:\n",
    "\n",
    "> _The book was not well written but I did enjoy it._\n",
    "\n",
    "If we re-arrange the words we can also write:\n",
    "\n",
    "> _The book was well written but I did not enjoy it._\n",
    "\n",
    "Moreover, local word order can be important when making decisions about text.  The n-gram encoding captures local word order by defining counts over sliding windows. In the following example a bi-gram ($n=2$) encoding is constructed:\n",
    "\n",
    "<img src=\"images/ngram.png\" width=\"800px\">\n",
    "\n",
    "The above n-gram would be encoded in the sparse vector:\n",
    "\n",
    "<img src=\"images/ngram_vector.png\" width=\"300px\">\n",
    "\n",
    "Notice that the n-gram captures key pieces of sentiment information: `\"well written\"` and `\"not enjoy\"`.  \n",
    "\n",
    "N-grams are often used for other types of sequence data beyond text. For example, n-grams can be used to encode genomic data, protein sequences, and click logs. \n",
    "\n",
    "**N-Gram Issues**\n",
    "1. Maintaining the dictionary of possible n-grams can be very costly.  There are several approximations leveraging hashing that can be used to closely approximate n-gram encoding without the need to maintain the dictionary of all possible n-grams. \n",
    "1. As the size $n$ of n-grams increases the chance of observing more than one instance decreases limiting their value as a feature."
   ]
  },
  {
   "cell_type": "code",
   "execution_count": 74,
   "id": "3c137705",
   "metadata": {},
   "outputs": [
    {
     "data": {
      "text/plain": [
       "CountVectorizer(ngram_range=(1, 2))"
      ]
     },
     "execution_count": 74,
     "metadata": {},
     "output_type": "execute_result"
    }
   ],
   "source": [
    "# Construct the tokenizer with English stop words\n",
    "bigram = CountVectorizer(ngram_range=(1, 2))\n",
    "# fit the model to the passage\n",
    "bigram.fit(frost_text)"
   ]
  },
  {
   "cell_type": "code",
   "execution_count": 75,
   "id": "bb7b12b9",
   "metadata": {},
   "outputs": [
    {
     "name": "stdout",
     "output_type": "stream",
     "text": [
      "\n",
      "Words: [(0, 'desire'), (1, 'end'), (2, 'end in'), (3, 'favor'), (4, 'favor fire'), (5, 'fire'), (6, 'from'), (7, 'from what'), (8, 'hold'), (9, 'hold with'), (10, 'ice'), (11, 'in'), (12, 'in fire'), (13, 'in ice'), (14, 'ive'), (15, 'ive tasted'), (16, 'of'), (17, 'of desire'), (18, 'say'), (19, 'say in'), (20, 'say the'), (21, 'some'), (22, 'some say'), (23, 'tasted'), (24, 'tasted of'), (25, 'the'), (26, 'the world'), (27, 'those'), (28, 'those who'), (29, 'what'), (30, 'what ive'), (31, 'who'), (32, 'who favor'), (33, 'will'), (34, 'will end'), (35, 'with'), (36, 'with those'), (37, 'world'), (38, 'world will')]\n"
     ]
    }
   ],
   "source": [
    "# Print the words that are kept\n",
    "print(\"\\nWords:\", \n",
    "      list(zip(range(0,len(bigram.get_feature_names())), bigram.get_feature_names())))"
   ]
  },
  {
   "cell_type": "code",
   "execution_count": 76,
   "id": "aae87496",
   "metadata": {},
   "outputs": [
    {
     "name": "stdout",
     "output_type": "stream",
     "text": [
      "\n",
      "Sentence Encoding: \n",
      "\n",
      "Some say the world will end in fire,\n",
      "[[0 1 1 0 0 1 0 0 0 0 0 1 1 0 0 0 0 0 1 0 1 1 1 0 0 1 1 0 0 0 0 0 0 1 1 0\n",
      "  0 1 1]]\n",
      "------------------\n",
      "Some say in ice.\n",
      "[[0 0 0 0 0 0 0 0 0 0 1 1 0 1 0 0 0 0 1 1 0 1 1 0 0 0 0 0 0 0 0 0 0 0 0 0\n",
      "  0 0 0]]\n",
      "------------------\n",
      "From what Ive tasted of desire\n",
      "[[1 0 0 0 0 0 1 1 0 0 0 0 0 0 1 1 1 1 0 0 0 0 0 1 1 0 0 0 0 1 1 0 0 0 0 0\n",
      "  0 0 0]]\n",
      "------------------\n",
      "I hold with those who favor fire.\n",
      "[[0 0 0 1 1 1 0 0 1 1 0 0 0 0 0 0 0 0 0 0 0 0 0 0 0 0 0 1 1 0 0 1 1 0 0 1\n",
      "  1 0 0]]\n",
      "------------------\n"
     ]
    }
   ],
   "source": [
    "print(\"\\nSentence Encoding: \\n\")\n",
    "# Print the encoding of each line\n",
    "for (text, encoding) in zip(frost_text, bigram.transform(frost_text)):\n",
    "    print(text)\n",
    "    print(encoding.todense())\n",
    "    print(\"------------------\")"
   ]
  },
  {
   "cell_type": "markdown",
   "id": "d15e3b3a",
   "metadata": {},
   "source": [
    "### 8.3.1 Applying Text Encoding\n",
    "\n",
    "We can add the text encoding features to our feature function:"
   ]
  },
  {
   "cell_type": "code",
   "execution_count": 88,
   "id": "08e34013",
   "metadata": {},
   "outputs": [],
   "source": [
    "bow = CountVectorizer()\n",
    "bow.fit(data[\"name\"])\n",
    "\n",
    "def phi_with_name(df):\n",
    "    Phi = phi_with_origin(df)\n",
    "    bow_encoding = pd.DataFrame(\n",
    "        bow.transform(df['name']).todense(), \n",
    "        columns=bow.get_feature_names(),\n",
    "        index = df.index)\n",
    "    Phi = Phi.join(bow_encoding)\n",
    "    return Phi"
   ]
  },
  {
   "cell_type": "code",
   "execution_count": 91,
   "id": "1ee9a820",
   "metadata": {},
   "outputs": [
    {
     "data": {
      "text/html": [
       "<div>\n",
       "<style scoped>\n",
       "    .dataframe tbody tr th:only-of-type {\n",
       "        vertical-align: middle;\n",
       "    }\n",
       "\n",
       "    .dataframe tbody tr th {\n",
       "        vertical-align: top;\n",
       "    }\n",
       "\n",
       "    .dataframe thead th {\n",
       "        text-align: right;\n",
       "    }\n",
       "</style>\n",
       "<table border=\"1\" class=\"dataframe\">\n",
       "  <thead>\n",
       "    <tr style=\"text-align: right;\">\n",
       "      <th></th>\n",
       "      <th>cylinders</th>\n",
       "      <th>displacement</th>\n",
       "      <th>horsepower</th>\n",
       "      <th>weight</th>\n",
       "      <th>acceleration</th>\n",
       "      <th>model_year</th>\n",
       "      <th>horsepower_missing</th>\n",
       "      <th>displacement/cylinder</th>\n",
       "      <th>x0_europe</th>\n",
       "      <th>x0_japan</th>\n",
       "      <th>...</th>\n",
       "      <th>volkswagen</th>\n",
       "      <th>volvo</th>\n",
       "      <th>vw</th>\n",
       "      <th>wagon</th>\n",
       "      <th>woody</th>\n",
       "      <th>x1</th>\n",
       "      <th>xe</th>\n",
       "      <th>yorker</th>\n",
       "      <th>zephyr</th>\n",
       "      <th>zx</th>\n",
       "    </tr>\n",
       "  </thead>\n",
       "  <tbody>\n",
       "    <tr>\n",
       "      <th>0</th>\n",
       "      <td>8</td>\n",
       "      <td>307.0</td>\n",
       "      <td>130.0</td>\n",
       "      <td>3504</td>\n",
       "      <td>12.0</td>\n",
       "      <td>70</td>\n",
       "      <td>0.0</td>\n",
       "      <td>38.375</td>\n",
       "      <td>0.0</td>\n",
       "      <td>0.0</td>\n",
       "      <td>...</td>\n",
       "      <td>0</td>\n",
       "      <td>0</td>\n",
       "      <td>0</td>\n",
       "      <td>0</td>\n",
       "      <td>0</td>\n",
       "      <td>0</td>\n",
       "      <td>0</td>\n",
       "      <td>0</td>\n",
       "      <td>0</td>\n",
       "      <td>0</td>\n",
       "    </tr>\n",
       "    <tr>\n",
       "      <th>1</th>\n",
       "      <td>8</td>\n",
       "      <td>350.0</td>\n",
       "      <td>165.0</td>\n",
       "      <td>3693</td>\n",
       "      <td>11.5</td>\n",
       "      <td>70</td>\n",
       "      <td>0.0</td>\n",
       "      <td>43.750</td>\n",
       "      <td>0.0</td>\n",
       "      <td>0.0</td>\n",
       "      <td>...</td>\n",
       "      <td>0</td>\n",
       "      <td>0</td>\n",
       "      <td>0</td>\n",
       "      <td>0</td>\n",
       "      <td>0</td>\n",
       "      <td>0</td>\n",
       "      <td>0</td>\n",
       "      <td>0</td>\n",
       "      <td>0</td>\n",
       "      <td>0</td>\n",
       "    </tr>\n",
       "    <tr>\n",
       "      <th>2</th>\n",
       "      <td>8</td>\n",
       "      <td>318.0</td>\n",
       "      <td>150.0</td>\n",
       "      <td>3436</td>\n",
       "      <td>11.0</td>\n",
       "      <td>70</td>\n",
       "      <td>0.0</td>\n",
       "      <td>39.750</td>\n",
       "      <td>0.0</td>\n",
       "      <td>0.0</td>\n",
       "      <td>...</td>\n",
       "      <td>0</td>\n",
       "      <td>0</td>\n",
       "      <td>0</td>\n",
       "      <td>0</td>\n",
       "      <td>0</td>\n",
       "      <td>0</td>\n",
       "      <td>0</td>\n",
       "      <td>0</td>\n",
       "      <td>0</td>\n",
       "      <td>0</td>\n",
       "    </tr>\n",
       "    <tr>\n",
       "      <th>3</th>\n",
       "      <td>8</td>\n",
       "      <td>304.0</td>\n",
       "      <td>150.0</td>\n",
       "      <td>3433</td>\n",
       "      <td>12.0</td>\n",
       "      <td>70</td>\n",
       "      <td>0.0</td>\n",
       "      <td>38.000</td>\n",
       "      <td>0.0</td>\n",
       "      <td>0.0</td>\n",
       "      <td>...</td>\n",
       "      <td>0</td>\n",
       "      <td>0</td>\n",
       "      <td>0</td>\n",
       "      <td>0</td>\n",
       "      <td>0</td>\n",
       "      <td>0</td>\n",
       "      <td>0</td>\n",
       "      <td>0</td>\n",
       "      <td>0</td>\n",
       "      <td>0</td>\n",
       "    </tr>\n",
       "    <tr>\n",
       "      <th>4</th>\n",
       "      <td>8</td>\n",
       "      <td>302.0</td>\n",
       "      <td>140.0</td>\n",
       "      <td>3449</td>\n",
       "      <td>10.5</td>\n",
       "      <td>70</td>\n",
       "      <td>0.0</td>\n",
       "      <td>37.750</td>\n",
       "      <td>0.0</td>\n",
       "      <td>0.0</td>\n",
       "      <td>...</td>\n",
       "      <td>0</td>\n",
       "      <td>0</td>\n",
       "      <td>0</td>\n",
       "      <td>0</td>\n",
       "      <td>0</td>\n",
       "      <td>0</td>\n",
       "      <td>0</td>\n",
       "      <td>0</td>\n",
       "      <td>0</td>\n",
       "      <td>0</td>\n",
       "    </tr>\n",
       "  </tbody>\n",
       "</table>\n",
       "<p>5 rows × 311 columns</p>\n",
       "</div>"
      ],
      "text/plain": [
       "   cylinders  displacement  horsepower  weight  acceleration  model_year  \\\n",
       "0          8         307.0       130.0    3504          12.0          70   \n",
       "1          8         350.0       165.0    3693          11.5          70   \n",
       "2          8         318.0       150.0    3436          11.0          70   \n",
       "3          8         304.0       150.0    3433          12.0          70   \n",
       "4          8         302.0       140.0    3449          10.5          70   \n",
       "\n",
       "   horsepower_missing  displacement/cylinder  x0_europe  x0_japan  ...  \\\n",
       "0                 0.0                 38.375        0.0       0.0  ...   \n",
       "1                 0.0                 43.750        0.0       0.0  ...   \n",
       "2                 0.0                 39.750        0.0       0.0  ...   \n",
       "3                 0.0                 38.000        0.0       0.0  ...   \n",
       "4                 0.0                 37.750        0.0       0.0  ...   \n",
       "\n",
       "   volkswagen  volvo  vw  wagon  woody  x1  xe  yorker  zephyr  zx  \n",
       "0           0      0   0      0      0   0   0       0       0   0  \n",
       "1           0      0   0      0      0   0   0       0       0   0  \n",
       "2           0      0   0      0      0   0   0       0       0   0  \n",
       "3           0      0   0      0      0   0   0       0       0   0  \n",
       "4           0      0   0      0      0   0   0       0       0   0  \n",
       "\n",
       "[5 rows x 311 columns]"
      ]
     },
     "execution_count": 91,
     "metadata": {},
     "output_type": "execute_result"
    }
   ],
   "source": [
    "Phi = phi_with_name(data)\n",
    "Phi.head()"
   ]
  },
  {
   "cell_type": "code",
   "execution_count": 92,
   "id": "114d6dec",
   "metadata": {},
   "outputs": [
    {
     "name": "stdout",
     "output_type": "stream",
     "text": [
      "Mean Squared Error: 1.8405697630562359\n",
      "Mean Absolute Error: 0.7665152123225993\n",
      "Root Mean Squared Error: 1.3566759978182839\n"
     ]
    },
    {
     "data": {
      "text/html": [
       "<div>\n",
       "<style scoped>\n",
       "    .dataframe tbody tr th:only-of-type {\n",
       "        vertical-align: middle;\n",
       "    }\n",
       "\n",
       "    .dataframe tbody tr th {\n",
       "        vertical-align: top;\n",
       "    }\n",
       "\n",
       "    .dataframe thead th {\n",
       "        text-align: right;\n",
       "    }\n",
       "</style>\n",
       "<table border=\"1\" class=\"dataframe\">\n",
       "  <thead>\n",
       "    <tr style=\"text-align: right;\">\n",
       "      <th></th>\n",
       "      <th>MSE</th>\n",
       "      <th>MAE</th>\n",
       "      <th>RMSE</th>\n",
       "    </tr>\n",
       "  </thead>\n",
       "  <tbody>\n",
       "    <tr>\n",
       "      <th>name</th>\n",
       "      <td>1.840570</td>\n",
       "      <td>0.766515</td>\n",
       "      <td>1.356676</td>\n",
       "    </tr>\n",
       "    <tr>\n",
       "      <th>crazier</th>\n",
       "      <td>6.107963</td>\n",
       "      <td>1.816193</td>\n",
       "      <td>2.471429</td>\n",
       "    </tr>\n",
       "    <tr>\n",
       "      <th>crazy</th>\n",
       "      <td>6.580193</td>\n",
       "      <td>1.891672</td>\n",
       "      <td>2.565189</td>\n",
       "    </tr>\n",
       "    <tr>\n",
       "      <th>oh</th>\n",
       "      <td>9.037171</td>\n",
       "      <td>2.224875</td>\n",
       "      <td>3.006189</td>\n",
       "    </tr>\n",
       "    <tr>\n",
       "      <th>disp</th>\n",
       "      <td>9.124885</td>\n",
       "      <td>2.223738</td>\n",
       "      <td>3.020742</td>\n",
       "    </tr>\n",
       "    <tr>\n",
       "      <th>basic</th>\n",
       "      <td>11.655536</td>\n",
       "      <td>2.630010</td>\n",
       "      <td>3.414020</td>\n",
       "    </tr>\n",
       "    <tr>\n",
       "      <th>basic_sklearn</th>\n",
       "      <td>11.655536</td>\n",
       "      <td>2.630010</td>\n",
       "      <td>3.414020</td>\n",
       "    </tr>\n",
       "  </tbody>\n",
       "</table>\n",
       "</div>"
      ],
      "text/plain": [
       "                     MSE       MAE      RMSE\n",
       "name            1.840570  0.766515  1.356676\n",
       "crazier         6.107963  1.816193  2.471429\n",
       "crazy           6.580193  1.891672  2.565189\n",
       "oh              9.037171  2.224875  3.006189\n",
       "disp            9.124885  2.223738  3.020742\n",
       "basic          11.655536  2.630010  3.414020\n",
       "basic_sklearn  11.655536  2.630010  3.414020"
      ]
     },
     "execution_count": 92,
     "metadata": {},
     "output_type": "execute_result"
    },
    {
     "data": {
      "image/png": "[encoded data removed]",
      "text/plain": [
       "<Figure size 432x288 with 1 Axes>"
      ]
     },
     "metadata": {
      "needs_background": "light"
     },
     "output_type": "display_data"
    }
   ],
   "source": [
    "# model = LinearRegression()\n",
    "# model.fit(phi_with_name(data), data[[\"mpg\"]])\n",
    "# evaluate_model(\"cont.+(d/c)+o+n\", model, phi_with_name, models)\n",
    "\n",
    "name, data['Yhat_name'] = train_model_with_phi(data, phi_with_name, data, Y)\n",
    "evaluate_and_plot_mpg(\"name\", data, y=\"mpg\", yhat=\"Yhat_name\")"
   ]
  },
  {
   "cell_type": "markdown",
   "id": "2e6e24b8",
   "metadata": {},
   "source": [
    "## 8.4 Quick Reflection\n",
    "\n",
    "Notice that as we added more features we were able to improve the accuracy of our model.  This is not always a good thing and we will see the problems associated with this in a future lecture.  \n",
    "\n",
    "It is also worth noting that our feature functions each depended on the last and the in some cases we were converting sparse features to dense features.  There is a better way to deal with feature pipelines using the scikit-learn pipelines module.  "
   ]
  },
  {
   "cell_type": "markdown",
   "id": "fa8f12b6",
   "metadata": {},
   "source": [
    "## Success!!!!!"
   ]
  },
  {
   "cell_type": "markdown",
   "id": "376ff51e",
   "metadata": {},
   "source": [
    "# Appendix A"
   ]
  },
  {
   "cell_type": "code",
   "execution_count": 53,
   "id": "f18767d7",
   "metadata": {},
   "outputs": [],
   "source": [
    "import matplotlib.pyplot as plt\n",
    "import numpy as np\n",
    "from sklearn.metrics import mean_squared_error, mean_absolute_error\n",
    "\n",
    "def plot_y_vs_yhat(df, y, yhat):\n",
    "    plt.figure()\n",
    "    Y, Yhat = df[y], df[yhat]\n",
    "    plt.scatter(Yhat, Y, label='(yhat, y)')\n",
    "    cmin, cmax = max(Yhat.min(), Y.min()), min(Yhat.max(), Y.max())\n",
    "    plt.plot([cmin, cmax], [cmin, cmax], color='red', label='y=yhat')\n",
    "    plt.legend()\n",
    "\n",
    "def plot_predictions(df, x, y, yhat):\n",
    "    plt.figure()\n",
    "    X, Y, Yhat = df[x], df[y], df[yhat]\n",
    "    plt.plot(X, Y, label='ground truth')\n",
    "    plt.plot(X, Yhat, label='prediction')\n",
    "    plt.legend()\n",
    "\n",
    "def plot_predictions_over_time(df, x, y, yhat):\n",
    "    time = df.groupby(by='time').agg('mean').reset_index()\n",
    "    plot_predictions(time, x, y, yhat)\n",
    "\n",
    "def evaluate(df, y, yhat):\n",
    "    \"\"\"Compute and print error metrics\"\"\"\n",
    "    Y, Yhat = df[y], df[yhat]\n",
    "    metrics = {\n",
    "        'MSE': mean_squared_error(Y, Yhat),\n",
    "        'MAE': mean_absolute_error(Y, Yhat),\n",
    "        'RMSE': np.sqrt(mean_squared_error(Y, Yhat)),\n",
    "    }\n",
    "    print(\"Mean Squared Error:\", metrics['MSE'])\n",
    "    print(\"Mean Absolute Error:\", metrics['MAE'])\n",
    "    print(\"Root Mean Squared Error:\", metrics['RMSE'])\n",
    "    return metrics"
   ]
  },
  {
   "cell_type": "code",
   "execution_count": null,
   "id": "7780c9b3",
   "metadata": {},
   "outputs": [],
   "source": []
  }
 ],
 "metadata": {
  "kernelspec": {
   "display_name": "Python 3 (ipykernel)",
   "language": "python",
   "name": "python3"
  },
  "language_info": {
   "codemirror_mode": {
    "name": "ipython",
    "version": 3
   },
   "file_extension": ".py",
   "mimetype": "text/x-python",
   "name": "python",
   "nbconvert_exporter": "python",
   "pygments_lexer": "ipython3",
   "version": "3.9.7"
  }
 },
 "nbformat": 4,
 "nbformat_minor": 5
}
