{
 "cells": [
  {
   "cell_type": "code",
   "execution_count": 49,
   "id": "aaf08b9b",
   "metadata": {},
   "outputs": [],
   "source": [
    "import numpy as np\n",
    "import pandas as pd\n",
    "import matplotlib.pyplot as plt"
   ]
  },
  {
   "cell_type": "markdown",
   "id": "0396ed81",
   "metadata": {},
   "source": [
    "# Fitting Linear Models with Numpy\n",
    "\n",
    "Notebook by Joseph E. Gonzalez, Alvin Wan\n",
    "\n",
    "In this notebook we briefly review the normal equations, evaluation metrics, and describe methods to visualize model fit. **Our goal is to predict average movement speed at a given a time and place.**\n",
    "\n",
    "Given a model of the form: \n",
    "\n",
    "$$\n",
    "\\hat{\\mathbb{Y}} = f_\\theta(\\mathbb{X}) = \\mathbb{X} \\theta\n",
    "$$\n",
    "\n",
    "and taking the average squared loss over our data:\n",
    "\n",
    "$$\n",
    "R(\\theta) = \\frac{1}{n}\\sum_{i=1}^n \\left(\\mathbb{Y}_i - (\\mathbb{X}\\theta)_i\\right)^2\n",
    "$$\n",
    "\n",
    "In lecture, we showed that the $\\hat{\\theta}$ that minimizes this loss:\n",
    "\n",
    "$$\n",
    "\\hat{\\theta} = \\arg\\min_\\theta R(\\theta)\n",
    "$$\n",
    "\n",
    "is given by the solution to the normal equations:\n",
    "\n",
    "$$\n",
    " \\hat{\\theta} = \\left( \\mathbb{X}^T \\mathbb{X} \\right)^{-1} \\mathbb{X}^T \\mathbb{Y}\n",
    "$$\n",
    "\n",
    "We will use numpy to compute and use this theta below.\n",
    "\n",
    "Notebook by Joseph E. Gonzalez, Alvin Wan"
   ]
  },
  {
   "cell_type": "markdown",
   "id": "bd818067",
   "metadata": {},
   "source": [
    "# 1. Load Uber Movement Speeds Dataset\n",
    "\n",
    "To enable easy visualization of the model fitting process we will use a simple traffic speeds dataset, provided by Uber at https://movement.uber.com/cities/san_francisco/downloads/speeds?lang=en-US"
   ]
  },
  {
   "cell_type": "code",
   "execution_count": 12,
   "id": "09cf5aec",
   "metadata": {},
   "outputs": [
    {
     "data": {
      "text/html": [
       "<div>\n",
       "<style scoped>\n",
       "    .dataframe tbody tr th:only-of-type {\n",
       "        vertical-align: middle;\n",
       "    }\n",
       "\n",
       "    .dataframe tbody tr th {\n",
       "        vertical-align: top;\n",
       "    }\n",
       "\n",
       "    .dataframe thead th {\n",
       "        text-align: right;\n",
       "    }\n",
       "</style>\n",
       "<table border=\"1\" class=\"dataframe\">\n",
       "  <thead>\n",
       "    <tr style=\"text-align: right;\">\n",
       "      <th></th>\n",
       "      <th>day</th>\n",
       "      <th>hour</th>\n",
       "      <th>osm_way_id</th>\n",
       "      <th>speed_mph_mean</th>\n",
       "      <th>speed_mph_stddev</th>\n",
       "      <th>Latitude</th>\n",
       "      <th>Longitude</th>\n",
       "    </tr>\n",
       "  </thead>\n",
       "  <tbody>\n",
       "    <tr>\n",
       "      <th>0</th>\n",
       "      <td>4</td>\n",
       "      <td>11</td>\n",
       "      <td>515486318</td>\n",
       "      <td>10.127</td>\n",
       "      <td>8.503</td>\n",
       "      <td>37.779522</td>\n",
       "      <td>-122.406901</td>\n",
       "    </tr>\n",
       "    <tr>\n",
       "      <th>1</th>\n",
       "      <td>1</td>\n",
       "      <td>12</td>\n",
       "      <td>515486318</td>\n",
       "      <td>11.217</td>\n",
       "      <td>9.453</td>\n",
       "      <td>37.779522</td>\n",
       "      <td>-122.406901</td>\n",
       "    </tr>\n",
       "    <tr>\n",
       "      <th>2</th>\n",
       "      <td>2</td>\n",
       "      <td>23</td>\n",
       "      <td>515486318</td>\n",
       "      <td>12.924</td>\n",
       "      <td>11.087</td>\n",
       "      <td>37.779522</td>\n",
       "      <td>-122.406901</td>\n",
       "    </tr>\n",
       "    <tr>\n",
       "      <th>3</th>\n",
       "      <td>1</td>\n",
       "      <td>0</td>\n",
       "      <td>515486318</td>\n",
       "      <td>13.827</td>\n",
       "      <td>9.969</td>\n",
       "      <td>37.779522</td>\n",
       "      <td>-122.406901</td>\n",
       "    </tr>\n",
       "    <tr>\n",
       "      <th>4</th>\n",
       "      <td>5</td>\n",
       "      <td>1</td>\n",
       "      <td>515486318</td>\n",
       "      <td>14.770</td>\n",
       "      <td>12.378</td>\n",
       "      <td>37.779522</td>\n",
       "      <td>-122.406901</td>\n",
       "    </tr>\n",
       "  </tbody>\n",
       "</table>\n",
       "</div>"
      ],
      "text/plain": [
       "   day  hour  osm_way_id  speed_mph_mean  speed_mph_stddev   Latitude  \\\n",
       "0    4    11   515486318          10.127             8.503  37.779522   \n",
       "1    1    12   515486318          11.217             9.453  37.779522   \n",
       "2    2    23   515486318          12.924            11.087  37.779522   \n",
       "3    1     0   515486318          13.827             9.969  37.779522   \n",
       "4    5     1   515486318          14.770            12.378  37.779522   \n",
       "\n",
       "    Longitude  \n",
       "0 -122.406901  \n",
       "1 -122.406901  \n",
       "2 -122.406901  \n",
       "3 -122.406901  \n",
       "4 -122.406901  "
      ]
     },
     "execution_count": 12,
     "metadata": {},
     "output_type": "execute_result"
    }
   ],
   "source": [
    "df = pd.read_csv(\"data/movement-speeds-hourly-mar1to8-rand10ways-san-francisco-2020-3.csv\")\n",
    "df.head()"
   ]
  },
  {
   "cell_type": "markdown",
   "id": "0deab794",
   "metadata": {},
   "source": [
    "Compute an absolute time reference, using the day and hour. Times will start at 0--representing March 1, 2020 12-1 AM--incrementing by 1 at a time until 192--representing March 8, 2020 11 PM - 12 AM."
   ]
  },
  {
   "cell_type": "code",
   "execution_count": 13,
   "id": "bfdc06f1",
   "metadata": {},
   "outputs": [
    {
     "data": {
      "text/html": [
       "<div>\n",
       "<style scoped>\n",
       "    .dataframe tbody tr th:only-of-type {\n",
       "        vertical-align: middle;\n",
       "    }\n",
       "\n",
       "    .dataframe tbody tr th {\n",
       "        vertical-align: top;\n",
       "    }\n",
       "\n",
       "    .dataframe thead th {\n",
       "        text-align: right;\n",
       "    }\n",
       "</style>\n",
       "<table border=\"1\" class=\"dataframe\">\n",
       "  <thead>\n",
       "    <tr style=\"text-align: right;\">\n",
       "      <th></th>\n",
       "      <th>day</th>\n",
       "      <th>hour</th>\n",
       "      <th>osm_way_id</th>\n",
       "      <th>speed_mph_mean</th>\n",
       "      <th>speed_mph_stddev</th>\n",
       "      <th>Latitude</th>\n",
       "      <th>Longitude</th>\n",
       "      <th>time</th>\n",
       "    </tr>\n",
       "  </thead>\n",
       "  <tbody>\n",
       "    <tr>\n",
       "      <th>116977</th>\n",
       "      <td>1</td>\n",
       "      <td>0</td>\n",
       "      <td>598020854</td>\n",
       "      <td>17.064</td>\n",
       "      <td>9.101</td>\n",
       "      <td>37.798169</td>\n",
       "      <td>-122.404337</td>\n",
       "      <td>0</td>\n",
       "    </tr>\n",
       "    <tr>\n",
       "      <th>121508</th>\n",
       "      <td>1</td>\n",
       "      <td>0</td>\n",
       "      <td>620535183</td>\n",
       "      <td>30.618</td>\n",
       "      <td>5.563</td>\n",
       "      <td>37.893175</td>\n",
       "      <td>-122.530579</td>\n",
       "      <td>0</td>\n",
       "    </tr>\n",
       "    <tr>\n",
       "      <th>28117</th>\n",
       "      <td>1</td>\n",
       "      <td>0</td>\n",
       "      <td>184255666</td>\n",
       "      <td>8.885</td>\n",
       "      <td>9.945</td>\n",
       "      <td>37.711521</td>\n",
       "      <td>-122.455590</td>\n",
       "      <td>0</td>\n",
       "    </tr>\n",
       "    <tr>\n",
       "      <th>121273</th>\n",
       "      <td>1</td>\n",
       "      <td>0</td>\n",
       "      <td>513702094</td>\n",
       "      <td>59.773</td>\n",
       "      <td>6.543</td>\n",
       "      <td>37.732805</td>\n",
       "      <td>-122.404772</td>\n",
       "      <td>0</td>\n",
       "    </tr>\n",
       "    <tr>\n",
       "      <th>121178</th>\n",
       "      <td>1</td>\n",
       "      <td>0</td>\n",
       "      <td>394558807</td>\n",
       "      <td>10.600</td>\n",
       "      <td>6.313</td>\n",
       "      <td>37.773167</td>\n",
       "      <td>-122.407792</td>\n",
       "      <td>0</td>\n",
       "    </tr>\n",
       "  </tbody>\n",
       "</table>\n",
       "</div>"
      ],
      "text/plain": [
       "        day  hour  osm_way_id  speed_mph_mean  speed_mph_stddev   Latitude  \\\n",
       "116977    1     0   598020854          17.064             9.101  37.798169   \n",
       "121508    1     0   620535183          30.618             5.563  37.893175   \n",
       "28117     1     0   184255666           8.885             9.945  37.711521   \n",
       "121273    1     0   513702094          59.773             6.543  37.732805   \n",
       "121178    1     0   394558807          10.600             6.313  37.773167   \n",
       "\n",
       "         Longitude  time  \n",
       "116977 -122.404337     0  \n",
       "121508 -122.530579     0  \n",
       "28117  -122.455590     0  \n",
       "121273 -122.404772     0  \n",
       "121178 -122.407792     0  "
      ]
     },
     "execution_count": 13,
     "metadata": {},
     "output_type": "execute_result"
    }
   ],
   "source": [
    "df['time'] = (df['day'] - 1) * 24 + df['hour']\n",
    "df = df.sort_values(by='time')\n",
    "df.head()"
   ]
  },
  {
   "cell_type": "markdown",
   "id": "1c7dd5a2",
   "metadata": {},
   "source": [
    "Plot the average movement speed over time, aggregating across all locations."
   ]
  },
  {
   "cell_type": "code",
   "execution_count": 14,
   "id": "e340e0c0",
   "metadata": {
    "scrolled": true
   },
   "outputs": [
    {
     "data": {
      "text/plain": [
       "[<matplotlib.lines.Line2D at 0x7f83658ca4c0>]"
      ]
     },
     "execution_count": 14,
     "metadata": {},
     "output_type": "execute_result"
    },
    {
     "data": {
      "image/png": "[encoded data removed]",
      "text/plain": [
       "<Figure size 432x288 with 1 Axes>"
      ]
     },
     "metadata": {
      "needs_background": "light"
     },
     "output_type": "display_data"
    }
   ],
   "source": [
    "time = df.groupby(by=['time']).agg('mean').reset_index()\n",
    "plt.plot(time['time'], time['speed_mph_mean'])"
   ]
  },
  {
   "cell_type": "markdown",
   "id": "8e579da9",
   "metadata": {},
   "source": [
    "Now we see that on average, across all streets, speeds are roughly periodic. Let's check a random street to see if this holds for individual streets."
   ]
  },
  {
   "cell_type": "code",
   "execution_count": 15,
   "id": "fb6835be",
   "metadata": {},
   "outputs": [
    {
     "data": {
      "text/plain": [
       "[<matplotlib.lines.Line2D at 0x7f83658386d0>]"
      ]
     },
     "execution_count": 15,
     "metadata": {},
     "output_type": "execute_result"
    },
    {
     "data": {
      "image/png": "[encoded data removed]",
      "text/plain": [
       "<Figure size 432x288 with 1 Axes>"
      ]
     },
     "metadata": {
      "needs_background": "light"
     },
     "output_type": "display_data"
    }
   ],
   "source": [
    "sample = df[df['osm_way_id'] == 598020854]\n",
    "plt.plot(sample['time'], sample['speed_mph_mean'])"
   ]
  },
  {
   "cell_type": "markdown",
   "id": "96123086",
   "metadata": {},
   "source": [
    "# 2. Fit OLS Model using numpy"
   ]
  },
  {
   "cell_type": "markdown",
   "id": "e3783d69",
   "metadata": {},
   "source": [
    "## 2.a Solve OLS\n",
    "\n",
    "We can directly implement this expression using standard linear algebra routines. For now, we will train a naive model that predicts movement speed given only time:"
   ]
  },
  {
   "cell_type": "code",
   "execution_count": 16,
   "id": "cefd44cd",
   "metadata": {},
   "outputs": [],
   "source": [
    "X, Y = df[['time']], df[[\"speed_mph_mean\"]]"
   ]
  },
  {
   "cell_type": "code",
   "execution_count": 50,
   "id": "1e870720",
   "metadata": {},
   "outputs": [
    {
     "data": {
      "text/html": [
       "<div>\n",
       "<style scoped>\n",
       "    .dataframe tbody tr th:only-of-type {\n",
       "        vertical-align: middle;\n",
       "    }\n",
       "\n",
       "    .dataframe tbody tr th {\n",
       "        vertical-align: top;\n",
       "    }\n",
       "\n",
       "    .dataframe thead th {\n",
       "        text-align: right;\n",
       "    }\n",
       "</style>\n",
       "<table border=\"1\" class=\"dataframe\">\n",
       "  <thead>\n",
       "    <tr style=\"text-align: right;\">\n",
       "      <th></th>\n",
       "      <th>speed_mph_mean</th>\n",
       "    </tr>\n",
       "  </thead>\n",
       "  <tbody>\n",
       "    <tr>\n",
       "      <th>0</th>\n",
       "      <td>0.216202</td>\n",
       "    </tr>\n",
       "  </tbody>\n",
       "</table>\n",
       "</div>"
      ],
      "text/plain": [
       "   speed_mph_mean\n",
       "0        0.216202"
      ]
     },
     "execution_count": 50,
     "metadata": {},
     "output_type": "execute_result"
    }
   ],
   "source": [
    "from numpy.linalg import inv\n",
    "theta = inv(X.T @ X) @ X.T @ Y\n",
    "theta"
   ]
  },
  {
   "cell_type": "markdown",
   "id": "66107900",
   "metadata": {},
   "source": [
    "## 2.b Predict with OLS\n",
    "\n",
    "We can use our $\\hat{\\theta}$ to make predictions:\n",
    "\n",
    "$$\n",
    "\\hat{\\mathbb{Y}} = \\mathbb{X} \\hat{\\theta}\n",
    "$$"
   ]
  },
  {
   "cell_type": "code",
   "execution_count": 46,
   "id": "50131b4a",
   "metadata": {},
   "outputs": [
    {
     "data": {
      "text/html": [
       "<div>\n",
       "<style scoped>\n",
       "    .dataframe tbody tr th:only-of-type {\n",
       "        vertical-align: middle;\n",
       "    }\n",
       "\n",
       "    .dataframe tbody tr th {\n",
       "        vertical-align: top;\n",
       "    }\n",
       "\n",
       "    .dataframe thead th {\n",
       "        text-align: right;\n",
       "    }\n",
       "</style>\n",
       "<table border=\"1\" class=\"dataframe\">\n",
       "  <thead>\n",
       "    <tr style=\"text-align: right;\">\n",
       "      <th></th>\n",
       "      <th>day</th>\n",
       "      <th>hour</th>\n",
       "      <th>osm_way_id</th>\n",
       "      <th>speed_mph_mean</th>\n",
       "      <th>speed_mph_stddev</th>\n",
       "      <th>Latitude</th>\n",
       "      <th>Longitude</th>\n",
       "      <th>time</th>\n",
       "      <th>Yhat</th>\n",
       "      <th>residuals</th>\n",
       "      <th>ones</th>\n",
       "      <th>Yhat2</th>\n",
       "      <th>residuals2</th>\n",
       "    </tr>\n",
       "  </thead>\n",
       "  <tbody>\n",
       "    <tr>\n",
       "      <th>116977</th>\n",
       "      <td>1</td>\n",
       "      <td>0</td>\n",
       "      <td>598020854</td>\n",
       "      <td>17.064</td>\n",
       "      <td>9.101</td>\n",
       "      <td>37.798169</td>\n",
       "      <td>-122.404337</td>\n",
       "      <td>0</td>\n",
       "      <td>0.000000</td>\n",
       "      <td>17.064000</td>\n",
       "      <td>1</td>\n",
       "      <td>26.047099</td>\n",
       "      <td>-8.983099</td>\n",
       "    </tr>\n",
       "    <tr>\n",
       "      <th>121508</th>\n",
       "      <td>1</td>\n",
       "      <td>0</td>\n",
       "      <td>620535183</td>\n",
       "      <td>30.618</td>\n",
       "      <td>5.563</td>\n",
       "      <td>37.893175</td>\n",
       "      <td>-122.530579</td>\n",
       "      <td>0</td>\n",
       "      <td>0.000000</td>\n",
       "      <td>30.618000</td>\n",
       "      <td>1</td>\n",
       "      <td>26.047099</td>\n",
       "      <td>4.570901</td>\n",
       "    </tr>\n",
       "    <tr>\n",
       "      <th>28117</th>\n",
       "      <td>1</td>\n",
       "      <td>0</td>\n",
       "      <td>184255666</td>\n",
       "      <td>8.885</td>\n",
       "      <td>9.945</td>\n",
       "      <td>37.711521</td>\n",
       "      <td>-122.455590</td>\n",
       "      <td>0</td>\n",
       "      <td>0.000000</td>\n",
       "      <td>8.885000</td>\n",
       "      <td>1</td>\n",
       "      <td>26.047099</td>\n",
       "      <td>-17.162099</td>\n",
       "    </tr>\n",
       "    <tr>\n",
       "      <th>121273</th>\n",
       "      <td>1</td>\n",
       "      <td>0</td>\n",
       "      <td>513702094</td>\n",
       "      <td>59.773</td>\n",
       "      <td>6.543</td>\n",
       "      <td>37.732805</td>\n",
       "      <td>-122.404772</td>\n",
       "      <td>0</td>\n",
       "      <td>0.000000</td>\n",
       "      <td>59.773000</td>\n",
       "      <td>1</td>\n",
       "      <td>26.047099</td>\n",
       "      <td>33.725901</td>\n",
       "    </tr>\n",
       "    <tr>\n",
       "      <th>121178</th>\n",
       "      <td>1</td>\n",
       "      <td>0</td>\n",
       "      <td>394558807</td>\n",
       "      <td>10.600</td>\n",
       "      <td>6.313</td>\n",
       "      <td>37.773167</td>\n",
       "      <td>-122.407792</td>\n",
       "      <td>0</td>\n",
       "      <td>0.000000</td>\n",
       "      <td>10.600000</td>\n",
       "      <td>1</td>\n",
       "      <td>26.047099</td>\n",
       "      <td>-15.447099</td>\n",
       "    </tr>\n",
       "    <tr>\n",
       "      <th>...</th>\n",
       "      <td>...</td>\n",
       "      <td>...</td>\n",
       "      <td>...</td>\n",
       "      <td>...</td>\n",
       "      <td>...</td>\n",
       "      <td>...</td>\n",
       "      <td>...</td>\n",
       "      <td>...</td>\n",
       "      <td>...</td>\n",
       "      <td>...</td>\n",
       "      <td>...</td>\n",
       "      <td>...</td>\n",
       "      <td>...</td>\n",
       "    </tr>\n",
       "    <tr>\n",
       "      <th>13070</th>\n",
       "      <td>7</td>\n",
       "      <td>23</td>\n",
       "      <td>32929983</td>\n",
       "      <td>25.072</td>\n",
       "      <td>4.717</td>\n",
       "      <td>37.767946</td>\n",
       "      <td>-122.425559</td>\n",
       "      <td>167</td>\n",
       "      <td>36.105756</td>\n",
       "      <td>-11.033756</td>\n",
       "      <td>1</td>\n",
       "      <td>24.323712</td>\n",
       "      <td>0.748288</td>\n",
       "    </tr>\n",
       "    <tr>\n",
       "      <th>128232</th>\n",
       "      <td>7</td>\n",
       "      <td>23</td>\n",
       "      <td>158602255</td>\n",
       "      <td>12.814</td>\n",
       "      <td>4.462</td>\n",
       "      <td>37.771837</td>\n",
       "      <td>-122.481757</td>\n",
       "      <td>167</td>\n",
       "      <td>36.105756</td>\n",
       "      <td>-23.291756</td>\n",
       "      <td>1</td>\n",
       "      <td>24.323712</td>\n",
       "      <td>-11.509712</td>\n",
       "    </tr>\n",
       "    <tr>\n",
       "      <th>35056</th>\n",
       "      <td>7</td>\n",
       "      <td>23</td>\n",
       "      <td>530592670</td>\n",
       "      <td>18.134</td>\n",
       "      <td>3.869</td>\n",
       "      <td>37.764794</td>\n",
       "      <td>-122.424052</td>\n",
       "      <td>167</td>\n",
       "      <td>36.105756</td>\n",
       "      <td>-17.971756</td>\n",
       "      <td>1</td>\n",
       "      <td>24.323712</td>\n",
       "      <td>-6.189712</td>\n",
       "    </tr>\n",
       "    <tr>\n",
       "      <th>17504</th>\n",
       "      <td>7</td>\n",
       "      <td>23</td>\n",
       "      <td>89802405</td>\n",
       "      <td>17.917</td>\n",
       "      <td>4.076</td>\n",
       "      <td>37.757981</td>\n",
       "      <td>-122.476769</td>\n",
       "      <td>167</td>\n",
       "      <td>36.105756</td>\n",
       "      <td>-18.188756</td>\n",
       "      <td>1</td>\n",
       "      <td>24.323712</td>\n",
       "      <td>-6.406712</td>\n",
       "    </tr>\n",
       "    <tr>\n",
       "      <th>33498</th>\n",
       "      <td>7</td>\n",
       "      <td>23</td>\n",
       "      <td>86303758</td>\n",
       "      <td>7.418</td>\n",
       "      <td>4.815</td>\n",
       "      <td>37.782963</td>\n",
       "      <td>-122.420317</td>\n",
       "      <td>167</td>\n",
       "      <td>36.105756</td>\n",
       "      <td>-28.687756</td>\n",
       "      <td>1</td>\n",
       "      <td>24.323712</td>\n",
       "      <td>-16.905712</td>\n",
       "    </tr>\n",
       "  </tbody>\n",
       "</table>\n",
       "<p>154845 rows × 13 columns</p>\n",
       "</div>"
      ],
      "text/plain": [
       "        day  hour  osm_way_id  speed_mph_mean  speed_mph_stddev   Latitude  \\\n",
       "116977    1     0   598020854          17.064             9.101  37.798169   \n",
       "121508    1     0   620535183          30.618             5.563  37.893175   \n",
       "28117     1     0   184255666           8.885             9.945  37.711521   \n",
       "121273    1     0   513702094          59.773             6.543  37.732805   \n",
       "121178    1     0   394558807          10.600             6.313  37.773167   \n",
       "...     ...   ...         ...             ...               ...        ...   \n",
       "13070     7    23    32929983          25.072             4.717  37.767946   \n",
       "128232    7    23   158602255          12.814             4.462  37.771837   \n",
       "35056     7    23   530592670          18.134             3.869  37.764794   \n",
       "17504     7    23    89802405          17.917             4.076  37.757981   \n",
       "33498     7    23    86303758           7.418             4.815  37.782963   \n",
       "\n",
       "         Longitude  time       Yhat  residuals  ones      Yhat2  residuals2  \n",
       "116977 -122.404337     0   0.000000  17.064000     1  26.047099   -8.983099  \n",
       "121508 -122.530579     0   0.000000  30.618000     1  26.047099    4.570901  \n",
       "28117  -122.455590     0   0.000000   8.885000     1  26.047099  -17.162099  \n",
       "121273 -122.404772     0   0.000000  59.773000     1  26.047099   33.725901  \n",
       "121178 -122.407792     0   0.000000  10.600000     1  26.047099  -15.447099  \n",
       "...            ...   ...        ...        ...   ...        ...         ...  \n",
       "13070  -122.425559   167  36.105756 -11.033756     1  24.323712    0.748288  \n",
       "128232 -122.481757   167  36.105756 -23.291756     1  24.323712  -11.509712  \n",
       "35056  -122.424052   167  36.105756 -17.971756     1  24.323712   -6.189712  \n",
       "17504  -122.476769   167  36.105756 -18.188756     1  24.323712   -6.406712  \n",
       "33498  -122.420317   167  36.105756 -28.687756     1  24.323712  -16.905712  \n",
       "\n",
       "[154845 rows x 13 columns]"
      ]
     },
     "execution_count": 46,
     "metadata": {},
     "output_type": "execute_result"
    }
   ],
   "source": [
    "df[\"Yhat\"] = X @ theta.to_numpy()\n",
    "df"
   ]
  },
  {
   "cell_type": "markdown",
   "id": "7c75ab9a",
   "metadata": {},
   "source": [
    "## 2.c Evaluate OLS"
   ]
  },
  {
   "cell_type": "markdown",
   "id": "335e19c1",
   "metadata": {},
   "source": [
    "How good are our predictions? We can plot $Y$ vs $\\hat{Y}$"
   ]
  },
  {
   "cell_type": "code",
   "execution_count": 19,
   "id": "8092e4bd",
   "metadata": {},
   "outputs": [],
   "source": [
    "def plot_y_vs_yhat(df, y, yhat):\n",
    "    plt.figure()\n",
    "    Y, Yhat = df[y], df[yhat]\n",
    "    plt.scatter(Yhat, Y, label='(yhat, y)')\n",
    "    cmin, cmax = max(Yhat.min(), Y.min()), min(Yhat.max(), Y.max())\n",
    "    plt.plot([cmin, cmax], [cmin, cmax], color='red', label='y=yhat')\n",
    "    plt.legend()"
   ]
  },
  {
   "cell_type": "code",
   "execution_count": 20,
   "id": "3bb1718a",
   "metadata": {},
   "outputs": [
    {
     "data": {
      "image/png": "[encoded data removed]",
      "text/plain": [
       "<Figure size 432x288 with 1 Axes>"
      ]
     },
     "metadata": {
      "needs_background": "light"
     },
     "output_type": "display_data"
    }
   ],
   "source": [
    "plot_y_vs_yhat(df.sample(frac=0.01), y=\"speed_mph_mean\", yhat=\"Yhat\")"
   ]
  },
  {
   "cell_type": "markdown",
   "id": "7053fd29",
   "metadata": {},
   "source": [
    "We can also plot the distribution of residuals, or $\\mathbb{Y}_i - \\hat{\\mathbb{Y}}_i$"
   ]
  },
  {
   "cell_type": "code",
   "execution_count": 21,
   "id": "797efef4",
   "metadata": {},
   "outputs": [
    {
     "data": {
      "image/png": "[encoded data removed]",
      "text/plain": [
       "<Figure size 432x288 with 1 Axes>"
      ]
     },
     "metadata": {
      "needs_background": "light"
     },
     "output_type": "display_data"
    }
   ],
   "source": [
    "df['residuals'] = df['speed_mph_mean'] - df['Yhat']\n",
    "_ = plt.hist(df.sample(frac=0.01)['residuals'], bins=100)"
   ]
  },
  {
   "cell_type": "markdown",
   "id": "b667efe7",
   "metadata": {},
   "source": [
    "The bulk of your residuals lie between [-15, 20], qualitatively speaking. To quantify this, we'll compute the average squared loss, or $R(\\theta)$ as defined above."
   ]
  },
  {
   "cell_type": "code",
   "execution_count": 22,
   "id": "a48bb612",
   "metadata": {},
   "outputs": [
    {
     "data": {
      "text/plain": [
       "345.7599169832484"
      ]
     },
     "execution_count": 22,
     "metadata": {},
     "output_type": "execute_result"
    }
   ],
   "source": [
    "(df['residuals'] ** 2.).mean()"
   ]
  },
  {
   "cell_type": "markdown",
   "id": "1f34bafd",
   "metadata": {},
   "source": [
    "To understand how to improve this error, let's visualize our predictions."
   ]
  },
  {
   "cell_type": "markdown",
   "id": "5ae3c170",
   "metadata": {},
   "source": [
    "## 4. Visualize OLS Predictions\n",
    "\n",
    "Let's visualize the predictions along the time dimension."
   ]
  },
  {
   "cell_type": "code",
   "execution_count": 23,
   "id": "41ddbd0a",
   "metadata": {},
   "outputs": [],
   "source": [
    "def plot_predictions(df, x, y, yhat):\n",
    "    plt.figure()\n",
    "    X, Y, Yhat = df[x], df[y], df[yhat]\n",
    "    plt.plot(X, Y, label='ground truth')\n",
    "    plt.plot(X, Yhat, label='prediction')\n",
    "    plt.legend()"
   ]
  },
  {
   "cell_type": "code",
   "execution_count": 24,
   "id": "728a5444",
   "metadata": {},
   "outputs": [],
   "source": [
    "def plot_predictions_over_time(df, x, y, yhat):\n",
    "    time = df.groupby(by='time').agg('mean').reset_index()\n",
    "    plot_predictions(time, x, y, yhat)"
   ]
  },
  {
   "cell_type": "code",
   "execution_count": 25,
   "id": "7291dc0c",
   "metadata": {},
   "outputs": [
    {
     "data": {
      "image/png": "[encoded data removed]",
      "text/plain": [
       "<Figure size 432x288 with 1 Axes>"
      ]
     },
     "metadata": {
      "needs_background": "light"
     },
     "output_type": "display_data"
    }
   ],
   "source": [
    "plot_predictions_over_time(df, x='time', y='speed_mph_mean', yhat='Yhat')"
   ]
  },
  {
   "cell_type": "markdown",
   "id": "c105f24e",
   "metadata": {},
   "source": [
    "Notice that the plane is constrained to pass through the origin.  To fix this, we will need to add a constant term to the model."
   ]
  },
  {
   "cell_type": "markdown",
   "id": "b2e52d35",
   "metadata": {},
   "source": [
    "# 3. Fit Biased OLS\n",
    "\n",
    "Adding a constant term $c$ to our model, we get\n",
    "\n",
    "$$\n",
    "\\hat{\\mathbb{Y}} = f_\\theta(\\mathbb{X}) = \\mathbb{X} \\theta + b\n",
    "$$\n",
    "\n",
    "Note we can write out the following equivalence:\n",
    "\n",
    "$$\n",
    "\\mathbb{X} \\theta + c = [\\mathbb{X}, 1]\\begin{bmatrix}\\theta \\\\ b\\end{bmatrix} = \\phi(\\mathbb{X}) \\theta_2\n",
    "$$\n",
    "\n",
    "where $\\theta_2 = [\\theta, b]$ and $\\phi(\\mathbb{X}) = [\\mathbb{X}, 1]$. Since $b$ and $\\theta$ are both model weights, we can simply define a new $\\theta_2$. We also define $\\phi(\\mathbb{X})$ to be the original data matrix $\\mathbb{X}$, except with a column of constant 1s."
   ]
  },
  {
   "cell_type": "code",
   "execution_count": 39,
   "id": "6e74da78",
   "metadata": {},
   "outputs": [],
   "source": [
    "def phi(X):\n",
    "    return np.hstack([\n",
    "        X,\n",
    "        np.ones((X.shape[0], 1))\n",
    "    ])"
   ]
  },
  {
   "cell_type": "code",
   "execution_count": 42,
   "id": "1587785c",
   "metadata": {},
   "outputs": [
    {
     "data": {
      "text/plain": [
       "array([[  0.,   1.],\n",
       "       [  0.,   1.],\n",
       "       [  0.,   1.],\n",
       "       ...,\n",
       "       [167.,   1.],\n",
       "       [167.,   1.],\n",
       "       [167.,   1.]])"
      ]
     },
     "execution_count": 42,
     "metadata": {},
     "output_type": "execute_result"
    }
   ],
   "source": [
    "phi(X) # construct \\phi(X), which is the original data matrix X, with a column of constant 1s"
   ]
  },
  {
   "cell_type": "markdown",
   "id": "a1ec9712",
   "metadata": {},
   "source": [
    "## 3.a Solve Biased OLS"
   ]
  },
  {
   "cell_type": "markdown",
   "id": "da9c2f48",
   "metadata": {},
   "source": [
    "We can solve this least squares problem just like we did before."
   ]
  },
  {
   "cell_type": "code",
   "execution_count": 47,
   "id": "67695f26",
   "metadata": {},
   "outputs": [
    {
     "data": {
      "text/html": [
       "<div>\n",
       "<style scoped>\n",
       "    .dataframe tbody tr th:only-of-type {\n",
       "        vertical-align: middle;\n",
       "    }\n",
       "\n",
       "    .dataframe tbody tr th {\n",
       "        vertical-align: top;\n",
       "    }\n",
       "\n",
       "    .dataframe thead th {\n",
       "        text-align: right;\n",
       "    }\n",
       "</style>\n",
       "<table border=\"1\" class=\"dataframe\">\n",
       "  <thead>\n",
       "    <tr style=\"text-align: right;\">\n",
       "      <th></th>\n",
       "      <th>speed_mph_mean</th>\n",
       "    </tr>\n",
       "  </thead>\n",
       "  <tbody>\n",
       "    <tr>\n",
       "      <th>0</th>\n",
       "      <td>-0.010320</td>\n",
       "    </tr>\n",
       "    <tr>\n",
       "      <th>1</th>\n",
       "      <td>26.047099</td>\n",
       "    </tr>\n",
       "  </tbody>\n",
       "</table>\n",
       "</div>"
      ],
      "text/plain": [
       "   speed_mph_mean\n",
       "0       -0.010320\n",
       "1       26.047099"
      ]
     },
     "execution_count": 47,
     "metadata": {},
     "output_type": "execute_result"
    }
   ],
   "source": [
    "theta2 = inv(phi(X).T @ phi(X)) @ phi(X).T @ Y\n",
    "theta2"
   ]
  },
  {
   "cell_type": "markdown",
   "id": "81b95629",
   "metadata": {},
   "source": [
    "## 3.b Predict with Biased OLS"
   ]
  },
  {
   "cell_type": "markdown",
   "id": "20103b79",
   "metadata": {},
   "source": [
    "Make predictions like we did before. Notice we have to featurize X here with $\\phi$ as well."
   ]
  },
  {
   "cell_type": "code",
   "execution_count": 48,
   "id": "f4fb5b3a",
   "metadata": {
    "scrolled": true
   },
   "outputs": [
    {
     "data": {
      "text/html": [
       "<div>\n",
       "<style scoped>\n",
       "    .dataframe tbody tr th:only-of-type {\n",
       "        vertical-align: middle;\n",
       "    }\n",
       "\n",
       "    .dataframe tbody tr th {\n",
       "        vertical-align: top;\n",
       "    }\n",
       "\n",
       "    .dataframe thead th {\n",
       "        text-align: right;\n",
       "    }\n",
       "</style>\n",
       "<table border=\"1\" class=\"dataframe\">\n",
       "  <thead>\n",
       "    <tr style=\"text-align: right;\">\n",
       "      <th></th>\n",
       "      <th>day</th>\n",
       "      <th>hour</th>\n",
       "      <th>osm_way_id</th>\n",
       "      <th>speed_mph_mean</th>\n",
       "      <th>speed_mph_stddev</th>\n",
       "      <th>Latitude</th>\n",
       "      <th>Longitude</th>\n",
       "      <th>time</th>\n",
       "      <th>Yhat</th>\n",
       "      <th>residuals</th>\n",
       "      <th>ones</th>\n",
       "      <th>Yhat2</th>\n",
       "      <th>residuals2</th>\n",
       "    </tr>\n",
       "  </thead>\n",
       "  <tbody>\n",
       "    <tr>\n",
       "      <th>116977</th>\n",
       "      <td>1</td>\n",
       "      <td>0</td>\n",
       "      <td>598020854</td>\n",
       "      <td>17.064</td>\n",
       "      <td>9.101</td>\n",
       "      <td>37.798169</td>\n",
       "      <td>-122.404337</td>\n",
       "      <td>0</td>\n",
       "      <td>0.0</td>\n",
       "      <td>17.064</td>\n",
       "      <td>1</td>\n",
       "      <td>26.047099</td>\n",
       "      <td>-8.983099</td>\n",
       "    </tr>\n",
       "    <tr>\n",
       "      <th>121508</th>\n",
       "      <td>1</td>\n",
       "      <td>0</td>\n",
       "      <td>620535183</td>\n",
       "      <td>30.618</td>\n",
       "      <td>5.563</td>\n",
       "      <td>37.893175</td>\n",
       "      <td>-122.530579</td>\n",
       "      <td>0</td>\n",
       "      <td>0.0</td>\n",
       "      <td>30.618</td>\n",
       "      <td>1</td>\n",
       "      <td>26.047099</td>\n",
       "      <td>4.570901</td>\n",
       "    </tr>\n",
       "    <tr>\n",
       "      <th>28117</th>\n",
       "      <td>1</td>\n",
       "      <td>0</td>\n",
       "      <td>184255666</td>\n",
       "      <td>8.885</td>\n",
       "      <td>9.945</td>\n",
       "      <td>37.711521</td>\n",
       "      <td>-122.455590</td>\n",
       "      <td>0</td>\n",
       "      <td>0.0</td>\n",
       "      <td>8.885</td>\n",
       "      <td>1</td>\n",
       "      <td>26.047099</td>\n",
       "      <td>-17.162099</td>\n",
       "    </tr>\n",
       "    <tr>\n",
       "      <th>121273</th>\n",
       "      <td>1</td>\n",
       "      <td>0</td>\n",
       "      <td>513702094</td>\n",
       "      <td>59.773</td>\n",
       "      <td>6.543</td>\n",
       "      <td>37.732805</td>\n",
       "      <td>-122.404772</td>\n",
       "      <td>0</td>\n",
       "      <td>0.0</td>\n",
       "      <td>59.773</td>\n",
       "      <td>1</td>\n",
       "      <td>26.047099</td>\n",
       "      <td>33.725901</td>\n",
       "    </tr>\n",
       "    <tr>\n",
       "      <th>121178</th>\n",
       "      <td>1</td>\n",
       "      <td>0</td>\n",
       "      <td>394558807</td>\n",
       "      <td>10.600</td>\n",
       "      <td>6.313</td>\n",
       "      <td>37.773167</td>\n",
       "      <td>-122.407792</td>\n",
       "      <td>0</td>\n",
       "      <td>0.0</td>\n",
       "      <td>10.600</td>\n",
       "      <td>1</td>\n",
       "      <td>26.047099</td>\n",
       "      <td>-15.447099</td>\n",
       "    </tr>\n",
       "  </tbody>\n",
       "</table>\n",
       "</div>"
      ],
      "text/plain": [
       "        day  hour  osm_way_id  speed_mph_mean  speed_mph_stddev   Latitude  \\\n",
       "116977    1     0   598020854          17.064             9.101  37.798169   \n",
       "121508    1     0   620535183          30.618             5.563  37.893175   \n",
       "28117     1     0   184255666           8.885             9.945  37.711521   \n",
       "121273    1     0   513702094          59.773             6.543  37.732805   \n",
       "121178    1     0   394558807          10.600             6.313  37.773167   \n",
       "\n",
       "         Longitude  time  Yhat  residuals  ones      Yhat2  residuals2  \n",
       "116977 -122.404337     0   0.0     17.064     1  26.047099   -8.983099  \n",
       "121508 -122.530579     0   0.0     30.618     1  26.047099    4.570901  \n",
       "28117  -122.455590     0   0.0      8.885     1  26.047099  -17.162099  \n",
       "121273 -122.404772     0   0.0     59.773     1  26.047099   33.725901  \n",
       "121178 -122.407792     0   0.0     10.600     1  26.047099  -15.447099  "
      ]
     },
     "execution_count": 48,
     "metadata": {},
     "output_type": "execute_result"
    }
   ],
   "source": [
    "df[\"Yhat2\"] = phi(X) @ theta2.to_numpy()\n",
    "df.head()"
   ]
  },
  {
   "cell_type": "markdown",
   "id": "0b05d921",
   "metadata": {},
   "source": [
    "## 3.c Evaluate Biased OLS\n",
    "\n",
    "Check your Yhat-vs-Y plot."
   ]
  },
  {
   "cell_type": "code",
   "execution_count": 30,
   "id": "9f79b6a0",
   "metadata": {},
   "outputs": [
    {
     "data": {
      "image/png": "[encoded data removed]",
      "text/plain": [
       "<Figure size 432x288 with 1 Axes>"
      ]
     },
     "metadata": {
      "needs_background": "light"
     },
     "output_type": "display_data"
    }
   ],
   "source": [
    "plot_y_vs_yhat(df.sample(frac=0.01), y=\"speed_mph_mean\", yhat=\"Yhat2\")"
   ]
  },
  {
   "cell_type": "markdown",
   "id": "153871f2",
   "metadata": {},
   "source": [
    "Still looks qualitatively bad. Check your residuals."
   ]
  },
  {
   "cell_type": "code",
   "execution_count": 31,
   "id": "9b6290d5",
   "metadata": {},
   "outputs": [
    {
     "data": {
      "image/png": "[encoded data removed]",
      "text/plain": [
       "<Figure size 432x288 with 1 Axes>"
      ]
     },
     "metadata": {
      "needs_background": "light"
     },
     "output_type": "display_data"
    }
   ],
   "source": [
    "df['residuals2'] = df['speed_mph_mean'] - df['Yhat2']\n",
    "_ = plt.hist(df.sample(frac=0.01)['residuals2'], bins=100)"
   ]
  },
  {
   "cell_type": "markdown",
   "id": "84dac486",
   "metadata": {},
   "source": [
    "Notice the bulk of your residuals now lie between [-10, 5], qualitatively much better than the previous model's residuals. Let's quantify this again, like before."
   ]
  },
  {
   "cell_type": "code",
   "execution_count": 32,
   "id": "b307a0fb",
   "metadata": {
    "scrolled": true
   },
   "outputs": [
    {
     "data": {
      "text/plain": [
       "186.9452032196651"
      ]
     },
     "execution_count": 32,
     "metadata": {},
     "output_type": "execute_result"
    }
   ],
   "source": [
    "(df['residuals2'] ** 2.).mean()"
   ]
  },
  {
   "cell_type": "markdown",
   "id": "76f3d51a",
   "metadata": {},
   "source": [
    "Much better: Our error before was 345. At 186, this is a 46% reduction in error! Like before, let's now visualize the model's predictions. Summary of our results so far:\n",
    "\n",
    "||MSE|\n",
    "|---|---|\n",
    "|**OLS**|346|\n",
    "|**Biased OLS**|187|"
   ]
  },
  {
   "cell_type": "markdown",
   "id": "e2878bf6",
   "metadata": {},
   "source": [
    "## 3.d Visualize Biased OLS Predictions\n",
    "\n",
    "Replot your new predictions."
   ]
  },
  {
   "cell_type": "code",
   "execution_count": 33,
   "id": "4a66a0ba",
   "metadata": {},
   "outputs": [
    {
     "data": {
      "image/png": "[encoded data removed]",
      "text/plain": [
       "<Figure size 432x288 with 1 Axes>"
      ]
     },
     "metadata": {
      "needs_background": "light"
     },
     "output_type": "display_data"
    }
   ],
   "source": [
    "plot_predictions_over_time(df, x='time', y='speed_mph_mean', yhat='Yhat2')"
   ]
  },
  {
   "cell_type": "markdown",
   "id": "8abac629",
   "metadata": {},
   "source": [
    "Looks great! Our new predictions (in green) much more closely match the data. To simplify the process let's switch to using the scikit-learn python library for our modeling."
   ]
  },
  {
   "cell_type": "markdown",
   "id": "b986c389",
   "metadata": {},
   "source": [
    "# Appendix A\n",
    "\n",
    "Random stuff I ended up removing from lecture material."
   ]
  },
  {
   "cell_type": "markdown",
   "id": "bbf13f9c",
   "metadata": {},
   "source": [
    "We can visualize the data in three dimensions:"
   ]
  },
  {
   "cell_type": "code",
   "execution_count": null,
   "id": "3021ac5d",
   "metadata": {},
   "outputs": [],
   "source": [
    "import plotly.express as px"
   ]
  },
  {
   "cell_type": "code",
   "execution_count": null,
   "id": "3ed2862b",
   "metadata": {},
   "outputs": [],
   "source": [
    "# prettier plotly plots\n",
    "time = df.groupby(by=['time']).agg('mean').reset_index()\n",
    "px.line(time, x='time', y='speed_mph_mean')"
   ]
  },
  {
   "cell_type": "code",
   "execution_count": null,
   "id": "2890a9cb",
   "metadata": {},
   "outputs": [],
   "source": [
    "sample = df[df['osm_way_id'] == 598020854]\n",
    "px.line(sample, x='time', y='speed_mph_mean')"
   ]
  },
  {
   "cell_type": "code",
   "execution_count": null,
   "id": "5671d6aa",
   "metadata": {},
   "outputs": [],
   "source": [
    "# prettier plotly plots\n",
    "def plot_y_vs_yhat(df, y, yhat):\n",
    "    Y, Yhat = df[y], df[yhat]\n",
    "    cmin, cmax = max(Yhat.min(), Y.min()), min(Yhat.max(), Y.max())\n",
    "    fig = go.Figure()\n",
    "    fig.add_trace(go.Scatter(x=Yhat, y=Y, mode='markers', name='(yhat, y)'))\n",
    "    fig.add_trace(go.Scatter(x=[cmin,cmax], y=[cmin,cmax], name=\"y=yhat\"))\n",
    "    return fig"
   ]
  },
  {
   "cell_type": "code",
   "execution_count": null,
   "id": "3154d42a",
   "metadata": {},
   "outputs": [],
   "source": [
    "# prettier plotly plots\n",
    "def plot_predictions(df, x, y, yhat):\n",
    "    X, Y, Yhat = df[x], df[y], df[yhat]\n",
    "    fig = go.Figure()\n",
    "    fig.add_trace(go.Scatter(x=X, y=Y, name='ground truth'))\n",
    "    fig.add_trace(go.Scatter(x=X, y=Yhat, name='prediction'))\n",
    "    return fig"
   ]
  },
  {
   "cell_type": "code",
   "execution_count": null,
   "id": "66cf08c4",
   "metadata": {},
   "outputs": [],
   "source": [
    "subset = df.sample(frac=0.01)\n",
    "fig = px.scatter_3d(subset, x='Latitude', y='Longitude', z='speed_mph_mean', color='time')\n",
    "fig.update_traces(marker={'size': 2})"
   ]
  },
  {
   "cell_type": "markdown",
   "id": "801bf76d",
   "metadata": {},
   "source": [
    "Looks like total gibberish! Instead of visualizing all 4 dimensions of data, let's break it down. First, let's visualize spatially."
   ]
  },
  {
   "cell_type": "code",
   "execution_count": null,
   "id": "c94453f9",
   "metadata": {},
   "outputs": [],
   "source": [
    "space = df.groupby(by=['Latitude', 'Longitude']).agg('mean').reset_index()\n",
    "fig = px.scatter_3d(space, x='Latitude', y='Longitude', z='speed_mph_mean')\n",
    "fig.update_traces(marker={'size': 2})"
   ]
  },
  {
   "cell_type": "markdown",
   "id": "095c091c",
   "metadata": {},
   "source": [
    "# Appendix B"
   ]
  },
  {
   "cell_type": "markdown",
   "id": "397a5c2f",
   "metadata": {},
   "source": [
    "A more efficient way to solve the normal equations is using the `solve` function to solve the linear systems:\n",
    "\n",
    "$$\n",
    "\\mathbb{X}^T \\mathbb{X} \\theta = \\mathbb{X}^T \\mathbb{Y}\n",
    "$$\n",
    "\n",
    "can be simplified to:\n",
    "\n",
    "$$\n",
    "A \\theta = b\n",
    "$$\n",
    "\n",
    "where $A=\\mathbb{X}^T \\mathbb{X}$ and $b=\\mathbb{X}^T \\mathbb{Y}$:"
   ]
  },
  {
   "cell_type": "code",
   "execution_count": null,
   "id": "c045fd96",
   "metadata": {},
   "outputs": [],
   "source": [
    "from numpy.linalg import solve\n",
    "theta = solve(X.T @ X, X.T @ Y)\n",
    "theta"
   ]
  },
  {
   "cell_type": "markdown",
   "id": "7d804974",
   "metadata": {},
   "source": [
    "Notice that this second implementation produces a numpy array?  This is because Pandas actually implements inversion but the solve routine is entirely in numpy."
   ]
  }
 ],
 "metadata": {
  "kernelspec": {
   "display_name": "Python 3 (ipykernel)",
   "language": "python",
   "name": "python3"
  },
  "language_info": {
   "codemirror_mode": {
    "name": "ipython",
    "version": 3
   },
   "file_extension": ".py",
   "mimetype": "text/x-python",
   "name": "python",
   "nbconvert_exporter": "python",
   "pygments_lexer": "ipython3",
   "version": "3.9.7"
  }
 },
 "nbformat": 4,
 "nbformat_minor": 5
}
