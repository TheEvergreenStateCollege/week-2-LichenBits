{
 "cells": [
  {
   "cell_type": "code",
   "execution_count": 2,
   "id": "5582e308",
   "metadata": {},
   "outputs": [],
   "source": [
    "%load_ext sql"
   ]
  },
  {
   "cell_type": "code",
   "execution_count": 3,
   "id": "6a1929e9",
   "metadata": {},
   "outputs": [
    {
     "name": "stdout",
     "output_type": "stream",
     "text": [
      "0 rows affected.\n"
     ]
    },
    {
     "data": {
      "text/plain": [
       "[]"
      ]
     },
     "execution_count": 3,
     "metadata": {},
     "output_type": "execute_result"
    }
   ],
   "source": [
    "%%sql sqlite://\n",
    "--This is a SQL comment. This cell tells the SQL magic to \"connect\" to an in-memory SQLite database"
   ]
  },
  {
   "cell_type": "markdown",
   "id": "ebe9a358",
   "metadata": {},
   "source": [
    "# Lesson 8.3 SQL Queries to Manage Tables"
   ]
  },
  {
   "cell_type": "code",
   "execution_count": 4,
   "id": "9c53dccf",
   "metadata": {},
   "outputs": [
    {
     "name": "stdout",
     "output_type": "stream",
     "text": [
      " * sqlite://\n",
      "Done.\n",
      "Done.\n"
     ]
    },
    {
     "data": {
      "text/plain": [
       "[]"
      ]
     },
     "execution_count": 4,
     "metadata": {},
     "output_type": "execute_result"
    }
   ],
   "source": [
    "%%sql\n",
    "DROP TABLE IF EXISTS Animal; -- allows you to run this cell repeatedly\n",
    "CREATE TABLE Animal (\n",
    "    type TEXT PRIMARY KEY,\n",
    "    legs INTEGER CHECK (legs >= 0),\n",
    "    weight INTEGER CHECK (weight >= 0)\n",
    ");"
   ]
  },
  {
   "cell_type": "code",
   "execution_count": 5,
   "id": "605e6c05",
   "metadata": {},
   "outputs": [
    {
     "name": "stdout",
     "output_type": "stream",
     "text": [
      " * sqlite://\n",
      "Done.\n",
      "Done.\n"
     ]
    },
    {
     "data": {
      "text/plain": [
       "[]"
      ]
     },
     "execution_count": 5,
     "metadata": {},
     "output_type": "execute_result"
    }
   ],
   "source": [
    "%%sql\n",
    "DROP TABLE IF EXISTS Member; -- allows you to run this cell repeatedly\n",
    "CREATE TABLE Member (\n",
    "  athlete TEXT,\n",
    "  esport TEXT,\n",
    "  skill INTEGER,\n",
    "  PRIMARY KEY(athlete, esport)\n",
    ");\n"
   ]
  },
  {
   "cell_type": "markdown",
   "id": "2d01ef7a",
   "metadata": {},
   "source": [
    "# Lesson 8.4 SQL Queries for Rows\n",
    "introduction to SQL queries"
   ]
  },
  {
   "cell_type": "code",
   "execution_count": 6,
   "id": "d9129f5b",
   "metadata": {},
   "outputs": [
    {
     "name": "stdout",
     "output_type": "stream",
     "text": [
      " * sqlite://\n",
      "Done.\n",
      "Done.\n",
      "1 rows affected.\n",
      "2 rows affected.\n"
     ]
    },
    {
     "data": {
      "text/plain": [
       "[]"
      ]
     },
     "execution_count": 6,
     "metadata": {},
     "output_type": "execute_result"
    }
   ],
   "source": [
    "%%sql \n",
    "DROP TABLE IF EXISTS Dragon; -- allows you to run this cell repeatedly\n",
    "CREATE TABLE Dragon (\n",
    "    name TEXT PRIMARY KEY,\n",
    "    year INTEGER CHECK (year >= 2000),\n",
    "    cute INTEGER\n",
    ");\n",
    "INSERT INTO Dragon VALUES ('hiccup', 2010, 10);\n",
    "INSERT INTO Dragon VALUES\n",
    "    ('drogon', 2011, -100),\n",
    "    ('dragon 2', 2019, 0);"
   ]
  },
  {
   "cell_type": "code",
   "execution_count": 7,
   "id": "da6089b4",
   "metadata": {},
   "outputs": [
    {
     "name": "stdout",
     "output_type": "stream",
     "text": [
      " * sqlite://\n",
      "Done.\n"
     ]
    },
    {
     "data": {
      "text/html": [
       "<table>\n",
       "    <tr>\n",
       "        <th>birth</th>\n",
       "    </tr>\n",
       "    <tr>\n",
       "        <td>2010</td>\n",
       "    </tr>\n",
       "    <tr>\n",
       "        <td>2011</td>\n",
       "    </tr>\n",
       "    <tr>\n",
       "        <td>2019</td>\n",
       "    </tr>\n",
       "</table>"
      ],
      "text/plain": [
       "[(2010,), (2011,), (2019,)]"
      ]
     },
     "execution_count": 7,
     "metadata": {},
     "output_type": "execute_result"
    }
   ],
   "source": [
    "%%sql\n",
    "SELECT year as birth\n",
    "FROM Dragon AS Bird;"
   ]
  },
  {
   "cell_type": "code",
   "execution_count": 8,
   "id": "1f522a55",
   "metadata": {},
   "outputs": [
    {
     "name": "stdout",
     "output_type": "stream",
     "text": [
      " * sqlite://\n",
      "Done.\n"
     ]
    },
    {
     "data": {
      "text/html": [
       "<table>\n",
       "    <tr>\n",
       "        <th>name</th>\n",
       "        <th>year</th>\n",
       "        <th>cute</th>\n",
       "        <th>name_1</th>\n",
       "        <th>year_1</th>\n",
       "        <th>cute_1</th>\n",
       "    </tr>\n",
       "    <tr>\n",
       "        <td>hiccup</td>\n",
       "        <td>2010</td>\n",
       "        <td>10</td>\n",
       "        <td>hiccup</td>\n",
       "        <td>2010</td>\n",
       "        <td>10</td>\n",
       "    </tr>\n",
       "    <tr>\n",
       "        <td>hiccup</td>\n",
       "        <td>2010</td>\n",
       "        <td>10</td>\n",
       "        <td>drogon</td>\n",
       "        <td>2011</td>\n",
       "        <td>-100</td>\n",
       "    </tr>\n",
       "    <tr>\n",
       "        <td>hiccup</td>\n",
       "        <td>2010</td>\n",
       "        <td>10</td>\n",
       "        <td>dragon 2</td>\n",
       "        <td>2019</td>\n",
       "        <td>0</td>\n",
       "    </tr>\n",
       "    <tr>\n",
       "        <td>drogon</td>\n",
       "        <td>2011</td>\n",
       "        <td>-100</td>\n",
       "        <td>hiccup</td>\n",
       "        <td>2010</td>\n",
       "        <td>10</td>\n",
       "    </tr>\n",
       "    <tr>\n",
       "        <td>drogon</td>\n",
       "        <td>2011</td>\n",
       "        <td>-100</td>\n",
       "        <td>drogon</td>\n",
       "        <td>2011</td>\n",
       "        <td>-100</td>\n",
       "    </tr>\n",
       "    <tr>\n",
       "        <td>drogon</td>\n",
       "        <td>2011</td>\n",
       "        <td>-100</td>\n",
       "        <td>dragon 2</td>\n",
       "        <td>2019</td>\n",
       "        <td>0</td>\n",
       "    </tr>\n",
       "    <tr>\n",
       "        <td>dragon 2</td>\n",
       "        <td>2019</td>\n",
       "        <td>0</td>\n",
       "        <td>hiccup</td>\n",
       "        <td>2010</td>\n",
       "        <td>10</td>\n",
       "    </tr>\n",
       "    <tr>\n",
       "        <td>dragon 2</td>\n",
       "        <td>2019</td>\n",
       "        <td>0</td>\n",
       "        <td>drogon</td>\n",
       "        <td>2011</td>\n",
       "        <td>-100</td>\n",
       "    </tr>\n",
       "    <tr>\n",
       "        <td>dragon 2</td>\n",
       "        <td>2019</td>\n",
       "        <td>0</td>\n",
       "        <td>dragon 2</td>\n",
       "        <td>2019</td>\n",
       "        <td>0</td>\n",
       "    </tr>\n",
       "</table>"
      ],
      "text/plain": [
       "[('hiccup', 2010, 10, 'hiccup', 2010, 10),\n",
       " ('hiccup', 2010, 10, 'drogon', 2011, -100),\n",
       " ('hiccup', 2010, 10, 'dragon 2', 2019, 0),\n",
       " ('drogon', 2011, -100, 'hiccup', 2010, 10),\n",
       " ('drogon', 2011, -100, 'drogon', 2011, -100),\n",
       " ('drogon', 2011, -100, 'dragon 2', 2019, 0),\n",
       " ('dragon 2', 2019, 0, 'hiccup', 2010, 10),\n",
       " ('dragon 2', 2019, 0, 'drogon', 2011, -100),\n",
       " ('dragon 2', 2019, 0, 'dragon 2', 2019, 0)]"
      ]
     },
     "execution_count": 8,
     "metadata": {},
     "output_type": "execute_result"
    }
   ],
   "source": [
    "%%sql\n",
    "SELECT *\n",
    "FROM\n",
    "    Dragon as Dragon1,\n",
    "    Dragon as Dragon2;"
   ]
  },
  {
   "cell_type": "code",
   "execution_count": 9,
   "id": "36a221a9",
   "metadata": {},
   "outputs": [
    {
     "name": "stdout",
     "output_type": "stream",
     "text": [
      " * sqlite://\n",
      "Done.\n"
     ]
    },
    {
     "data": {
      "text/html": [
       "<table>\n",
       "    <tr>\n",
       "        <th>name</th>\n",
       "        <th>name_1</th>\n",
       "    </tr>\n",
       "    <tr>\n",
       "        <td>dragon 2</td>\n",
       "        <td>dragon 2</td>\n",
       "    </tr>\n",
       "    <tr>\n",
       "        <td>dragon 2</td>\n",
       "        <td>drogon</td>\n",
       "    </tr>\n",
       "    <tr>\n",
       "        <td>dragon 2</td>\n",
       "        <td>hiccup</td>\n",
       "    </tr>\n",
       "    <tr>\n",
       "        <td>drogon</td>\n",
       "        <td>dragon 2</td>\n",
       "    </tr>\n",
       "    <tr>\n",
       "        <td>drogon</td>\n",
       "        <td>drogon</td>\n",
       "    </tr>\n",
       "    <tr>\n",
       "        <td>drogon</td>\n",
       "        <td>hiccup</td>\n",
       "    </tr>\n",
       "    <tr>\n",
       "        <td>hiccup</td>\n",
       "        <td>dragon 2</td>\n",
       "    </tr>\n",
       "    <tr>\n",
       "        <td>hiccup</td>\n",
       "        <td>drogon</td>\n",
       "    </tr>\n",
       "    <tr>\n",
       "        <td>hiccup</td>\n",
       "        <td>hiccup</td>\n",
       "    </tr>\n",
       "</table>"
      ],
      "text/plain": [
       "[('dragon 2', 'dragon 2'),\n",
       " ('dragon 2', 'drogon'),\n",
       " ('dragon 2', 'hiccup'),\n",
       " ('drogon', 'dragon 2'),\n",
       " ('drogon', 'drogon'),\n",
       " ('drogon', 'hiccup'),\n",
       " ('hiccup', 'dragon 2'),\n",
       " ('hiccup', 'drogon'),\n",
       " ('hiccup', 'hiccup')]"
      ]
     },
     "execution_count": 9,
     "metadata": {},
     "output_type": "execute_result"
    }
   ],
   "source": [
    "%%sql\n",
    "SELECT\n",
    "    Dragon1.name,\n",
    "    Dragon2.name\n",
    "FROM\n",
    "    Dragon as Dragon1,\n",
    "    Dragon as Dragon2;"
   ]
  },
  {
   "cell_type": "code",
   "execution_count": 10,
   "id": "ec91f13f",
   "metadata": {},
   "outputs": [
    {
     "name": "stdout",
     "output_type": "stream",
     "text": [
      " * sqlite://\n",
      "Done.\n"
     ]
    },
    {
     "data": {
      "text/html": [
       "<table>\n",
       "    <tr>\n",
       "        <th>name</th>\n",
       "        <th>year</th>\n",
       "    </tr>\n",
       "    <tr>\n",
       "        <td>hiccup</td>\n",
       "        <td>2010</td>\n",
       "    </tr>\n",
       "</table>"
      ],
      "text/plain": [
       "[('hiccup', 2010)]"
      ]
     },
     "execution_count": 10,
     "metadata": {},
     "output_type": "execute_result"
    }
   ],
   "source": [
    "%%sql\n",
    "SELECT name, year\n",
    "FROM Dragon\n",
    "WHERE cute > 0;"
   ]
  },
  {
   "cell_type": "code",
   "execution_count": 11,
   "id": "5f0a1d0b",
   "metadata": {},
   "outputs": [
    {
     "name": "stdout",
     "output_type": "stream",
     "text": [
      " * sqlite://\n",
      "Done.\n"
     ]
    },
    {
     "data": {
      "text/html": [
       "<table>\n",
       "    <tr>\n",
       "        <th>name</th>\n",
       "        <th>year</th>\n",
       "        <th>cute</th>\n",
       "    </tr>\n",
       "    <tr>\n",
       "        <td>drogon</td>\n",
       "        <td>2011</td>\n",
       "        <td>-100</td>\n",
       "    </tr>\n",
       "    <tr>\n",
       "        <td>dragon 2</td>\n",
       "        <td>2019</td>\n",
       "        <td>0</td>\n",
       "    </tr>\n",
       "    <tr>\n",
       "        <td>hiccup</td>\n",
       "        <td>2010</td>\n",
       "        <td>10</td>\n",
       "    </tr>\n",
       "</table>"
      ],
      "text/plain": [
       "[('drogon', 2011, -100), ('dragon 2', 2019, 0), ('hiccup', 2010, 10)]"
      ]
     },
     "execution_count": 11,
     "metadata": {},
     "output_type": "execute_result"
    }
   ],
   "source": [
    "%%sql\n",
    "SELECT *\n",
    "FROM Dragon\n",
    "ORDER BY cute;"
   ]
  },
  {
   "cell_type": "code",
   "execution_count": 12,
   "id": "80db8a85",
   "metadata": {},
   "outputs": [
    {
     "name": "stdout",
     "output_type": "stream",
     "text": [
      " * sqlite://\n",
      "Done.\n"
     ]
    },
    {
     "data": {
      "text/html": [
       "<table>\n",
       "    <tr>\n",
       "        <th>name</th>\n",
       "        <th>year</th>\n",
       "        <th>cute</th>\n",
       "    </tr>\n",
       "    <tr>\n",
       "        <td>hiccup</td>\n",
       "        <td>2010</td>\n",
       "        <td>10</td>\n",
       "    </tr>\n",
       "    <tr>\n",
       "        <td>drogon</td>\n",
       "        <td>2011</td>\n",
       "        <td>-100</td>\n",
       "    </tr>\n",
       "</table>"
      ],
      "text/plain": [
       "[('hiccup', 2010, 10), ('drogon', 2011, -100)]"
      ]
     },
     "execution_count": 12,
     "metadata": {},
     "output_type": "execute_result"
    }
   ],
   "source": [
    "%%sql\n",
    "SELECT *\n",
    "FROM Dragon\n",
    "LIMIT 2;"
   ]
  },
  {
   "cell_type": "code",
   "execution_count": 13,
   "id": "676f3963",
   "metadata": {},
   "outputs": [
    {
     "name": "stdout",
     "output_type": "stream",
     "text": [
      " * sqlite://\n",
      "Done.\n"
     ]
    },
    {
     "data": {
      "text/html": [
       "<table>\n",
       "    <tr>\n",
       "        <th>name</th>\n",
       "        <th>year</th>\n",
       "        <th>cute</th>\n",
       "    </tr>\n",
       "    <tr>\n",
       "        <td>hiccup</td>\n",
       "        <td>2010</td>\n",
       "        <td>10</td>\n",
       "    </tr>\n",
       "    <tr>\n",
       "        <td>dragon 2</td>\n",
       "        <td>2019</td>\n",
       "        <td>0</td>\n",
       "    </tr>\n",
       "    <tr>\n",
       "        <td>drogon</td>\n",
       "        <td>2011</td>\n",
       "        <td>-100</td>\n",
       "    </tr>\n",
       "</table>"
      ],
      "text/plain": [
       "[('hiccup', 2010, 10), ('dragon 2', 2019, 0), ('drogon', 2011, -100)]"
      ]
     },
     "execution_count": 13,
     "metadata": {},
     "output_type": "execute_result"
    }
   ],
   "source": [
    "%%sql\n",
    "SELECT *\n",
    "FROM Dragon\n",
    "ORDER BY cute desc;"
   ]
  },
  {
   "cell_type": "code",
   "execution_count": 14,
   "id": "5fbd6f37",
   "metadata": {},
   "outputs": [
    {
     "name": "stdout",
     "output_type": "stream",
     "text": [
      " * sqlite://\n",
      "Done.\n"
     ]
    },
    {
     "data": {
      "text/html": [
       "<table>\n",
       "    <tr>\n",
       "        <th>name</th>\n",
       "        <th>year</th>\n",
       "        <th>cute</th>\n",
       "    </tr>\n",
       "    <tr>\n",
       "        <td>hiccup</td>\n",
       "        <td>2010</td>\n",
       "        <td>10</td>\n",
       "    </tr>\n",
       "    <tr>\n",
       "        <td>drogon</td>\n",
       "        <td>2011</td>\n",
       "        <td>-100</td>\n",
       "    </tr>\n",
       "</table>"
      ],
      "text/plain": [
       "[('hiccup', 2010, 10), ('drogon', 2011, -100)]"
      ]
     },
     "execution_count": 14,
     "metadata": {},
     "output_type": "execute_result"
    }
   ],
   "source": [
    "%%sql\n",
    "SELECT *\n",
    "FROM Dragon\n",
    "LIMIT 2;"
   ]
  },
  {
   "cell_type": "code",
   "execution_count": 15,
   "id": "cf7bd732",
   "metadata": {},
   "outputs": [
    {
     "name": "stdout",
     "output_type": "stream",
     "text": [
      " * sqlite://\n",
      "Done.\n"
     ]
    },
    {
     "data": {
      "text/html": [
       "<table>\n",
       "    <tr>\n",
       "        <th>name</th>\n",
       "        <th>year</th>\n",
       "        <th>cute</th>\n",
       "    </tr>\n",
       "    <tr>\n",
       "        <td>drogon</td>\n",
       "        <td>2011</td>\n",
       "        <td>-100</td>\n",
       "    </tr>\n",
       "    <tr>\n",
       "        <td>dragon 2</td>\n",
       "        <td>2019</td>\n",
       "        <td>0</td>\n",
       "    </tr>\n",
       "</table>"
      ],
      "text/plain": [
       "[('drogon', 2011, -100), ('dragon 2', 2019, 0)]"
      ]
     },
     "execution_count": 15,
     "metadata": {},
     "output_type": "execute_result"
    }
   ],
   "source": [
    "%%sql\n",
    "SELECT *\n",
    "FROM Dragon\n",
    "LIMIT 2\n",
    "OFFSET 1;"
   ]
  },
  {
   "cell_type": "markdown",
   "id": "ca978dcb",
   "metadata": {},
   "source": [
    "# Lesson 8.5 SQL Queries for Groups"
   ]
  },
  {
   "cell_type": "code",
   "execution_count": 16,
   "id": "cd4bee6d",
   "metadata": {},
   "outputs": [
    {
     "name": "stdout",
     "output_type": "stream",
     "text": [
      "Done.\n",
      "Done.\n",
      "7 rows affected.\n"
     ]
    },
    {
     "data": {
      "text/plain": [
       "[]"
      ]
     },
     "execution_count": 16,
     "metadata": {},
     "output_type": "execute_result"
    }
   ],
   "source": [
    "%%sql sqlite://\n",
    "DROP TABLE IF EXISTS Dish;\n",
    "CREATE TABLE Dish (\n",
    "    name TEXT PRIMARY KEY,\n",
    "    type TEXT,\n",
    "    cost INTEGER CHECK (cost >= 0)\n",
    ");\n",
    "INSERT INTO Dish VALUES\n",
    "    ('ravioli', 'entree', 10),\n",
    "    ('pork bun', 'entree', 7),\n",
    "    ('taco', 'entree', 7),\n",
    "    ('edamame', 'appetizer', 4),\n",
    "    ('fries', 'appetizer', 4),\n",
    "    ('potsticker', 'appetizer', 4),\n",
    "    ('ice cream', 'dessert', 5);"
   ]
  },
  {
   "cell_type": "code",
   "execution_count": 17,
   "id": "8d8cc062",
   "metadata": {},
   "outputs": [
    {
     "name": "stdout",
     "output_type": "stream",
     "text": [
      " * sqlite://\n",
      "Done.\n"
     ]
    },
    {
     "data": {
      "text/html": [
       "<table>\n",
       "    <tr>\n",
       "        <th>name</th>\n",
       "        <th>type</th>\n",
       "        <th>cost</th>\n",
       "    </tr>\n",
       "    <tr>\n",
       "        <td>ravioli</td>\n",
       "        <td>entree</td>\n",
       "        <td>10</td>\n",
       "    </tr>\n",
       "    <tr>\n",
       "        <td>pork bun</td>\n",
       "        <td>entree</td>\n",
       "        <td>7</td>\n",
       "    </tr>\n",
       "    <tr>\n",
       "        <td>taco</td>\n",
       "        <td>entree</td>\n",
       "        <td>7</td>\n",
       "    </tr>\n",
       "    <tr>\n",
       "        <td>edamame</td>\n",
       "        <td>appetizer</td>\n",
       "        <td>4</td>\n",
       "    </tr>\n",
       "    <tr>\n",
       "        <td>fries</td>\n",
       "        <td>appetizer</td>\n",
       "        <td>4</td>\n",
       "    </tr>\n",
       "    <tr>\n",
       "        <td>potsticker</td>\n",
       "        <td>appetizer</td>\n",
       "        <td>4</td>\n",
       "    </tr>\n",
       "    <tr>\n",
       "        <td>ice cream</td>\n",
       "        <td>dessert</td>\n",
       "        <td>5</td>\n",
       "    </tr>\n",
       "</table>"
      ],
      "text/plain": [
       "[('ravioli', 'entree', 10),\n",
       " ('pork bun', 'entree', 7),\n",
       " ('taco', 'entree', 7),\n",
       " ('edamame', 'appetizer', 4),\n",
       " ('fries', 'appetizer', 4),\n",
       " ('potsticker', 'appetizer', 4),\n",
       " ('ice cream', 'dessert', 5)]"
      ]
     },
     "execution_count": 17,
     "metadata": {},
     "output_type": "execute_result"
    }
   ],
   "source": [
    "%%sql\n",
    "SELECT * FROM Dish;"
   ]
  },
  {
   "cell_type": "code",
   "execution_count": 18,
   "id": "25ba73d0",
   "metadata": {},
   "outputs": [
    {
     "name": "stdout",
     "output_type": "stream",
     "text": [
      " * sqlite://\n",
      "Done.\n"
     ]
    },
    {
     "data": {
      "text/html": [
       "<table>\n",
       "    <tr>\n",
       "        <th>type</th>\n",
       "    </tr>\n",
       "    <tr>\n",
       "        <td>appetizer</td>\n",
       "    </tr>\n",
       "    <tr>\n",
       "        <td>dessert</td>\n",
       "    </tr>\n",
       "    <tr>\n",
       "        <td>entree</td>\n",
       "    </tr>\n",
       "</table>"
      ],
      "text/plain": [
       "[('appetizer',), ('dessert',), ('entree',)]"
      ]
     },
     "execution_count": 18,
     "metadata": {},
     "output_type": "execute_result"
    }
   ],
   "source": [
    "%%sql\n",
    "SELECT type\n",
    "FROM Dish\n",
    "GROUP BY type;"
   ]
  },
  {
   "cell_type": "code",
   "execution_count": 19,
   "id": "d6f83d27",
   "metadata": {},
   "outputs": [
    {
     "name": "stdout",
     "output_type": "stream",
     "text": [
      " * sqlite://\n",
      "Done.\n"
     ]
    },
    {
     "data": {
      "text/html": [
       "<table>\n",
       "    <tr>\n",
       "        <th>COUNT(*)</th>\n",
       "    </tr>\n",
       "    <tr>\n",
       "        <td>7</td>\n",
       "    </tr>\n",
       "</table>"
      ],
      "text/plain": [
       "[(7,)]"
      ]
     },
     "execution_count": 19,
     "metadata": {},
     "output_type": "execute_result"
    }
   ],
   "source": [
    "%%sql\n",
    "SELECT COUNT(*)\n",
    "FROM Dish;"
   ]
  },
  {
   "cell_type": "code",
   "execution_count": 20,
   "id": "73cc3c16",
   "metadata": {},
   "outputs": [
    {
     "name": "stdout",
     "output_type": "stream",
     "text": [
      " * sqlite://\n",
      "Done.\n"
     ]
    },
    {
     "data": {
      "text/html": [
       "<table>\n",
       "    <tr>\n",
       "        <th>type</th>\n",
       "        <th>COUNT(*)</th>\n",
       "    </tr>\n",
       "    <tr>\n",
       "        <td>appetizer</td>\n",
       "        <td>3</td>\n",
       "    </tr>\n",
       "    <tr>\n",
       "        <td>dessert</td>\n",
       "        <td>1</td>\n",
       "    </tr>\n",
       "    <tr>\n",
       "        <td>entree</td>\n",
       "        <td>3</td>\n",
       "    </tr>\n",
       "</table>"
      ],
      "text/plain": [
       "[('appetizer', 3), ('dessert', 1), ('entree', 3)]"
      ]
     },
     "execution_count": 20,
     "metadata": {},
     "output_type": "execute_result"
    }
   ],
   "source": [
    "%%sql\n",
    "SELECT type, COUNT(*)\n",
    "FROM Dish\n",
    "GROUP BY type;"
   ]
  },
  {
   "cell_type": "code",
   "execution_count": 21,
   "id": "57f01e36",
   "metadata": {},
   "outputs": [
    {
     "name": "stdout",
     "output_type": "stream",
     "text": [
      " * sqlite://\n",
      "Done.\n"
     ]
    },
    {
     "data": {
      "text/html": [
       "<table>\n",
       "    <tr>\n",
       "        <th>type</th>\n",
       "        <th>cost</th>\n",
       "    </tr>\n",
       "    <tr>\n",
       "        <td>appetizer</td>\n",
       "        <td>4</td>\n",
       "    </tr>\n",
       "    <tr>\n",
       "        <td>dessert</td>\n",
       "        <td>5</td>\n",
       "    </tr>\n",
       "    <tr>\n",
       "        <td>entree</td>\n",
       "        <td>10</td>\n",
       "    </tr>\n",
       "</table>"
      ],
      "text/plain": [
       "[('appetizer', 4), ('dessert', 5), ('entree', 10)]"
      ]
     },
     "execution_count": 21,
     "metadata": {},
     "output_type": "execute_result"
    }
   ],
   "source": [
    "%%sql\n",
    "SELECT type, cost\n",
    "FROM Dish\n",
    "GROUP BY type; -- cost column is meaningless. first cost of each group in this case."
   ]
  },
  {
   "cell_type": "code",
   "execution_count": 22,
   "id": "ba43b7d3",
   "metadata": {},
   "outputs": [
    {
     "name": "stdout",
     "output_type": "stream",
     "text": [
      " * sqlite://\n",
      "Done.\n"
     ]
    },
    {
     "data": {
      "text/html": [
       "<table>\n",
       "    <tr>\n",
       "        <th>type</th>\n",
       "        <th>COUNT(*)</th>\n",
       "        <th>SUM(cost)</th>\n",
       "    </tr>\n",
       "    <tr>\n",
       "        <td>appetizer</td>\n",
       "        <td>3</td>\n",
       "        <td>12</td>\n",
       "    </tr>\n",
       "    <tr>\n",
       "        <td>dessert</td>\n",
       "        <td>1</td>\n",
       "        <td>5</td>\n",
       "    </tr>\n",
       "    <tr>\n",
       "        <td>entree</td>\n",
       "        <td>3</td>\n",
       "        <td>24</td>\n",
       "    </tr>\n",
       "</table>"
      ],
      "text/plain": [
       "[('appetizer', 3, 12), ('dessert', 1, 5), ('entree', 3, 24)]"
      ]
     },
     "execution_count": 22,
     "metadata": {},
     "output_type": "execute_result"
    }
   ],
   "source": [
    "%%sql\n",
    "SELECT type, COUNT(*), SUM(cost)\n",
    "FROM Dish\n",
    "GROUP BY type;"
   ]
  },
  {
   "cell_type": "code",
   "execution_count": 23,
   "id": "07afa36c",
   "metadata": {
    "scrolled": true
   },
   "outputs": [
    {
     "name": "stdout",
     "output_type": "stream",
     "text": [
      " * sqlite://\n",
      "Done.\n"
     ]
    },
    {
     "data": {
      "text/html": [
       "<table>\n",
       "    <tr>\n",
       "        <th>type</th>\n",
       "    </tr>\n",
       "    <tr>\n",
       "        <td>entree</td>\n",
       "    </tr>\n",
       "    <tr>\n",
       "        <td>appetizer</td>\n",
       "    </tr>\n",
       "    <tr>\n",
       "        <td>dessert</td>\n",
       "    </tr>\n",
       "</table>"
      ],
      "text/plain": [
       "[('entree',), ('appetizer',), ('dessert',)]"
      ]
     },
     "execution_count": 23,
     "metadata": {},
     "output_type": "execute_result"
    }
   ],
   "source": [
    "%%sql\n",
    "SELECT DISTINCT type\n",
    "FROM Dish;"
   ]
  },
  {
   "cell_type": "code",
   "execution_count": 24,
   "id": "55d59433",
   "metadata": {},
   "outputs": [
    {
     "name": "stdout",
     "output_type": "stream",
     "text": [
      " * sqlite://\n",
      "Done.\n"
     ]
    },
    {
     "data": {
      "text/html": [
       "<table>\n",
       "    <tr>\n",
       "        <th>cost</th>\n",
       "    </tr>\n",
       "    <tr>\n",
       "        <td>10</td>\n",
       "    </tr>\n",
       "    <tr>\n",
       "        <td>7</td>\n",
       "    </tr>\n",
       "    <tr>\n",
       "        <td>4</td>\n",
       "    </tr>\n",
       "    <tr>\n",
       "        <td>5</td>\n",
       "    </tr>\n",
       "</table>"
      ],
      "text/plain": [
       "[(10,), (7,), (4,), (5,)]"
      ]
     },
     "execution_count": 24,
     "metadata": {},
     "output_type": "execute_result"
    }
   ],
   "source": [
    "%%sql\n",
    "SELECT DISTINCT cost\n",
    "FROM Dish;"
   ]
  },
  {
   "cell_type": "code",
   "execution_count": 25,
   "id": "0352caac",
   "metadata": {},
   "outputs": [
    {
     "name": "stdout",
     "output_type": "stream",
     "text": [
      " * sqlite://\n",
      "Done.\n"
     ]
    },
    {
     "data": {
      "text/html": [
       "<table>\n",
       "    <tr>\n",
       "        <th>type</th>\n",
       "        <th>COUNT(DISTINCT cost)</th>\n",
       "    </tr>\n",
       "    <tr>\n",
       "        <td>appetizer</td>\n",
       "        <td>1</td>\n",
       "    </tr>\n",
       "    <tr>\n",
       "        <td>dessert</td>\n",
       "        <td>1</td>\n",
       "    </tr>\n",
       "    <tr>\n",
       "        <td>entree</td>\n",
       "        <td>2</td>\n",
       "    </tr>\n",
       "</table>"
      ],
      "text/plain": [
       "[('appetizer', 1), ('dessert', 1), ('entree', 2)]"
      ]
     },
     "execution_count": 25,
     "metadata": {},
     "output_type": "execute_result"
    }
   ],
   "source": [
    "%%sql\n",
    "SELECT type, COUNT(DISTINCT cost)\n",
    "FROM Dish\n",
    "GROUP BY type;"
   ]
  },
  {
   "cell_type": "code",
   "execution_count": 26,
   "id": "6d890b7e",
   "metadata": {},
   "outputs": [
    {
     "name": "stdout",
     "output_type": "stream",
     "text": [
      " * sqlite://\n",
      "Done.\n"
     ]
    },
    {
     "data": {
      "text/html": [
       "<table>\n",
       "    <tr>\n",
       "        <th>type</th>\n",
       "        <th>AVG(cost)</th>\n",
       "    </tr>\n",
       "    <tr>\n",
       "        <td>appetizer</td>\n",
       "        <td>4.0</td>\n",
       "    </tr>\n",
       "    <tr>\n",
       "        <td>dessert</td>\n",
       "        <td>5.0</td>\n",
       "    </tr>\n",
       "    <tr>\n",
       "        <td>entree</td>\n",
       "        <td>8.0</td>\n",
       "    </tr>\n",
       "</table>"
      ],
      "text/plain": [
       "[('appetizer', 4.0), ('dessert', 5.0), ('entree', 8.0)]"
      ]
     },
     "execution_count": 26,
     "metadata": {},
     "output_type": "execute_result"
    }
   ],
   "source": [
    "%%sql\n",
    "SELECT type, AVG(cost)\n",
    "FROM Dish\n",
    "GROUP BY type;"
   ]
  },
  {
   "cell_type": "code",
   "execution_count": 27,
   "id": "175e994f",
   "metadata": {},
   "outputs": [
    {
     "name": "stdout",
     "output_type": "stream",
     "text": [
      " * sqlite://\n",
      "Done.\n"
     ]
    },
    {
     "data": {
      "text/html": [
       "<table>\n",
       "    <tr>\n",
       "        <th>type</th>\n",
       "        <th>average</th>\n",
       "    </tr>\n",
       "    <tr>\n",
       "        <td>entree</td>\n",
       "        <td>8.0</td>\n",
       "    </tr>\n",
       "</table>"
      ],
      "text/plain": [
       "[('entree', 8.0)]"
      ]
     },
     "execution_count": 27,
     "metadata": {},
     "output_type": "execute_result"
    }
   ],
   "source": [
    "%%sql\n",
    "SELECT type, AVG(cost) AS 'average'\n",
    "FROM Dish\n",
    "GROUP BY type\n",
    "HAVING average > 5;"
   ]
  },
  {
   "cell_type": "code",
   "execution_count": 28,
   "id": "cce72970",
   "metadata": {},
   "outputs": [
    {
     "name": "stdout",
     "output_type": "stream",
     "text": [
      " * sqlite://\n",
      "(sqlite3.OperationalError) near \"FROM\": syntax error\n",
      "[SQL: --EXAMPLE DEBUG Q SELECT type, AVG(cost) as 'average'\n",
      "FROM Dish\n",
      "GROUP BY type\n",
      "HAVING cost > 4; -- why did this fail? (HAVING applies to group, and in this case, the original column cost was used. recall cost is effectively meaningless -- first cost of each group)]\n",
      "(Background on this error at: https://sqlalche.me/e/14/e3q8)\n"
     ]
    }
   ],
   "source": [
    "%%sql\n",
    "--EXAMPLE DEBUG Q\n",
    "SELECT type, AVG(cost) as 'average'\n",
    "FROM Dish\n",
    "GROUP BY type\n",
    "HAVING cost > 4; -- why did this fail? (HAVING applies to group, and in this case, the original column cost was used. recall cost is effectively meaningless -- first cost of each group)"
   ]
  },
  {
   "cell_type": "code",
   "execution_count": 29,
   "id": "2a04e9b8",
   "metadata": {},
   "outputs": [
    {
     "name": "stdout",
     "output_type": "stream",
     "text": [
      " * sqlite://\n",
      "(sqlite3.OperationalError) near \"FROM\": syntax error\n",
      "[SQL: --EXAMPLE DEBUG Q SELECT type, AVG(cost) as 'average'\n",
      "FROM dishes\n",
      "WHERE cost > 4\n",
      "GROUP BY type; -- understand why averages changed (where applies to rows before grouping)]\n",
      "(Background on this error at: https://sqlalche.me/e/14/e3q8)\n"
     ]
    }
   ],
   "source": [
    "%%sql\n",
    "--EXAMPLE DEBUG Q\n",
    "SELECT type, AVG(cost) as 'average'\n",
    "FROM dishes\n",
    "WHERE cost > 4\n",
    "GROUP BY type; -- understand why averages changed (where applies to rows before grouping)"
   ]
  },
  {
   "cell_type": "markdown",
   "id": "750815d9",
   "metadata": {},
   "source": [
    "# Lesson 8.6 Practice: Write and Debug SQL Queries\n",
    "**WARNING** Solutions are included below."
   ]
  },
  {
   "cell_type": "code",
   "execution_count": 30,
   "id": "1e82f4a0",
   "metadata": {},
   "outputs": [
    {
     "name": "stdout",
     "output_type": "stream",
     "text": [
      " * sqlite://\n",
      "Done.\n",
      "Done.\n",
      "7 rows affected.\n"
     ]
    },
    {
     "data": {
      "text/plain": [
       "[]"
      ]
     },
     "execution_count": 30,
     "metadata": {},
     "output_type": "execute_result"
    }
   ],
   "source": [
    "%%sql\n",
    "DROP TABLE IF EXISTS Scene;\n",
    "CREATE TABLE Scene (\n",
    "    id INTEGER PRIMARY KEY AUTOINCREMENT, -- I didn't include autoinc in lecture, but you would normally do this \n",
    "    biome TEXT NOT NULL,\n",
    "    city TEXT NOT NULL,\n",
    "    visitors INTEGER CHECK (visitors >= 0),\n",
    "    created_at DATETIME DEFAULT (DATETIME('now')) -- I didn't include the default in lecture, but here's how to populate on insert\n",
    ");\n",
    "INSERT INTO Scene (biome, city, visitors, created_at) VALUES\n",
    "    ('desert', 'Las Vegas', 100 , '2021-01-01'),\n",
    "    ('ocean' , 'Hawaii'   , 1000, '2021-01-02'),\n",
    "    ('river' , 'Paris'    , 50  , '2021-01-05'),\n",
    "    ('hotel' , 'Iceland'  , 1   , '2021-01-07'),\n",
    "    ('desert', 'Austin'   , 25  , '2021-01-12'),\n",
    "    ('hotel' , 'Las Vegas', 240 , '2021-01-15'),\n",
    "    ('hotel' , 'Paris'    , 100 , '2021-01-15');"
   ]
  },
  {
   "cell_type": "code",
   "execution_count": 31,
   "id": "c8d59daa",
   "metadata": {},
   "outputs": [
    {
     "name": "stdout",
     "output_type": "stream",
     "text": [
      " * sqlite://\n",
      "Done.\n"
     ]
    },
    {
     "data": {
      "text/html": [
       "<table>\n",
       "    <tr>\n",
       "        <th>id</th>\n",
       "        <th>biome</th>\n",
       "        <th>city</th>\n",
       "        <th>visitors</th>\n",
       "        <th>created_at</th>\n",
       "    </tr>\n",
       "    <tr>\n",
       "        <td>1</td>\n",
       "        <td>desert</td>\n",
       "        <td>Las Vegas</td>\n",
       "        <td>100</td>\n",
       "        <td>2021-01-01</td>\n",
       "    </tr>\n",
       "    <tr>\n",
       "        <td>2</td>\n",
       "        <td>ocean</td>\n",
       "        <td>Hawaii</td>\n",
       "        <td>1000</td>\n",
       "        <td>2021-01-02</td>\n",
       "    </tr>\n",
       "    <tr>\n",
       "        <td>3</td>\n",
       "        <td>river</td>\n",
       "        <td>Paris</td>\n",
       "        <td>50</td>\n",
       "        <td>2021-01-05</td>\n",
       "    </tr>\n",
       "    <tr>\n",
       "        <td>4</td>\n",
       "        <td>hotel</td>\n",
       "        <td>Iceland</td>\n",
       "        <td>1</td>\n",
       "        <td>2021-01-07</td>\n",
       "    </tr>\n",
       "    <tr>\n",
       "        <td>5</td>\n",
       "        <td>desert</td>\n",
       "        <td>Austin</td>\n",
       "        <td>25</td>\n",
       "        <td>2021-01-12</td>\n",
       "    </tr>\n",
       "    <tr>\n",
       "        <td>6</td>\n",
       "        <td>hotel</td>\n",
       "        <td>Las Vegas</td>\n",
       "        <td>240</td>\n",
       "        <td>2021-01-15</td>\n",
       "    </tr>\n",
       "    <tr>\n",
       "        <td>7</td>\n",
       "        <td>hotel</td>\n",
       "        <td>Paris</td>\n",
       "        <td>100</td>\n",
       "        <td>2021-01-15</td>\n",
       "    </tr>\n",
       "</table>"
      ],
      "text/plain": [
       "[(1, 'desert', 'Las Vegas', 100, '2021-01-01'),\n",
       " (2, 'ocean', 'Hawaii', 1000, '2021-01-02'),\n",
       " (3, 'river', 'Paris', 50, '2021-01-05'),\n",
       " (4, 'hotel', 'Iceland', 1, '2021-01-07'),\n",
       " (5, 'desert', 'Austin', 25, '2021-01-12'),\n",
       " (6, 'hotel', 'Las Vegas', 240, '2021-01-15'),\n",
       " (7, 'hotel', 'Paris', 100, '2021-01-15')]"
      ]
     },
     "execution_count": 31,
     "metadata": {},
     "output_type": "execute_result"
    }
   ],
   "source": [
    "%sql SELECT * from Scene;"
   ]
  },
  {
   "cell_type": "code",
   "execution_count": 32,
   "id": "2bc4f24e",
   "metadata": {},
   "outputs": [
    {
     "name": "stdout",
     "output_type": "stream",
     "text": [
      " * sqlite://\n",
      "Done.\n"
     ]
    },
    {
     "data": {
      "text/html": [
       "<table>\n",
       "    <tr>\n",
       "        <th>COUNT(*)</th>\n",
       "    </tr>\n",
       "    <tr>\n",
       "        <td>7</td>\n",
       "    </tr>\n",
       "</table>"
      ],
      "text/plain": [
       "[(7,)]"
      ]
     },
     "execution_count": 32,
     "metadata": {},
     "output_type": "execute_result"
    }
   ],
   "source": [
    "%%sql\n",
    "SELECT COUNT(*) FROM Scene;"
   ]
  },
  {
   "cell_type": "code",
   "execution_count": 33,
   "id": "d9fb876c",
   "metadata": {},
   "outputs": [
    {
     "name": "stdout",
     "output_type": "stream",
     "text": [
      " * sqlite://\n",
      "Done.\n"
     ]
    },
    {
     "data": {
      "text/html": [
       "<table>\n",
       "    <tr>\n",
       "        <th>biome</th>\n",
       "        <th>COUNT(DISTINCT city)</th>\n",
       "    </tr>\n",
       "    <tr>\n",
       "        <td>hotel</td>\n",
       "        <td>3</td>\n",
       "    </tr>\n",
       "</table>"
      ],
      "text/plain": [
       "[('hotel', 3)]"
      ]
     },
     "execution_count": 33,
     "metadata": {},
     "output_type": "execute_result"
    }
   ],
   "source": [
    "%%sql\n",
    "SELECT biome, COUNT(DISTINCT city)\n",
    "FROM Scene\n",
    "GROUP BY biome\n",
    "ORDER BY COUNT(DISTINCT city) desc\n",
    "LIMIT 1;"
   ]
  },
  {
   "cell_type": "code",
   "execution_count": 34,
   "id": "e0cef657",
   "metadata": {},
   "outputs": [
    {
     "name": "stdout",
     "output_type": "stream",
     "text": [
      " * sqlite://\n",
      "Done.\n"
     ]
    },
    {
     "data": {
      "text/html": [
       "<table>\n",
       "    <tr>\n",
       "        <th>id</th>\n",
       "        <th>biome</th>\n",
       "        <th>city</th>\n",
       "        <th>visitors</th>\n",
       "        <th>created_at</th>\n",
       "        <th>id_1</th>\n",
       "        <th>biome_1</th>\n",
       "        <th>city_1</th>\n",
       "        <th>visitors_1</th>\n",
       "        <th>created_at_1</th>\n",
       "        <th>sum</th>\n",
       "    </tr>\n",
       "    <tr>\n",
       "        <td>2</td>\n",
       "        <td>ocean</td>\n",
       "        <td>Hawaii</td>\n",
       "        <td>1000</td>\n",
       "        <td>2021-01-02</td>\n",
       "        <td>6</td>\n",
       "        <td>hotel</td>\n",
       "        <td>Las Vegas</td>\n",
       "        <td>240</td>\n",
       "        <td>2021-01-15</td>\n",
       "        <td>1240</td>\n",
       "    </tr>\n",
       "</table>"
      ],
      "text/plain": [
       "[(2, 'ocean', 'Hawaii', 1000, '2021-01-02', 6, 'hotel', 'Las Vegas', 240, '2021-01-15', 1240)]"
      ]
     },
     "execution_count": 34,
     "metadata": {},
     "output_type": "execute_result"
    }
   ],
   "source": [
    "%%sql\n",
    "-- select pair of scenes with the most visitors\n",
    "SELECT *, Scene1.visitors + Scene2.visitors AS 'sum'\n",
    "FROM Scene AS Scene1, Scene AS Scene2\n",
    "WHERE Scene1.biome != Scene2.biome OR Scene1.city != Scene2.city\n",
    "ORDER BY sum desc\n",
    "LIMIT 1;"
   ]
  },
  {
   "cell_type": "code",
   "execution_count": 35,
   "id": "f9fcf645",
   "metadata": {},
   "outputs": [
    {
     "name": "stdout",
     "output_type": "stream",
     "text": [
      " * sqlite://\n",
      "(sqlite3.OperationalError) near \"WHERE\": syntax error\n",
      "[SQL: -- how to fix the syntax error?\n",
      "SELECT city\n",
      "FROM Scene\n",
      "GROUP BY city\n",
      "WHERE visitors >= 125;]\n",
      "(Background on this error at: https://sqlalche.me/e/14/e3q8)\n"
     ]
    }
   ],
   "source": [
    "%%sql\n",
    "-- how to fix the syntax error?\n",
    "SELECT city\n",
    "FROM Scene\n",
    "GROUP BY city\n",
    "WHERE visitors >= 125;"
   ]
  },
  {
   "cell_type": "code",
   "execution_count": 36,
   "id": "8abeb9b3",
   "metadata": {},
   "outputs": [
    {
     "name": "stdout",
     "output_type": "stream",
     "text": [
      " * sqlite://\n",
      "Done.\n"
     ]
    },
    {
     "data": {
      "text/html": [
       "<table>\n",
       "    <tr>\n",
       "        <th>city</th>\n",
       "    </tr>\n",
       "    <tr>\n",
       "        <td>Hawaii</td>\n",
       "    </tr>\n",
       "    <tr>\n",
       "        <td>Las Vegas</td>\n",
       "    </tr>\n",
       "</table>"
      ],
      "text/plain": [
       "[('Hawaii',), ('Las Vegas',)]"
      ]
     },
     "execution_count": 36,
     "metadata": {},
     "output_type": "execute_result"
    }
   ],
   "source": [
    "%%sql\n",
    "-- fixed syntax error above\n",
    "SELECT city\n",
    "FROM Scene\n",
    "WHERE visitors >= 125\n",
    "GROUP BY city;"
   ]
  },
  {
   "cell_type": "code",
   "execution_count": 37,
   "id": "2b5db322",
   "metadata": {},
   "outputs": [
    {
     "name": "stdout",
     "output_type": "stream",
     "text": [
      " * sqlite://\n",
      "Done.\n"
     ]
    },
    {
     "data": {
      "text/html": [
       "<table>\n",
       "    <tr>\n",
       "        <th>city</th>\n",
       "    </tr>\n",
       "    <tr>\n",
       "        <td>Hawaii</td>\n",
       "    </tr>\n",
       "    <tr>\n",
       "        <td>Las Vegas</td>\n",
       "    </tr>\n",
       "</table>"
      ],
      "text/plain": [
       "[('Hawaii',), ('Las Vegas',)]"
      ]
     },
     "execution_count": 37,
     "metadata": {},
     "output_type": "execute_result"
    }
   ],
   "source": [
    "%%sql\n",
    "-- trying to select all cities with at least 125 visitors\n",
    "-- include all scenes per city. (should include Las Vegas, Paris too)\n",
    "-- what's wrong?\n",
    "SELECT city\n",
    "FROM Scene\n",
    "WHERE visitors >= 125\n",
    "GROUP BY city;"
   ]
  },
  {
   "cell_type": "code",
   "execution_count": 38,
   "id": "b0b81a2c",
   "metadata": {},
   "outputs": [
    {
     "name": "stdout",
     "output_type": "stream",
     "text": [
      " * sqlite://\n",
      "Done.\n"
     ]
    },
    {
     "data": {
      "text/html": [
       "<table>\n",
       "    <tr>\n",
       "        <th>city</th>\n",
       "    </tr>\n",
       "    <tr>\n",
       "        <td>Hawaii</td>\n",
       "    </tr>\n",
       "    <tr>\n",
       "        <td>Las Vegas</td>\n",
       "    </tr>\n",
       "    <tr>\n",
       "        <td>Paris</td>\n",
       "    </tr>\n",
       "</table>"
      ],
      "text/plain": [
       "[('Hawaii',), ('Las Vegas',), ('Paris',)]"
      ]
     },
     "execution_count": 38,
     "metadata": {},
     "output_type": "execute_result"
    }
   ],
   "source": [
    "%%sql\n",
    "-- SOLN to above\n",
    "SELECT city\n",
    "FROM Scene\n",
    "GROUP BY city\n",
    "HAVING SUM(visitors) >= 125;"
   ]
  },
  {
   "cell_type": "code",
   "execution_count": 39,
   "id": "b955d003",
   "metadata": {},
   "outputs": [
    {
     "name": "stdout",
     "output_type": "stream",
     "text": [
      " * sqlite://\n",
      "Done.\n"
     ]
    },
    {
     "data": {
      "text/html": [
       "<table>\n",
       "    <tr>\n",
       "        <th>city</th>\n",
       "        <th>visitors</th>\n",
       "    </tr>\n",
       "    <tr>\n",
       "        <td>Iceland</td>\n",
       "        <td>1</td>\n",
       "    </tr>\n",
       "</table>"
      ],
      "text/plain": [
       "[('Iceland', 1)]"
      ]
     },
     "execution_count": 39,
     "metadata": {},
     "output_type": "execute_result"
    }
   ],
   "source": [
    "%%sql\n",
    "--trying to compute the *biome that is least populated (for each biome, consider visitors across all cities)\n",
    "--answer should Paris. Why Austin here?\n",
    "--what's wrong?\n",
    "SELECT city, visitors\n",
    "FROM Scene\n",
    "GROUP BY city\n",
    "ORDER BY MIN(visitors)\n",
    "LIMIT 1;"
   ]
  },
  {
   "cell_type": "code",
   "execution_count": 40,
   "id": "14ccb7d9",
   "metadata": {},
   "outputs": [
    {
     "name": "stdout",
     "output_type": "stream",
     "text": [
      " * sqlite://\n",
      "(sqlite3.OperationalError) near \"FROM\": syntax error\n",
      "[SQL: --soln to above SELECT city, SUM(visitors)\n",
      "FROM Scene\n",
      "GROUP BY city\n",
      "ORDER BY SUM(visitors) asc\n",
      "LIMIT 1;]\n",
      "(Background on this error at: https://sqlalche.me/e/14/e3q8)\n"
     ]
    }
   ],
   "source": [
    "%%sql\n",
    "--soln to above\n",
    "SELECT city, SUM(visitors)\n",
    "FROM Scene\n",
    "GROUP BY city\n",
    "ORDER BY SUM(visitors) asc\n",
    "LIMIT 1;"
   ]
  }
 ],
 "metadata": {
  "kernelspec": {
   "display_name": "Python 3 (ipykernel)",
   "language": "python",
   "name": "python3"
  },
  "language_info": {
   "codemirror_mode": {
    "name": "ipython",
    "version": 3
   },
   "file_extension": ".py",
   "mimetype": "text/x-python",
   "name": "python",
   "nbconvert_exporter": "python",
   "pygments_lexer": "ipython3",
   "version": "3.9.7"
  }
 },
 "nbformat": 4,
 "nbformat_minor": 5
}
