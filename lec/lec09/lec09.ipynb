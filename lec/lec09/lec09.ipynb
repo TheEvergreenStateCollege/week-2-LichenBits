{
 "cells": [
  {
   "cell_type": "code",
   "execution_count": null,
   "id": "59dfd544",
   "metadata": {},
   "outputs": [],
   "source": [
    "%load_ext sql"
   ]
  },
  {
   "cell_type": "code",
   "execution_count": null,
   "id": "97739deb",
   "metadata": {},
   "outputs": [],
   "source": [
    "%sql sqlite://"
   ]
  },
  {
   "cell_type": "markdown",
   "id": "6ad8b579",
   "metadata": {},
   "source": [
    "# Test"
   ]
  },
  {
   "cell_type": "code",
   "execution_count": null,
   "id": "b0596451",
   "metadata": {},
   "outputs": [],
   "source": [
    "%%sql\n",
    "DROP TABLE IF EXISTS Student;\n",
    "CREATE TABLE Student (\n",
    "    id INTEGER PRIMARY KEY AUTOINCREMENT,\n",
    "    name TEXT,\n",
    "    year INTEGER,\n",
    "    teacher_id INTEGER\n",
    ");\n",
    "INSERT INTO Student(name, teacher_id, year) VALUES \n",
    "    ('Bob', 0, 2022),\n",
    "    ('Jane', 0, 2023),\n",
    "    ('John', 1, 2022);\n",
    "    \n",
    "DROP TABLE IF EXISTS Teacher;\n",
    "CREATE TABLE Teacher (\n",
    "    id INTEGER PRIMARY KEY AUTOINCREMENT,\n",
    "    name TEXT\n",
    ");\n",
    "INSERT INTO Teacher(name) VALUES\n",
    "    ('Janice'),\n",
    "    ('Zuck');"
   ]
  },
  {
   "cell_type": "code",
   "execution_count": null,
   "id": "bd61dbdf",
   "metadata": {},
   "outputs": [],
   "source": [
    "%%sql\n",
    "SELECT *\n",
    "FROM Student\n",
    "JOIN Teacher ON Student.teacher_id = Teacher.id\n",
    "WHERE Student.name LIKE '%o%'\n",
    "GROUP BY year;"
   ]
  },
  {
   "cell_type": "markdown",
   "id": "dc1eebba",
   "metadata": {},
   "source": [
    "# 9.4 JOINs"
   ]
  },
  {
   "cell_type": "code",
   "execution_count": null,
   "id": "b3cde58d",
   "metadata": {},
   "outputs": [],
   "source": [
    "%%sql\n",
    "DROP TABLE IF EXISTS Breed;\n",
    "CREATE TABLE Breed (\n",
    "    id INTEGER PRIMARY KEY AUTOINCREMENT,\n",
    "    name TEXT NOT NULL\n",
    ");\n",
    "INSERT INTO Breed (name) VALUES\n",
    "    ('Corgi'),\n",
    "    ('Bernese'),\n",
    "    ('Bulldog');\n",
    "    \n",
    "DROP TABLE IF EXISTS Pet;\n",
    "CREATE TABLE Pet (\n",
    "    id INTEGER PRIMARY KEY AUTOINCREMENT,\n",
    "    breed_id INTEGER NOT NULL,\n",
    "    name TEXT NOT NULL\n",
    ");\n",
    "INSERT INTO Pet (breed_id, name) VALUES\n",
    "    (1, 'Apricot'),\n",
    "    (2, 'Boots');"
   ]
  },
  {
   "cell_type": "code",
   "execution_count": null,
   "id": "358cebb3",
   "metadata": {},
   "outputs": [],
   "source": [
    "%%sql\n",
    "SELECT *\n",
    "FROM Pet AS p, Breed AS b;"
   ]
  },
  {
   "cell_type": "code",
   "execution_count": null,
   "id": "7236e59c",
   "metadata": {},
   "outputs": [],
   "source": [
    "%%sql\n",
    "SELECT *\n",
    "FROM Pet AS p\n",
    "JOIN Breed AS b\n",
    "    ON p.breed_id = b.id;"
   ]
  },
  {
   "cell_type": "code",
   "execution_count": null,
   "id": "5050f7ae",
   "metadata": {},
   "outputs": [],
   "source": [
    "%%sql\n",
    "SELECT *\n",
    "FROM Pet AS p, Breed AS b\n",
    "WHERE p.breed_id = b.id;"
   ]
  },
  {
   "cell_type": "code",
   "execution_count": null,
   "id": "1cb8ea44",
   "metadata": {},
   "outputs": [],
   "source": [
    "%%sql\n",
    "SELECT *\n",
    "FROM Breed AS b\n",
    "LEFT JOIN Pet AS p\n",
    "    ON p.breed_id = b.id;"
   ]
  },
  {
   "cell_type": "code",
   "execution_count": null,
   "id": "3b1f2d0e",
   "metadata": {},
   "outputs": [],
   "source": [
    "%%sql\n",
    "CREATE TABLE Student (\n",
    "    age INTEGER PRIMARY KEY,\n",
    "    name TEXT NOT NULL\n",
    ");\n",
    "INSERT INTO Student VALUES\n",
    "    (29, 'Jameel'),\n",
    "    (37, 'Jian'),\n",
    "    (20, 'Emma');\n",
    "    \n",
    "CREATE TABLE Teacher (\n",
    "    age INTEGER PRIMARY KEY,\n",
    "    name TEXT NOT NULL\n",
    ");\n",
    "INSERT INTO Teacher VALUES\n",
    "    (52, 'Ira'),\n",
    "    (27, 'John'),\n",
    "    (36, 'Anuja');"
   ]
  },
  {
   "cell_type": "code",
   "execution_count": null,
   "id": "4c843680",
   "metadata": {},
   "outputs": [],
   "source": [
    "%%sql\n",
    "SELECT *\n",
    "FROM Student as s\n",
    "JOIN Teacher as t\n",
    "     ON s.age > t.age;"
   ]
  },
  {
   "cell_type": "code",
   "execution_count": null,
   "id": "243c193c",
   "metadata": {},
   "outputs": [],
   "source": [
    "%%sql\n",
    "DROP TABLE IF EXISTS Penguin;\n",
    "CREATE TABLE Penguin (\n",
    "    id INTEGER PRIMARY KEY AUTOINCREMENT,\n",
    "    name TEXT NOT NULL,\n",
    "    height INTEGER NOT NULL,\n",
    "    age INTEGER NOT NULL\n",
    ");\n",
    "INSERT INTO Penguin (name, height, age) VALUES \n",
    "    ('Alice', 3.6, 10),\n",
    "    ('Bob', 4.0, 15),\n",
    "    ('Cassie', 3.8, 5),\n",
    "    ('Dahlia', 3.5, 10),\n",
    "    ('Eve', 4.2, 5),\n",
    "    ('Fred', 4.0, 12),\n",
    "    ('Glen', 4.1, 9);"
   ]
  },
  {
   "cell_type": "code",
   "execution_count": null,
   "id": "6f8e8361",
   "metadata": {},
   "outputs": [],
   "source": [
    "%%sql\n",
    "SELECT *\n",
    "FROM Penguin AS child\n",
    "JOIN Penguin AS parent\n",
    "    ON child.age < parent.age;"
   ]
  },
  {
   "cell_type": "markdown",
   "id": "71e4e4ad",
   "metadata": {},
   "source": [
    "# 9.5 NULLs"
   ]
  },
  {
   "cell_type": "code",
   "execution_count": null,
   "id": "48986936",
   "metadata": {
    "scrolled": true
   },
   "outputs": [],
   "source": [
    "%%sql\n",
    "DROP TABLE IF EXISTS Penguin;\n",
    "CREATE TABLE Penguin(\n",
    "    id INTEGER PRIMARY KEY AUTOINCREMENT,\n",
    "    name TEXT,\n",
    "    height INTEGER\n",
    ");\n",
    "INSERT INTO Penguin (name, height) VALUES\n",
    "    ('Alice', 10),\n",
    "    ('Bob', 11),\n",
    "    ('Cassie', 8),\n",
    "    (NULL, NULL);"
   ]
  },
  {
   "cell_type": "code",
   "execution_count": null,
   "id": "9ffb90ea",
   "metadata": {},
   "outputs": [],
   "source": [
    "%sql SELECT * FROM Penguin;"
   ]
  },
  {
   "cell_type": "code",
   "execution_count": null,
   "id": "d178b81c",
   "metadata": {},
   "outputs": [],
   "source": [
    "%%sql\n",
    "SELECT *\n",
    "FROM Penguin\n",
    "WHERE name = NULL;"
   ]
  },
  {
   "cell_type": "code",
   "execution_count": null,
   "id": "7ddf16f0",
   "metadata": {},
   "outputs": [],
   "source": [
    "%%sql\n",
    "SELECT name = NULL\n",
    "FROM Penguin;"
   ]
  },
  {
   "cell_type": "code",
   "execution_count": null,
   "id": "45131b07",
   "metadata": {},
   "outputs": [],
   "source": [
    "%%sql\n",
    "SELECT name < NULL\n",
    "FROM Penguin;"
   ]
  },
  {
   "cell_type": "code",
   "execution_count": null,
   "id": "d2250b41",
   "metadata": {},
   "outputs": [],
   "source": [
    "%%sql\n",
    "SELECT name > NULL\n",
    "FROM Penguin;"
   ]
  },
  {
   "cell_type": "code",
   "execution_count": null,
   "id": "f6ea7cd2",
   "metadata": {},
   "outputs": [],
   "source": [
    "%%sql\n",
    "SELECT name IS NULL\n",
    "FROM Penguin;"
   ]
  },
  {
   "cell_type": "code",
   "execution_count": null,
   "id": "2b553b65",
   "metadata": {},
   "outputs": [],
   "source": [
    "%%sql\n",
    "SELECT name IS NOT NULL\n",
    "FROM Penguin;"
   ]
  },
  {
   "cell_type": "code",
   "execution_count": null,
   "id": "90d8541d",
   "metadata": {},
   "outputs": [],
   "source": [
    "%%sql\n",
    "SELECT *\n",
    "FROM Penguin\n",
    "WHERE name IS NOT NULL;"
   ]
  },
  {
   "cell_type": "code",
   "execution_count": null,
   "id": "137463f3",
   "metadata": {},
   "outputs": [],
   "source": [
    "%%sql\n",
    "SELECT SUM(height)\n",
    "FROM Penguin;"
   ]
  },
  {
   "cell_type": "code",
   "execution_count": null,
   "id": "9be9f1e7",
   "metadata": {},
   "outputs": [],
   "source": [
    "%%sql\n",
    "SELECT COUNT(name)\n",
    "FROM Penguin;"
   ]
  },
  {
   "cell_type": "code",
   "execution_count": null,
   "id": "b48be3f9",
   "metadata": {},
   "outputs": [],
   "source": [
    "%%sql\n",
    "SELECT COUNT(*)\n",
    "FROM Penguin;"
   ]
  },
  {
   "cell_type": "markdown",
   "id": "09f298ed",
   "metadata": {},
   "source": [
    "# 9.6 Subsampling"
   ]
  },
  {
   "cell_type": "code",
   "execution_count": null,
   "id": "af231217",
   "metadata": {},
   "outputs": [],
   "source": [
    "%%sql\n",
    "DROP TABLE IF EXISTS Penguin;\n",
    "CREATE TABLE Penguin (\n",
    "    id INTEGER PRIMARY KEY AUTOINCREMENT,\n",
    "    name TEXT NOT NULL,\n",
    "    height INTEGER NOT NULL,\n",
    "    age INTEGER NOT NULL\n",
    ");\n",
    "INSERT INTO Penguin (name, height, age) VALUES \n",
    "    ('Alice', 3.6, 10),\n",
    "    ('Bob', 4.0, 15),\n",
    "    ('Cassie', 3.8, 5),\n",
    "    ('Dahlia', 3.5, 10),\n",
    "    ('Eve', 4.2, 5),\n",
    "    ('Fred', 4.0, 12),\n",
    "    ('Glen', 4.1, 9);"
   ]
  },
  {
   "cell_type": "code",
   "execution_count": null,
   "id": "1df0f1f0",
   "metadata": {},
   "outputs": [],
   "source": [
    "%%sql\n",
    "SELECT * FROM Penguin LIMIT 3;"
   ]
  },
  {
   "cell_type": "code",
   "execution_count": null,
   "id": "8053237b",
   "metadata": {},
   "outputs": [],
   "source": [
    "%%sql\n",
    "SELECT *\n",
    "FROM Penguin\n",
    "ORDER BY height\n",
    "LIMIT 3;"
   ]
  },
  {
   "cell_type": "code",
   "execution_count": null,
   "id": "82512277",
   "metadata": {},
   "outputs": [],
   "source": [
    "%%sql\n",
    "SELECT *\n",
    "FROM Penguin\n",
    "ORDER BY RANDOM()\n",
    "LIMIT 3;"
   ]
  },
  {
   "cell_type": "code",
   "execution_count": null,
   "id": "ee36e765",
   "metadata": {},
   "outputs": [],
   "source": [
    "%%sql\n",
    "SELECT age\n",
    "FROM Penguin\n",
    "GROUP BY age\n",
    "ORDER BY RANDOM()\n",
    "LIMIT 3;"
   ]
  },
  {
   "cell_type": "code",
   "execution_count": null,
   "id": "4f66502a",
   "metadata": {},
   "outputs": [],
   "source": [
    "%%sql\n",
    "SELECT *\n",
    "FROM Penguin\n",
    "WHERE age IN (\n",
    "    SELECT age\n",
    "    FROM Penguin\n",
    "    GROUP BY age\n",
    "    ORDER BY RANDOM()\n",
    "    LIMIT 3\n",
    ");"
   ]
  },
  {
   "cell_type": "code",
   "execution_count": null,
   "id": "efb10d7d",
   "metadata": {},
   "outputs": [],
   "source": [
    "%%sql\n",
    "WITH ages AS (\n",
    "    SELECT age\n",
    "    FROM Penguin\n",
    "    GROUP BY age\n",
    "    ORDER BY RANDOM()\n",
    "    LIMIT 3\n",
    ")\n",
    "SELECT *\n",
    "FROM Penguin\n",
    "WHERE age in ages;"
   ]
  },
  {
   "cell_type": "code",
   "execution_count": null,
   "id": "616b6996",
   "metadata": {},
   "outputs": [],
   "source": [
    "%%sql\n",
    "WITH children AS (\n",
    "    SELECT id\n",
    "    FROM Penguin\n",
    "    ORDER BY RANDOM()\n",
    "    LIMIT 3\n",
    ")\n",
    "SELECT *\n",
    "FROM Penguin AS child\n",
    "JOIN Penguin AS parent\n",
    "    ON child.age < parent.age\n",
    "WHERE child.id IN children;"
   ]
  },
  {
   "cell_type": "markdown",
   "id": "c69b118f",
   "metadata": {},
   "source": [
    "# 9.7 Practice"
   ]
  },
  {
   "cell_type": "code",
   "execution_count": null,
   "id": "f549c628",
   "metadata": {},
   "outputs": [],
   "source": [
    "%%sql\n",
    "DROP TABLE IF EXISTS Breed;\n",
    "CREATE TABLE Breed (\n",
    "    id INTEGER PRIMARY KEY AUTOINCREMENT,\n",
    "    name TEXT NOT NULL,\n",
    "    lifespan INTEGER NOT NULL\n",
    ");\n",
    "INSERT INTO Breed (name, lifespan) VALUES\n",
    "    ('Corgi', 15),\n",
    "    ('Bernese', 8),\n",
    "    ('Husky', 12),\n",
    "    ('Bulldog', 10);\n",
    "\n",
    "DROP TABLE IF EXISTS Dog;\n",
    "CREATE TABLE Dog(\n",
    "    id INTEGER PRIMARY KEY AUTOINCREMENT,\n",
    "    breed_id INTEGER NOT NULL,\n",
    "    name TEXT NOT NULL,\n",
    "    height INTEGER NOT NULL,\n",
    "    parent_id INTEGER\n",
    ");\n",
    "INSERT INTO Dog (breed_id, name, height, parent_id) VALUES\n",
    "    (1, 'Apricot', 11, NULL),\n",
    "    (2, 'Maxie', 25, NULL),\n",
    "    (1, 'Charlie', 8, 1),\n",
    "    (3, 'Maya', 24, 1),\n",
    "    (1, 'Dixie', 9, 1);"
   ]
  },
  {
   "cell_type": "code",
   "execution_count": null,
   "id": "a939bb57",
   "metadata": {},
   "outputs": [],
   "source": [
    "%sql SELECT * FROM Breed;"
   ]
  },
  {
   "cell_type": "code",
   "execution_count": null,
   "id": "4f6b5e42",
   "metadata": {},
   "outputs": [],
   "source": [
    "%sql SELECT * FROM Dog;"
   ]
  },
  {
   "cell_type": "markdown",
   "id": "d9999ef2",
   "metadata": {},
   "source": [
    "## 9.7.1 Queries"
   ]
  },
  {
   "cell_type": "code",
   "execution_count": null,
   "id": "5297c5f2",
   "metadata": {},
   "outputs": [],
   "source": [
    "%%sql\n",
    "-- For each dog, report the name and expected lifespan.\n",
    "SELECT Dog.name, Breed.lifespan\n",
    "FROM Dog\n",
    "JOIN Breed\n",
    "    ON Dog.breed_id = Breed.id;"
   ]
  },
  {
   "cell_type": "code",
   "execution_count": null,
   "id": "e948bf05",
   "metadata": {},
   "outputs": [],
   "source": [
    "%%sql\n",
    "--For each dog, report the name of that dog’s parent.\n",
    "SELECT Child.name, Parent.name\n",
    "FROM Dog as Child\n",
    "JOIN Dog as Parent\n",
    "    ON Parent.id = Child.parent_id;"
   ]
  },
  {
   "cell_type": "code",
   "execution_count": null,
   "id": "5ac41d35",
   "metadata": {},
   "outputs": [],
   "source": [
    "%%sql\n",
    "--Report the number of dogs for each breed.\n",
    "SELECT Breed.name, COUNT(DISTINCT Dog.id)\n",
    "FROM Breed\n",
    "LEFT JOIN Dog\n",
    "    ON Dog.breed_id = Breed.id\n",
    "GROUP BY Breed.id;"
   ]
  },
  {
   "cell_type": "markdown",
   "id": "97e51ef9",
   "metadata": {},
   "source": [
    "## 9.7.2 Advanced Queries"
   ]
  },
  {
   "cell_type": "code",
   "execution_count": null,
   "id": "60fd4fcd",
   "metadata": {},
   "outputs": [],
   "source": [
    "%%sql\n",
    "--Report the average height for each breed’s children and parents, separately.\n",
    "SELECT\n",
    "    Breed.name,\n",
    "    AVG(Child.height)\n",
    "FROM Breed\n",
    "JOIN Dog AS Child\n",
    "    ON Child.breed_id = Breed.id\n",
    "JOIN Dog as Parent\n",
    "\tON Child.parent_id = Parent.id\n",
    "GROUP BY Breed.id;"
   ]
  },
  {
   "cell_type": "code",
   "execution_count": null,
   "id": "9302f5b2",
   "metadata": {},
   "outputs": [],
   "source": [
    "%%sql\n",
    "--Report number of possible playmates (same breed, within 1” height) per breed.\n",
    "SELECT Dog1.name, Dog2.name\n",
    "FROM Dog AS Dog1\n",
    "JOIN Dog AS Dog2\n",
    "    ON ABS(Dog1.height - Dog2.height) <= 1\n",
    "    AND Dog1.breed_id = Dog2.breed_id\n",
    "JOIN Breed\n",
    "\tON Dog1.breed_id = Breed.id\n",
    "WHERE Dog1.id > Dog2.id;"
   ]
  },
  {
   "cell_type": "code",
   "execution_count": null,
   "id": "b417c761",
   "metadata": {},
   "outputs": [],
   "source": [
    "%%sql\n",
    "--Report the average height for each dog family.\n",
    "--One family is just Maxie (25). The other 4 dogs are all in the same family AVG(11 + 8 + 24 + 9) = 13\n",
    "SELECT\n",
    "    AVG(height),\n",
    "    CASE\n",
    "        WHEN Dog.parent_id IS NULL THEN Dog.id\n",
    "        ELSE Dog.parent_id\n",
    "    END AS family_id \n",
    "FROM Dog\n",
    "GROUP BY family_id;"
   ]
  },
  {
   "cell_type": "code",
   "execution_count": null,
   "id": "cb3881e2",
   "metadata": {},
   "outputs": [],
   "source": [
    "%%sql\n",
    "SELECT name\n",
    "FROM Dog\n",
    "WHERE parent_id IS NULL;"
   ]
  },
  {
   "cell_type": "code",
   "execution_count": null,
   "id": "66ba54bc",
   "metadata": {},
   "outputs": [],
   "source": [
    "%%sql\n",
    "--Report the average height for each dog family.\n",
    "--One family is just Maxie (25). The other 4 dogs are all in the same family AVG(11 + 8 + 24 + 9) = 13\n",
    "SELECT\n",
    "    AVG(Dog.height),\n",
    "    Parent.name,\n",
    "    CASE\n",
    "        WHEN Dog.parent_id IS NULL THEN Dog.id\n",
    "        ELSE Dog.parent_id\n",
    "    END AS family_id\n",
    "FROM Dog\n",
    "JOIN Dog As Parent\n",
    "    ON family_id = Parent.id\n",
    "GROUP BY family_id;"
   ]
  },
  {
   "cell_type": "markdown",
   "id": "15b66855",
   "metadata": {},
   "source": [
    "## 9.7.3 Debug Queries"
   ]
  },
  {
   "cell_type": "code",
   "execution_count": null,
   "id": "7d91170a",
   "metadata": {},
   "outputs": [],
   "source": [
    "%%sql\n",
    "--syntax error\n",
    "SELECT lifespan, COUNT(*),\n",
    "FROM Breed\n",
    "JOIN Dog\n",
    "    ON Dog.breed_id = Breed.id\n",
    "GROUP BY lifespan;"
   ]
  },
  {
   "cell_type": "code",
   "execution_count": null,
   "id": "81cf9812",
   "metadata": {},
   "outputs": [],
   "source": [
    "%%sql\n",
    "--fix the above error\n",
    "SELECT lifespan, COUNT(*)\n",
    "FROM Breed\n",
    "JOIN Dog\n",
    "    ON Dog.breed_id = Breed.id\n",
    "GROUP BY lifespan;"
   ]
  },
  {
   "cell_type": "code",
   "execution_count": null,
   "id": "b17e4903",
   "metadata": {},
   "outputs": [],
   "source": [
    "%%sql\n",
    "--wrong way of randomly selecting letters, then selecting all dogs for that letter\n",
    "SELECT name, SUBSTR(name, 1, 1) as 'first'\n",
    "FROM Dog\n",
    "GROUP BY first\n",
    "ORDER BY RANDOM()\n",
    "LIMIT 2;"
   ]
  },
  {
   "cell_type": "code",
   "execution_count": null,
   "id": "df12a0a6",
   "metadata": {},
   "outputs": [],
   "source": [
    "%%sql\n",
    "--still wrong! sometimes only 1 letter shows up\n",
    "WITH Letter AS (\n",
    "    SELECT SUBSTR(name, 1, 1) AS 'first'\n",
    "    FROM Dog\n",
    "    ORDER BY RANDOM()\n",
    "    LIMIT 2\n",
    ")\n",
    "SELECT name\n",
    "FROM Dog\n",
    "WHERE SUBSTR(name, 1, 1) IN Letter;"
   ]
  },
  {
   "cell_type": "code",
   "execution_count": null,
   "id": "d4476481",
   "metadata": {},
   "outputs": [],
   "source": [
    "%%sql\n",
    "--correct way of randomly selecting letters, then selecting all dogs for that letter\n",
    "WITH Letter AS (\n",
    "    SELECT DISTINCT SUBSTR(name, 1, 1) AS 'first'\n",
    "    FROM Dog\n",
    "    ORDER BY RANDOM()\n",
    "    LIMIT 2\n",
    ")\n",
    "SELECT name\n",
    "FROM Dog\n",
    "WHERE SUBSTR(name, 1, 1) IN Letter;"
   ]
  },
  {
   "cell_type": "code",
   "execution_count": null,
   "id": "5b0eceb6",
   "metadata": {
    "scrolled": true
   },
   "outputs": [],
   "source": [
    "%%sql\n",
    "SELECT\n",
    "    AVG(height),\n",
    "    FLOOR(lifespan / 7) AS 'age'\n",
    "FROM Dog\n",
    "JOIN Breed\n",
    "    ON Dog.breed_id = Breed.id\n",
    "GROUP BY age;\n",
    "\n",
    "--OR the following, which has a nicer display\n",
    "SELECT\n",
    "    AVG(height),\n",
    "    CASE \n",
    "        WHEN 15 <= lifespan AND lifespan <= 22 THEN '15-22'\n",
    "        WHEN 7 <= lifespan AND lifespan <= 14 THEN '7-14'\n",
    "        ELSE NULL\n",
    "    END AS 'age'\n",
    "FROM Dog\n",
    "JOIN Breed\n",
    "    ON Dog.breed_id = Breed.id\n",
    "GROUP BY age;"
   ]
  },
  {
   "cell_type": "code",
   "execution_count": null,
   "id": "b891759a",
   "metadata": {},
   "outputs": [],
   "source": [
    "%%sql\n",
    "SELECT Breed.name, MAX(height)\n",
    "FROM Dog\n",
    "JOIN Breed\n",
    "    ON Dog.breed_id = Breed.id\n",
    "GROUP BY Breed.id\n",
    "ORDER BY RANDOM()\n",
    "LIMIT 2;"
   ]
  },
  {
   "cell_type": "code",
   "execution_count": null,
   "id": "d9324d32",
   "metadata": {},
   "outputs": [],
   "source": [
    "%%sql\n",
    "--wrong way of selecting tallest dog for 2 random breeds (sometimes, only 1 breed shows up)\n",
    "WITH SampleBreed AS (\n",
    "    SELECT id\n",
    "    FROM Breed\n",
    "    ORDER BY RANDOM()\n",
    "    LIMIT 2\n",
    ")\n",
    "SELECT Dog.name, MAX(Dog.height)\n",
    "FROM Dog\n",
    "JOIN SampleBreed\n",
    "\tON Dog.breed_id = SampleBreed.id\n",
    "GROUP BY SampleBreed.id;"
   ]
  },
  {
   "cell_type": "code",
   "execution_count": null,
   "id": "fdd6a79a",
   "metadata": {},
   "outputs": [],
   "source": [
    "%%sql\n",
    "--fixes sampling 2 random breeds by ignoring breeds with no dogs\n",
    "WITH SampleBreed AS (\n",
    "    SELECT Breed.id, Breed.name\n",
    "    FROM Breed\n",
    "    JOIN Dog\n",
    "        ON Dog.breed_id = Breed.id\n",
    "    GROUP BY Breed.id\n",
    "    ORDER BY RANDOM()\n",
    "    LIMIT 2\n",
    ")\n",
    "SELECT Dog.name, SampleBreed.name, MAX(Dog.height)\n",
    "FROM Dog\n",
    "JOIN SampleBreed\n",
    "\tON Dog.breed_id = SampleBreed.id\n",
    "GROUP BY SampleBreed.id;"
   ]
  },
  {
   "cell_type": "code",
   "execution_count": null,
   "id": "0350f271",
   "metadata": {},
   "outputs": [],
   "source": [
    "%%sql\n",
    "--slower query for finding tallest child dog\n",
    "SELECT Child.name, Child.height\n",
    "FROM Dog as Child\n",
    "JOIN Dog as Parent\n",
    "\tON Parent.id = Child.parent_id\n",
    "ORDER BY Child.height desc\n",
    "LIMIT 1;"
   ]
  },
  {
   "cell_type": "code",
   "execution_count": null,
   "id": "f2296272",
   "metadata": {},
   "outputs": [],
   "source": [
    "%%sql\n",
    "--faster query for finding tallest child dog\n",
    "SELECT name, height\n",
    "FROM Dog\n",
    "WHERE parent_id IS NOT NULL\n",
    "ORDER BY height DESC\n",
    "LIMIT 1;"
   ]
  },
  {
   "cell_type": "code",
   "execution_count": null,
   "id": "9c435cda",
   "metadata": {},
   "outputs": [],
   "source": []
  },
  {
   "cell_type": "code",
   "execution_count": 1,
   "id": "e94c741f-7448-47c5-8064-7796b7b8da47",
   "metadata": {},
   "outputs": [],
   "source": [
    "%load_ext sql\n",
    "%sql sqlite://"
   ]
  },
  {
   "cell_type": "code",
   "execution_count": 4,
   "id": "067e9cee-77f5-4bae-885c-9b9e5e2460a5",
   "metadata": {},
   "outputs": [
    {
     "name": "stdout",
     "output_type": "stream",
     "text": [
      " * sqlite://\n",
      "Done.\n"
     ]
    },
    {
     "data": {
      "text/plain": [
       "[]"
      ]
     },
     "execution_count": 4,
     "metadata": {},
     "output_type": "execute_result"
    }
   ],
   "source": [
    "%%sql\n",
    "CREATE TABLE staff_reviews(\n",
    "    staff_member TEXT NOT NULL,\n",
    "    restaurant TEXT NOT NULL,\n",
    "    type TEST NOT NULL,\n",
    "    rating INTEGER NOT NULL,\n",
    "    price INTEGER NOT NULL\n",
    ");  "
   ]
  },
  {
   "cell_type": "code",
   "execution_count": 8,
   "id": "04ca0c5a-802f-455d-a5ec-f3197f435c06",
   "metadata": {},
   "outputs": [
    {
     "name": "stdout",
     "output_type": "stream",
     "text": [
      " * sqlite://\n",
      "13 rows affected.\n"
     ]
    },
    {
     "data": {
      "text/plain": [
       "[]"
      ]
     },
     "execution_count": 8,
     "metadata": {},
     "output_type": "execute_result"
    }
   ],
   "source": [
    "%%sql\n",
    "INSERT INTO staff_reviews (staff_member, restaurant, type, rating, price) VALUES \n",
    "    ('andrew', 'imm_thai', 'thai', 4.5, 15),\n",
    "    ('akshara', 'great_china', 'chinese', 4.0, 14),\n",
    "    ('kelly', 'sliver', 'pizza', 5, 10),\n",
    "    ('akshara', 'sliver', 'pizza', 4.5, 10),\n",
    "    ('andrew', 'sliver', 'pizza', 5, 10),\n",
    "    ('connie', 'sliver', 'pizza', 4, 10),\n",
    "    ('andrew', 'kimchi_garden', 'korean', 4, 13),\n",
    "    ('andrew', 'kimchi_garden', 'korean', 5, 13),\n",
    "    ('andrew', 'kimchi_garden', 'korean', 5, 13),\n",
    "    ('andrew', 'la_burrita', 'mexican', 4, 10),\n",
    "    ('kunal', 'la_burrita', 'mexican', 4.5, 10),\n",
    "    ('kelly', 'la_burrita', 'mexican', 5, 12),\n",
    "    ('akshara', 'imm_thai', 'thai', 4, 13);"
   ]
  },
  {
   "cell_type": "code",
   "execution_count": 10,
   "id": "dfe83de4-4cb2-4fab-883c-a64dc1e88073",
   "metadata": {},
   "outputs": [
    {
     "name": "stdout",
     "output_type": "stream",
     "text": [
      " * sqlite://\n",
      "Done.\n"
     ]
    },
    {
     "data": {
      "text/html": [
       "<table>\n",
       "    <tr>\n",
       "        <th>staff_member</th>\n",
       "        <th>restaurant</th>\n",
       "        <th>type</th>\n",
       "        <th>rating</th>\n",
       "        <th>price</th>\n",
       "    </tr>\n",
       "    <tr>\n",
       "        <td>andrew</td>\n",
       "        <td>imm_thai</td>\n",
       "        <td>thai</td>\n",
       "        <td>4.5</td>\n",
       "        <td>15</td>\n",
       "    </tr>\n",
       "    <tr>\n",
       "        <td>akshara</td>\n",
       "        <td>great_china</td>\n",
       "        <td>chinese</td>\n",
       "        <td>4</td>\n",
       "        <td>14</td>\n",
       "    </tr>\n",
       "    <tr>\n",
       "        <td>kelly</td>\n",
       "        <td>sliver</td>\n",
       "        <td>pizza</td>\n",
       "        <td>5</td>\n",
       "        <td>10</td>\n",
       "    </tr>\n",
       "    <tr>\n",
       "        <td>akshara</td>\n",
       "        <td>sliver</td>\n",
       "        <td>pizza</td>\n",
       "        <td>4.5</td>\n",
       "        <td>10</td>\n",
       "    </tr>\n",
       "</table>"
      ],
      "text/plain": [
       "[('andrew', 'imm_thai', 'thai', 4.5, 15),\n",
       " ('akshara', 'great_china', 'chinese', 4, 14),\n",
       " ('kelly', 'sliver', 'pizza', 5, 10),\n",
       " ('akshara', 'sliver', 'pizza', 4.5, 10)]"
      ]
     },
     "execution_count": 10,
     "metadata": {},
     "output_type": "execute_result"
    }
   ],
   "source": [
    "%%sql\n",
    "SELECT * FROM staff_reviews LIMIT 4;"
   ]
  },
  {
   "cell_type": "code",
   "execution_count": 11,
   "id": "f8bc8cdc-73d1-41c1-88ec-358b5196b3b1",
   "metadata": {},
   "outputs": [
    {
     "name": "stdout",
     "output_type": "stream",
     "text": [
      " * sqlite://\n",
      "Done.\n"
     ]
    },
    {
     "data": {
      "text/plain": [
       "[]"
      ]
     },
     "execution_count": 11,
     "metadata": {},
     "output_type": "execute_result"
    }
   ],
   "source": [
    "%%sql    \n",
    "CREATE TABLE agg_reviews AS\n",
    "    SELECT restaurant, AVG(rating) AS avg_rating, COUNT(*) AS num_ratings, AVG(price) AS avg_price\n",
    "        FROM staff_reviews\n",
    "        GROUP BY restaurant;"
   ]
  },
  {
   "cell_type": "code",
   "execution_count": 13,
   "id": "971c4c89-3461-44bf-a6f0-cf1fc8807ac1",
   "metadata": {},
   "outputs": [
    {
     "name": "stdout",
     "output_type": "stream",
     "text": [
      " * sqlite://\n",
      "Done.\n"
     ]
    },
    {
     "data": {
      "text/html": [
       "<table>\n",
       "    <tr>\n",
       "        <th>restaurant</th>\n",
       "        <th>avg_rating</th>\n",
       "        <th>num_ratings</th>\n",
       "        <th>avg_price</th>\n",
       "    </tr>\n",
       "    <tr>\n",
       "        <td>great_china</td>\n",
       "        <td>4.0</td>\n",
       "        <td>1</td>\n",
       "        <td>14.0</td>\n",
       "    </tr>\n",
       "    <tr>\n",
       "        <td>imm_thai</td>\n",
       "        <td>4.25</td>\n",
       "        <td>2</td>\n",
       "        <td>14.0</td>\n",
       "    </tr>\n",
       "</table>"
      ],
      "text/plain": [
       "[('great_china', 4.0, 1, 14.0), ('imm_thai', 4.25, 2, 14.0)]"
      ]
     },
     "execution_count": 13,
     "metadata": {},
     "output_type": "execute_result"
    }
   ],
   "source": [
    "%%sql\n",
    "SELECT * FROM agg_reviews LIMIT 2;"
   ]
  },
  {
   "cell_type": "code",
   "execution_count": null,
   "id": "3e3584f3-1d46-4b17-bc9d-71a662ba9b1c",
   "metadata": {},
   "outputs": [],
   "source": [
    "%%sql\n",
    "SELECT agg.restaurant, avg_rating \n",
    "  FROM agg_reviews AS agg\n",
    "  CROSS JOIN \n",
    "    (SELECT MAX(avg_rating) AS max_rating\n",
    "       FROM agg_reviews) max\n",
    "  WHERE avg_rating = max_rating;"
   ]
  },
  {
   "cell_type": "code",
   "execution_count": null,
   "id": "8eb0c212-c866-4b7b-97f0-89d94543ec25",
   "metadata": {},
   "outputs": [],
   "source": [
    "%%sql\n",
    "SELECT restaurant, AVG(rating) AS avg_rating\n",
    "    FROM staff_reviews\n",
    "    WHERE restaurant NOT LIKE \"%t%\"\n",
    "    GROUP BY restaurant\n",
    "    HAVING COUNT(*) > 2 AND AVG(rating) >= 4.5;"
   ]
  },
  {
   "cell_type": "code",
   "execution_count": null,
   "id": "29ad32cd-b135-41e5-8207-b98e3a997711",
   "metadata": {},
   "outputs": [],
   "source": []
  }
 ],
 "metadata": {
  "kernelspec": {
   "display_name": "Python 3 (ipykernel)",
   "language": "python",
   "name": "python3"
  },
  "language_info": {
   "codemirror_mode": {
    "name": "ipython",
    "version": 3
   },
   "file_extension": ".py",
   "mimetype": "text/x-python",
   "name": "python",
   "nbconvert_exporter": "python",
   "pygments_lexer": "ipython3",
   "version": "3.9.7"
  }
 },
 "nbformat": 4,
 "nbformat_minor": 5
}
