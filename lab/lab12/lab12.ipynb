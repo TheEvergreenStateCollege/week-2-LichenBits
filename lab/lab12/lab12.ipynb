{
 "cells": [
  {
   "cell_type": "code",
   "execution_count": null,
   "metadata": {
    "deletable": false,
    "editable": false
   },
   "outputs": [],
   "source": [
    "# Initialize Otter\n",
    "import otter\n",
    "grader = otter.Notebook(\"lab12.ipynb\")"
   ]
  },
  {
   "cell_type": "markdown",
   "metadata": {
    "tags": []
   },
   "source": [
    "# Lab 12: Climate data, CO2 and xarray\n",
    "\n",
    "## Due Date\n",
    "\n",
    "This assignment is due on **Wednesday November 17th, 2021, at 11:59PM PDT**.\n",
    "\n",
    "## Collaboration Policy\n",
    "\n",
    "Data science is a collaborative activity. While you may talk with others about\n",
    "the homework, we ask that you **write your solutions individually**. If you do\n",
    "discuss the assignments with others please **include their names** at the top\n",
    "of your solution.\n",
    "\n",
    "This lab accompanies a lecture for Berkeley's Data 100 that covers the fundamental physical mechanisms behind global warming and analyzes CO2 and ocean temperature data.\n",
    "\n",
    "Authors: Fernando Pérez and [Dr. Chelle Gentemann](https://cgentemann.github.io)."
   ]
  },
  {
   "cell_type": "markdown",
   "metadata": {},
   "source": [
    "**Collaborators:** *list names here*"
   ]
  },
  {
   "cell_type": "code",
   "execution_count": 1,
   "metadata": {
    "nbgrader": {
     "grade": false,
     "grade_id": "setup",
     "locked": true,
     "schema_version": 2,
     "solution": false
    }
   },
   "outputs": [],
   "source": [
    "# Run this cell to set up your notebook\n",
    "%matplotlib inline\n",
    "\n",
    "import matplotlib.pyplot as plt\n",
    "import numpy as np\n",
    "import pandas as pd\n",
    "import seaborn as sns\n",
    "import os\n",
    "\n",
    "from pathlib import Path\n",
    "\n",
    "# Small style adjustments for more readable plots\n",
    "plt.style.use(\"seaborn-whitegrid\")\n",
    "plt.rcParams[\"figure.figsize\"] = (8, 6)\n",
    "plt.rcParams[\"font.size\"] = 14\n",
    "\n",
    "# more readable exceptions\n",
    "%pip install --quiet iwut\n",
    "%load_ext iwut\n",
    "%wut on"
   ]
  },
  {
   "cell_type": "markdown",
   "metadata": {},
   "source": [
    "## Loading the Mauna Loa CO2 data\n",
    "\n",
    "We start by loading the same dataset we used during the lecture, containing CO2 measurements in Mauna Loa, Hawaii."
   ]
  },
  {
   "cell_type": "code",
   "execution_count": 2,
   "metadata": {},
   "outputs": [],
   "source": [
    "# Set up to load data either from the shared directory that has the complete set,\n",
    "# or from the local small copy available in the repo\n",
    "\n",
    "DATA_DIR = Path('./data')\n",
    "\n",
    "# If you want to run this on the Berkeley data hub, where we have a larger version of the data,\n",
    "# uncomment the below. But do not do that for submitting the Lab, as the version that will\n",
    "# run on the grader needs to use the path above and only has enough data to grade the Lab.\n",
    "#DATA_DIR = Path.home()/Path('shared/climate-data')"
   ]
  },
  {
   "cell_type": "markdown",
   "metadata": {},
   "source": [
    "Now we start by loading the CO2 data from a CSV file:"
   ]
  },
  {
   "cell_type": "code",
   "execution_count": 3,
   "metadata": {},
   "outputs": [],
   "source": [
    "co2_file = DATA_DIR / \"monthly_in_situ_co2_mlo_cleaned.csv\"\n",
    "data = pd.read_csv(co2_file)\n",
    "data.head()"
   ]
  },
  {
   "cell_type": "code",
   "execution_count": 4,
   "metadata": {},
   "outputs": [],
   "source": [
    "# get rid of missing values that are set to -99.99 and then drop from the dataset\n",
    "data = pd.read_csv(co2_file, na_values=-99.99).dropna()\n",
    "data.head()"
   ]
  },
  {
   "cell_type": "code",
   "execution_count": 5,
   "metadata": {},
   "outputs": [],
   "source": [
    "# We did this in lecture, as a reminder this is what the data looks like:\n",
    "plt.plot(\"fraction_date\", \"c02\", data=data)\n",
    "plt.plot(\"fraction_date\", \"data_adjusted_seasonally_fit\", data=data);"
   ]
  },
  {
   "cell_type": "markdown",
   "metadata": {},
   "source": [
    "# Exploring the annual anomaly\n",
    "\n",
    "We are going to try to understand the annual variability on top of the growing trend, and see whether that variability is itself changing over time or not.\n",
    "\n",
    "The figure above shows an annual cycle, alongside with perhaps some variability in it. As we saw in lecture (recall the super computer movie in talk with cities release of co2 strongest in winter), plants take up CO2 in (northern) spring/summer then release in fall/winter --- so the release is getting stronger. \n",
    "\n",
    "Let's try to estimate the increase in amplitude of annual cycle.\n",
    "\n",
    "<!-- why would using a rolling mean make it look like the cycle is getting larger - both summer/winter rather than just winter? with this data can you figure out if summer or winter causing increase? -->\n",
    "\n",
    "In the lecture notebook, we created the following figure, based on a quick and simple groupby operation and removal of the annual mean:"
   ]
  },
  {
   "cell_type": "code",
   "execution_count": 6,
   "metadata": {},
   "outputs": [],
   "source": [
    "# calculate the annual cycle using groupby\n",
    "annual = data.groupby(data.month).mean()\n",
    "# calculate the anomaly\n",
    "anomaly = annual - annual.mean()\n",
    "\n",
    "# plot\n",
    "fig, ax = plt.subplots()\n",
    "\n",
    "ax.plot(\"fraction_date\", \"data_filled\", \"r.\", data=data)\n",
    "ax.plot(\"fraction_date\", \"data_adjusted_seasonally_fit\", data=data)\n",
    "ax.set_xlabel(\"Year\")\n",
    "ax.set_ylabel(\"CO2 fraction in dry air (ppm)\")\n",
    "ax.set_title(\"Monthly Mean CO2\")\n",
    "ax.grid(False)\n",
    "\n",
    "axin1 = ax.inset_axes([0.1, 0.5, 0.35, 0.35])\n",
    "axin1.plot(anomaly.c02, \"b\")\n",
    "axin1.plot(anomaly.c02, \"r.\")\n",
    "axin1.set_title(\"Seasonal Anomaly\");"
   ]
  },
  {
   "cell_type": "markdown",
   "metadata": {},
   "source": [
    "But if you look closely, that figure isn't quite the same as the one shown in slide 9 of the lecture:\n",
    "\n",
    "<img src=\"annual-anomaly-orig.png\" width=\"700px\" />"
   ]
  },
  {
   "cell_type": "markdown",
   "metadata": {},
   "source": [
    "We'll start by trying to understand the monthly data. The following shows us the data for all the years, by month:"
   ]
  },
  {
   "cell_type": "code",
   "execution_count": 7,
   "metadata": {},
   "outputs": [],
   "source": [
    "plt.scatter('month', 'c02', data=data);"
   ]
  },
  {
   "cell_type": "markdown",
   "metadata": {},
   "source": [
    "Unfortunately it's hard to see what's actually going on here.\n",
    "\n",
    "### Question 1\n",
    "\n",
    "Recreate the following figure, that shows the monthly cycle for all the years in the dataset:\n",
    "\n",
    "<img src=\"monthly-cycles-co2.png\" width=\"700px\" />"
   ]
  },
  {
   "cell_type": "markdown",
   "metadata": {
    "deletable": false,
    "editable": false
   },
   "source": [
    "Hint: Use `sns.lineplot(...)`\n",
    "\n",
    "<!--\n",
    "BEGIN QUESTION\n",
    "name: q1\n",
    "-->"
   ]
  },
  {
   "cell_type": "code",
   "execution_count": 8,
   "metadata": {},
   "outputs": [],
   "source": [
    "..."
   ]
  },
  {
   "cell_type": "markdown",
   "metadata": {
    "deletable": false,
    "editable": false
   },
   "source": [
    "### Question 2\n",
    "\n",
    "Next, in order to recreate the figure in the talk, we're going to find the monthly anomaly averaging across years. You should end up with the following data frame after writing your function and running the cell (only the first few months are shown, it should have data for all 12 months):\n",
    "\n",
    "<img src=\"monthly-co2-anomaly-df.png\" width=\"150px\" />\n",
    "\n",
    "<!--\n",
    "BEGIN QUESTION\n",
    "name: q2\n",
    "-->"
   ]
  },
  {
   "cell_type": "code",
   "execution_count": 9,
   "metadata": {},
   "outputs": [],
   "source": [
    "def detrend(f):\n",
    "    detrended_xarr = ...\n",
    "    ...\n",
    "    return detrended_xarr\n",
    "\n",
    "dy = data.groupby('year')\n",
    "c02anomaly = dy.apply(detrend)\n",
    "display(c02anomaly)\n",
    "monthly_anomaly = c02anomaly.groupby('month').mean()[['c02']]\n",
    "monthly_anomaly"
   ]
  },
  {
   "cell_type": "code",
   "execution_count": null,
   "metadata": {
    "deletable": false,
    "editable": false
   },
   "outputs": [],
   "source": [
    "grader.check(\"q2\")"
   ]
  },
  {
   "cell_type": "markdown",
   "metadata": {},
   "source": [
    "### Question 3\n",
    "\n",
    "Next, recreate the following figure, which is much closer to the one in the lecture:\n",
    "\n",
    "<img src=\"annual-anomaly-new.png\" width=\"700px\" />"
   ]
  },
  {
   "cell_type": "markdown",
   "metadata": {
    "deletable": false,
    "editable": false
   },
   "source": [
    "**Hints:** \n",
    "- in order to get that smooth curve, you'll need to use `from scipy.interpolate import CubicSpline`. You can find the documentation for `CubicSpline` [here](https://docs.scipy.org/doc/scipy/reference/generated/scipy.interpolate.CubicSpline.html).\n",
    "- The \"Seasonal Anomaly\" inset graph can be created with `ax.inset_axes(...)`. You can treat the `Axes` object returned like any other `Axes` object.\n",
    "- Remember that you can set the tick labels with `ax.set_xticks(...)`.\n",
    "- To get the data points plotted as red dots, when you use `ax.plot(...)`, pass in `\"r.\"` as the argument immediately following any data you pass in. The `\"r\"` indicates the color, while the `\".\"` indicates how the data will be plotted (if you don't put the `\".\"`, it will be a line instead).\n",
    "\n",
    "<!--\n",
    "BEGIN QUESTION\n",
    "name: q3\n",
    "-->"
   ]
  },
  {
   "cell_type": "code",
   "execution_count": 11,
   "metadata": {},
   "outputs": [],
   "source": [
    "from scipy.interpolate import CubicSpline\n",
    "\n",
    "fig, ax = plt.subplots()\n",
    "\n",
    "..."
   ]
  },
  {
   "cell_type": "markdown",
   "metadata": {
    "nbgrader": {
     "grade": false,
     "grade_id": "q1_text",
     "locked": true,
     "schema_version": 2,
     "solution": false
    }
   },
   "source": [
    "# Exploring Snow with ERA 5\n",
    "\n",
    "Now, we turn our attention to the global ERA 5 dataset and explore some other questions - it's a very rich and interesting dataset, and the lecture only scratched its surfac!\n",
    "\n",
    "We are going today to focus on just one more bit: we'll take a look at the snow accumulation data for the northern and southern hemispheres.\n",
    "\n",
    "But you should see this as an invitation to keep learning from these data! Think of looking at other variables in the dataset. Is there annual cycle? trend? Some of the data might look very different than the air temperature - eg. precipitation which is either 0 or +. Can you use PDFs to look at changes in distributions over a region? at a point? Or talk about the data a little & what you understand it is measuring? Are any of the data variables related to each other? Can you plot correlations between data?"
   ]
  },
  {
   "cell_type": "code",
   "execution_count": 12,
   "metadata": {
    "nbgrader": {
     "grade": false,
     "grade_id": "q1_code",
     "locked": false,
     "schema_version": 2,
     "solution": true
    }
   },
   "outputs": [],
   "source": [
    "import xarray as xr\n",
    "\n",
    "monthly_2deg_path = DATA_DIR / \"era5_snow_monthly_2deg_aws_v20210920.nc\"\n",
    "\n",
    "# The Berkeely hub has a version with not only snow data but many more variables.\n",
    "# You can explore the full dataset by uncommenting the following  if you are on the\n",
    "# campus hub. Do NOT do that for your lab submission, as that data is NOT available\n",
    "# on Gradescope.\n",
    "# monthly_2deg_path = DATA_DIR / \"era5_monthly_2deg_aws_v20210920.nc\"\n",
    "\n",
    "ds = xr.open_dataset(monthly_2deg_path)\n",
    "ds"
   ]
  },
  {
   "cell_type": "code",
   "execution_count": 13,
   "metadata": {},
   "outputs": [],
   "source": [
    "mean_map = ds.mean(\"time\")  # takes the mean across all variables in ds\n",
    "mean_map.snow_density.plot();"
   ]
  },
  {
   "cell_type": "code",
   "execution_count": 14,
   "metadata": {},
   "outputs": [],
   "source": [
    "snow = ds.snow_density\n",
    "snow"
   ]
  },
  {
   "cell_type": "markdown",
   "metadata": {
    "deletable": false,
    "editable": false
   },
   "source": [
    "### Question 4\n",
    "\n",
    "Let's look at the snow across the globe in February and August, which are roughly the peaks of the summer/winter seasons.\n",
    "\n",
    "Recreate the following figure, along with a corresponding one for August 1980:\n",
    "\n",
    "<img src=\"snow-distribution-1980-02.png\" width=\"500px\" />\n",
    "\n",
    "<!--\n",
    "BEGIN QUESTION\n",
    "name: q4\n",
    "-->"
   ]
  },
  {
   "cell_type": "code",
   "execution_count": 15,
   "metadata": {},
   "outputs": [],
   "source": [
    "..."
   ]
  },
  {
   "cell_type": "code",
   "execution_count": 16,
   "metadata": {},
   "outputs": [],
   "source": [
    "..."
   ]
  },
  {
   "cell_type": "markdown",
   "metadata": {
    "deletable": false,
    "editable": false
   },
   "source": [
    "### Question 5\n",
    "\n",
    "Let's now find the peaks in the northern and southern hemispheres.\n",
    "\n",
    "<!--\n",
    "BEGIN QUESTION\n",
    "name: q5\n",
    "-->"
   ]
  },
  {
   "cell_type": "code",
   "execution_count": 17,
   "metadata": {},
   "outputs": [],
   "source": [
    "t_snow_north = ...\n",
    "t_snow_north.plot();"
   ]
  },
  {
   "cell_type": "code",
   "execution_count": 18,
   "metadata": {},
   "outputs": [],
   "source": [
    "t_snow_south = ...\n",
    "t_snow_south.plot();"
   ]
  },
  {
   "cell_type": "markdown",
   "metadata": {
    "deletable": false,
    "editable": false,
    "tags": []
   },
   "source": [
    "### Question 6\n",
    "\n",
    "Let's look for example at what the cycle in the northern hemisphere looks like for the year 1979. You need to replicate this figure:\n",
    "\n",
    "<img src=\"snow-cycle-1979.png\" width=\"500px\" />\n",
    "\n",
    "<!--\n",
    "BEGIN QUESTION\n",
    "name: q6\n",
    "-->"
   ]
  },
  {
   "cell_type": "code",
   "execution_count": 19,
   "metadata": {},
   "outputs": [],
   "source": [
    "..."
   ]
  },
  {
   "cell_type": "markdown",
   "metadata": {},
   "source": [
    "### Question 7\n",
    "\n",
    "And finally, we're going to find the peaks for the maximum and minimum snow accumulation in both hemispheres, and study when those peaks happen, how much snow there is, and whether the amounto of total snow is going up or down.\n",
    "\n",
    "You'll need to recreate a dataframe like the one pictured here (only a few rows shown, and this is for the northern hemisphere, you'll make one for each hemisphere):\n",
    "\n",
    "<img src=\"snow-peaks-north-df.png\" width=\"900px\" />\n",
    "\n",
    "**Hint:** look up the documentation for the xarray `idxmax` method."
   ]
  },
  {
   "cell_type": "markdown",
   "metadata": {
    "deletable": false,
    "editable": false
   },
   "source": [
    "**Hint:**\n",
    "1. First, we want to extract the years from the data and iterate over them (try using `range`).\n",
    "1. When iterating over the years, we want to first pick the designated year, then find the days with the most and least snow as well as the amount of snow on those days.\n",
    "1. Once we've found the days, assign `vals` to be an array of the information we've calculated.\n",
    "1. Finally, append all the necessary information to `peaks`.\n",
    "\n",
    "- Amplitude is `max - min`\n",
    "- You may want to use `x.values.item` to extract information from the datetime objects.\n",
    "\n",
    "<!--\n",
    "BEGIN QUESTION\n",
    "name: q7\n",
    "-->"
   ]
  },
  {
   "cell_type": "code",
   "execution_count": 23,
   "metadata": {},
   "outputs": [],
   "source": [
    "def extract_peaks(snow_data):\n",
    "    ...\n",
    "    years = ...\n",
    "    peaks = []\n",
    "    for y in years:\n",
    "    ...\n",
    "        vals = ...\n",
    "    ...\n",
    "\n",
    "    snow_peaks = pd.DataFrame(peaks, \n",
    "                              columns = ['year', 'min_date', 'max_date',\n",
    "                                         'min_dayofyear', 'max_dayofyear',\n",
    "                                         'min_snow', 'max_snow', 'amplitude'])\n",
    "\n",
    "    return snow_peaks\n",
    "\n",
    "peaks_north = extract_peaks(t_snow_north)\n",
    "peaks_north.head()"
   ]
  },
  {
   "cell_type": "markdown",
   "metadata": {},
   "source": [
    "With this data, we can now quickly explore several questions. For example, during what day of the year do the min and max happen?"
   ]
  },
  {
   "cell_type": "code",
   "execution_count": 22,
   "metadata": {},
   "outputs": [],
   "source": [
    "plt.plot('year', 'min_dayofyear', data=peaks_north);\n",
    "plt.plot('year', 'max_dayofyear', data=peaks_north);\n",
    "plt.legend();"
   ]
  },
  {
   "cell_type": "markdown",
   "metadata": {},
   "source": [
    "What is the min and max amount of snow at those times?"
   ]
  },
  {
   "cell_type": "code",
   "execution_count": 23,
   "metadata": {},
   "outputs": [],
   "source": [
    "plt.plot('year', 'min_snow', data=peaks_north);\n",
    "plt.plot('year', 'max_snow', data=peaks_north);\n",
    "plt.legend();"
   ]
  },
  {
   "cell_type": "markdown",
   "metadata": {},
   "source": [
    "Given the difference in scales, it's a bit easier to see what is happening if we plot the min and max separately:"
   ]
  },
  {
   "cell_type": "code",
   "execution_count": 24,
   "metadata": {},
   "outputs": [],
   "source": [
    "plt.plot('year', 'min_snow', data=peaks_north);\n",
    "plt.plot('year', 'min_snow', 'r.', data=peaks_north);\n",
    "plt.legend();"
   ]
  },
  {
   "cell_type": "code",
   "execution_count": 25,
   "metadata": {},
   "outputs": [],
   "source": [
    "plt.plot('year', 'max_snow', data=peaks_north);\n",
    "plt.plot('year', 'max_snow', 'r.', data=peaks_north);\n",
    "plt.legend();"
   ]
  },
  {
   "cell_type": "markdown",
   "metadata": {},
   "source": [
    "What do you think this is telling us about the ice in the northern hemisphere? What are the main sources of ice there, and what is happening to them?\n",
    "\n",
    "The above figures are for the northern hemisphere. Repeat them for the southern one. What do you observe? Any differences?"
   ]
  },
  {
   "cell_type": "markdown",
   "metadata": {},
   "source": [
    "I hope this lab has taught you some useful skills regarding tools like xarray and data with a different structure than data frames. But more importantly, that it has shown you how the ideas from this course also apply to problems as critical to humanity as climate change, and that you have the foundations on which to better understand these questions.\n",
    "\n",
    "Don't stop here! This dataset is fascinating, and both the lecture and the lab were barely an appetizer!"
   ]
  },
  {
   "cell_type": "markdown",
   "metadata": {
    "deletable": false,
    "editable": false
   },
   "source": [
    "---\n",
    "\n",
    "To double-check your work, the cell below will rerun all of the autograder tests."
   ]
  },
  {
   "cell_type": "code",
   "execution_count": null,
   "metadata": {
    "deletable": false,
    "editable": false
   },
   "outputs": [],
   "source": [
    "grader.check_all()"
   ]
  },
  {
   "cell_type": "markdown",
   "metadata": {
    "deletable": false,
    "editable": false
   },
   "source": [
    "## Submission\n",
    "\n",
    "Make sure you have run all cells in your notebook in order before running the cell below, so that all images/graphs appear in the output. The cell below will generate a zip file for you to submit. **Please save before exporting!**"
   ]
  },
  {
   "cell_type": "code",
   "execution_count": null,
   "metadata": {
    "deletable": false,
    "editable": false
   },
   "outputs": [],
   "source": [
    "# Save your notebook first, then run this cell to export your submission.\n",
    "grader.export(pdf=False)"
   ]
  },
  {
   "cell_type": "markdown",
   "metadata": {},
   "source": [
    " "
   ]
  }
 ],
 "metadata": {
  "celltoolbar": "Create Assignment",
  "kernelspec": {
   "display_name": "Python 3 (ipykernel)",
   "language": "python",
   "name": "python3"
  },
  "language_info": {
   "codemirror_mode": {
    "name": "ipython",
    "version": 3
   },
   "file_extension": ".py",
   "mimetype": "text/x-python",
   "name": "python",
   "nbconvert_exporter": "python",
   "pygments_lexer": "ipython3",
   "version": "3.9.7"
  },
  "toc-autonumbering": false,
  "toc-showcode": false,
  "toc-showmarkdowntxt": false,
  "toc-showtags": false
 },
 "nbformat": 4,
 "nbformat_minor": 4
}
