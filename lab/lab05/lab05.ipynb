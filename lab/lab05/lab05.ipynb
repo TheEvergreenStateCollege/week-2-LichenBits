{
 "cells": [
  {
   "cell_type": "code",
   "execution_count": null,
   "metadata": {
    "deletable": false,
    "editable": false
   },
   "outputs": [],
   "source": [
    "# Initialize Otter\n",
    "import otter\n",
    "grader = otter.Notebook(\"lab05.ipynb\")"
   ]
  },
  {
   "cell_type": "markdown",
   "metadata": {
    "nbgrader": {
     "grade": false,
     "grade_id": "objectives",
     "locked": true,
     "schema_version": 2,
     "solution": false
    }
   },
   "source": [
    "# Lab 5: Transformations and SQL\n",
    "\n",
    "### Objective\n",
    "In this lab you will get some practice plotting and applying data transformations, as well as a preview of kernel density estimators (KDEs).  We will be working with data from the World Bank containing various statistics for countries and territories around the world. \n",
    "\n",
    "**This assignment should be completed and submitted by 11:59 PM PDT on Tuesday, September 28th, 2021.**\n",
    "\n",
    "### Collaboration Policy\n",
    "\n",
    "Data science is a collaborative activity. While you may talk with others about the labs, we ask that you **write your solutions individually**. If you do discuss the assignments with others, please **include their names** in the following cell:"
   ]
  },
  {
   "cell_type": "markdown",
   "metadata": {},
   "source": [
    "*List collaborators here*"
   ]
  },
  {
   "cell_type": "code",
   "execution_count": 1,
   "metadata": {
    "_cell_guid": "33c63379-d85b-4638-8183-d008fdb96de7",
    "_uuid": "7ad7f9f24df7dba8ac92d234890835f6b9970834",
    "nbgrader": {
     "grade": false,
     "grade_id": "imports",
     "locked": true,
     "schema_version": 2,
     "solution": false
    }
   },
   "outputs": [],
   "source": [
    "import pandas as pd\n",
    "import numpy as np\n",
    "import seaborn as sns\n",
    "import matplotlib.pyplot as plt\n",
    "import ds100_utils\n",
    "import sqlalchemy\n",
    "from pathlib import Path\n",
    "\n",
    "plt.style.use('fivethirtyeight') # Use plt.style.available to see more styles\n",
    "sns.set()\n",
    "sns.set_context(\"talk\")\n",
    "%matplotlib inline"
   ]
  },
  {
   "cell_type": "markdown",
   "metadata": {
    "nbgrader": {
     "grade": false,
     "grade_id": "q0",
     "locked": true,
     "schema_version": 2,
     "solution": false
    }
   },
   "source": [
    "## Loading Data"
   ]
  },
  {
   "cell_type": "markdown",
   "metadata": {
    "nbgrader": {
     "grade": false,
     "grade_id": "download-info-2",
     "locked": true,
     "schema_version": 2,
     "solution": false
    }
   },
   "source": [
    "Let us load some World Bank data into a `pd.DataFrame` object named ```wb```."
   ]
  },
  {
   "cell_type": "code",
   "execution_count": 2,
   "metadata": {
    "nbgrader": {
     "grade": false,
     "grade_id": "data",
     "locked": true,
     "schema_version": 2,
     "solution": false
    }
   },
   "outputs": [
    {
     "data": {
      "text/html": [
       "<div>\n",
       "<style scoped>\n",
       "    .dataframe tbody tr th:only-of-type {\n",
       "        vertical-align: middle;\n",
       "    }\n",
       "\n",
       "    .dataframe tbody tr th {\n",
       "        vertical-align: top;\n",
       "    }\n",
       "\n",
       "    .dataframe thead th {\n",
       "        text-align: right;\n",
       "    }\n",
       "</style>\n",
       "<table border=\"1\" class=\"dataframe\">\n",
       "  <thead>\n",
       "    <tr style=\"text-align: right;\">\n",
       "      <th></th>\n",
       "      <th>Primary completion rate: Male: % of relevant age group: 2015</th>\n",
       "      <th>Primary completion rate: Female: % of relevant age group: 2015</th>\n",
       "      <th>Lower secondary completion rate: Male: % of relevant age group: 2015</th>\n",
       "      <th>Lower secondary completion rate: Female: % of relevant age group: 2015</th>\n",
       "      <th>Youth literacy rate: Male: % of ages 15-24: 2005-14</th>\n",
       "      <th>Youth literacy rate: Female: % of ages 15-24: 2005-14</th>\n",
       "      <th>Adult literacy rate: Male: % ages 15 and older: 2005-14</th>\n",
       "      <th>Adult literacy rate: Female: % ages 15 and older: 2005-14</th>\n",
       "      <th>Students at lowest proficiency on PISA: Mathematics: % of 15 year-olds: 2015</th>\n",
       "      <th>Students at lowest proficiency on PISA: Reading: % of 15 year-olds: 2015</th>\n",
       "      <th>...</th>\n",
       "      <th>Access to improved sanitation facilities: % of population: 1990</th>\n",
       "      <th>Access to improved sanitation facilities: % of population: 2015</th>\n",
       "      <th>Child immunization rate: Measles: % of children ages 12-23 months: 2015</th>\n",
       "      <th>Child immunization rate: DTP3: % of children ages 12-23 months: 2015</th>\n",
       "      <th>Children with acute respiratory infection taken to health provider: % of children under age 5 with ARI: 2009-2016</th>\n",
       "      <th>Children with diarrhea who received oral rehydration and continuous feeding: % of children under age 5 with diarrhea: 2009-2016</th>\n",
       "      <th>Children sleeping under treated bed nets: % of children under age 5: 2009-2016</th>\n",
       "      <th>Children with fever receiving antimalarial drugs: % of children under age 5 with fever: 2009-2016</th>\n",
       "      <th>Tuberculosis: Treatment success rate: % of new cases: 2014</th>\n",
       "      <th>Tuberculosis: Cases detection rate: % of new estimated cases: 2015</th>\n",
       "    </tr>\n",
       "  </thead>\n",
       "  <tbody>\n",
       "    <tr>\n",
       "      <th>Afghanistan</th>\n",
       "      <td>NaN</td>\n",
       "      <td>NaN</td>\n",
       "      <td>NaN</td>\n",
       "      <td>NaN</td>\n",
       "      <td>62.0</td>\n",
       "      <td>32.0</td>\n",
       "      <td>45.0</td>\n",
       "      <td>18.0</td>\n",
       "      <td>NaN</td>\n",
       "      <td>NaN</td>\n",
       "      <td>...</td>\n",
       "      <td>21.0</td>\n",
       "      <td>32.0</td>\n",
       "      <td>68.0</td>\n",
       "      <td>78.0</td>\n",
       "      <td>62.0</td>\n",
       "      <td>41.0</td>\n",
       "      <td>4.6</td>\n",
       "      <td>11.8</td>\n",
       "      <td>87.0</td>\n",
       "      <td>58.0</td>\n",
       "    </tr>\n",
       "    <tr>\n",
       "      <th>Albania</th>\n",
       "      <td>108.0</td>\n",
       "      <td>105.0</td>\n",
       "      <td>97.0</td>\n",
       "      <td>97.0</td>\n",
       "      <td>99.0</td>\n",
       "      <td>99.0</td>\n",
       "      <td>98.0</td>\n",
       "      <td>96.0</td>\n",
       "      <td>26.0</td>\n",
       "      <td>7.0</td>\n",
       "      <td>...</td>\n",
       "      <td>78.0</td>\n",
       "      <td>93.0</td>\n",
       "      <td>98.0</td>\n",
       "      <td>98.0</td>\n",
       "      <td>70.0</td>\n",
       "      <td>63.0</td>\n",
       "      <td>NaN</td>\n",
       "      <td>NaN</td>\n",
       "      <td>88.0</td>\n",
       "      <td>76.0</td>\n",
       "    </tr>\n",
       "    <tr>\n",
       "      <th>Algeria</th>\n",
       "      <td>106.0</td>\n",
       "      <td>105.0</td>\n",
       "      <td>68.0</td>\n",
       "      <td>85.0</td>\n",
       "      <td>96.0</td>\n",
       "      <td>92.0</td>\n",
       "      <td>83.0</td>\n",
       "      <td>68.0</td>\n",
       "      <td>51.0</td>\n",
       "      <td>11.0</td>\n",
       "      <td>...</td>\n",
       "      <td>80.0</td>\n",
       "      <td>88.0</td>\n",
       "      <td>95.0</td>\n",
       "      <td>95.0</td>\n",
       "      <td>66.0</td>\n",
       "      <td>42.0</td>\n",
       "      <td>NaN</td>\n",
       "      <td>NaN</td>\n",
       "      <td>88.0</td>\n",
       "      <td>80.0</td>\n",
       "    </tr>\n",
       "    <tr>\n",
       "      <th>American Samoa</th>\n",
       "      <td>NaN</td>\n",
       "      <td>NaN</td>\n",
       "      <td>NaN</td>\n",
       "      <td>NaN</td>\n",
       "      <td>NaN</td>\n",
       "      <td>NaN</td>\n",
       "      <td>NaN</td>\n",
       "      <td>NaN</td>\n",
       "      <td>NaN</td>\n",
       "      <td>NaN</td>\n",
       "      <td>...</td>\n",
       "      <td>61.0</td>\n",
       "      <td>63.0</td>\n",
       "      <td>NaN</td>\n",
       "      <td>NaN</td>\n",
       "      <td>NaN</td>\n",
       "      <td>NaN</td>\n",
       "      <td>NaN</td>\n",
       "      <td>NaN</td>\n",
       "      <td>NaN</td>\n",
       "      <td>87.0</td>\n",
       "    </tr>\n",
       "    <tr>\n",
       "      <th>Andorra</th>\n",
       "      <td>NaN</td>\n",
       "      <td>NaN</td>\n",
       "      <td>NaN</td>\n",
       "      <td>NaN</td>\n",
       "      <td>NaN</td>\n",
       "      <td>NaN</td>\n",
       "      <td>NaN</td>\n",
       "      <td>NaN</td>\n",
       "      <td>NaN</td>\n",
       "      <td>NaN</td>\n",
       "      <td>...</td>\n",
       "      <td>100.0</td>\n",
       "      <td>100.0</td>\n",
       "      <td>96.0</td>\n",
       "      <td>97.0</td>\n",
       "      <td>NaN</td>\n",
       "      <td>NaN</td>\n",
       "      <td>NaN</td>\n",
       "      <td>NaN</td>\n",
       "      <td>83.0</td>\n",
       "      <td>87.0</td>\n",
       "    </tr>\n",
       "  </tbody>\n",
       "</table>\n",
       "<p>5 rows × 45 columns</p>\n",
       "</div>"
      ],
      "text/plain": [
       "                Primary completion rate: Male: % of relevant age group: 2015  \\\n",
       "Afghanistan                                                   NaN              \n",
       "Albania                                                     108.0              \n",
       "Algeria                                                     106.0              \n",
       "American Samoa                                                NaN              \n",
       "Andorra                                                       NaN              \n",
       "\n",
       "                Primary completion rate: Female: % of relevant age group: 2015  \\\n",
       "Afghanistan                                                   NaN                \n",
       "Albania                                                     105.0                \n",
       "Algeria                                                     105.0                \n",
       "American Samoa                                                NaN                \n",
       "Andorra                                                       NaN                \n",
       "\n",
       "                Lower secondary completion rate: Male: % of relevant age group: 2015  \\\n",
       "Afghanistan                                                   NaN                      \n",
       "Albania                                                      97.0                      \n",
       "Algeria                                                      68.0                      \n",
       "American Samoa                                                NaN                      \n",
       "Andorra                                                       NaN                      \n",
       "\n",
       "                Lower secondary completion rate: Female: % of relevant age group: 2015  \\\n",
       "Afghanistan                                                   NaN                        \n",
       "Albania                                                      97.0                        \n",
       "Algeria                                                      85.0                        \n",
       "American Samoa                                                NaN                        \n",
       "Andorra                                                       NaN                        \n",
       "\n",
       "                Youth literacy rate: Male: % of ages 15-24: 2005-14  \\\n",
       "Afghanistan                                                  62.0     \n",
       "Albania                                                      99.0     \n",
       "Algeria                                                      96.0     \n",
       "American Samoa                                                NaN     \n",
       "Andorra                                                       NaN     \n",
       "\n",
       "                Youth literacy rate: Female: % of ages 15-24: 2005-14  \\\n",
       "Afghanistan                                                  32.0       \n",
       "Albania                                                      99.0       \n",
       "Algeria                                                      92.0       \n",
       "American Samoa                                                NaN       \n",
       "Andorra                                                       NaN       \n",
       "\n",
       "                Adult literacy rate: Male: % ages 15 and older: 2005-14  \\\n",
       "Afghanistan                                                  45.0         \n",
       "Albania                                                      98.0         \n",
       "Algeria                                                      83.0         \n",
       "American Samoa                                                NaN         \n",
       "Andorra                                                       NaN         \n",
       "\n",
       "                Adult literacy rate: Female: % ages 15 and older: 2005-14  \\\n",
       "Afghanistan                                                  18.0           \n",
       "Albania                                                      96.0           \n",
       "Algeria                                                      68.0           \n",
       "American Samoa                                                NaN           \n",
       "Andorra                                                       NaN           \n",
       "\n",
       "                Students at lowest proficiency on PISA: Mathematics: % of 15 year-olds: 2015  \\\n",
       "Afghanistan                                                   NaN                              \n",
       "Albania                                                      26.0                              \n",
       "Algeria                                                      51.0                              \n",
       "American Samoa                                                NaN                              \n",
       "Andorra                                                       NaN                              \n",
       "\n",
       "                Students at lowest proficiency on PISA: Reading: % of 15 year-olds: 2015  \\\n",
       "Afghanistan                                                   NaN                          \n",
       "Albania                                                       7.0                          \n",
       "Algeria                                                      11.0                          \n",
       "American Samoa                                                NaN                          \n",
       "Andorra                                                       NaN                          \n",
       "\n",
       "                ...  \\\n",
       "Afghanistan     ...   \n",
       "Albania         ...   \n",
       "Algeria         ...   \n",
       "American Samoa  ...   \n",
       "Andorra         ...   \n",
       "\n",
       "                Access to improved sanitation facilities: % of population: 1990  \\\n",
       "Afghanistan                                                  21.0                 \n",
       "Albania                                                      78.0                 \n",
       "Algeria                                                      80.0                 \n",
       "American Samoa                                               61.0                 \n",
       "Andorra                                                     100.0                 \n",
       "\n",
       "                Access to improved sanitation facilities: % of population: 2015  \\\n",
       "Afghanistan                                                  32.0                 \n",
       "Albania                                                      93.0                 \n",
       "Algeria                                                      88.0                 \n",
       "American Samoa                                               63.0                 \n",
       "Andorra                                                     100.0                 \n",
       "\n",
       "                Child immunization rate: Measles: % of children ages 12-23 months: 2015  \\\n",
       "Afghanistan                                                  68.0                         \n",
       "Albania                                                      98.0                         \n",
       "Algeria                                                      95.0                         \n",
       "American Samoa                                                NaN                         \n",
       "Andorra                                                      96.0                         \n",
       "\n",
       "                Child immunization rate: DTP3: % of children ages 12-23 months: 2015  \\\n",
       "Afghanistan                                                  78.0                      \n",
       "Albania                                                      98.0                      \n",
       "Algeria                                                      95.0                      \n",
       "American Samoa                                                NaN                      \n",
       "Andorra                                                      97.0                      \n",
       "\n",
       "                Children with acute respiratory infection taken to health provider: % of children under age 5 with ARI: 2009-2016  \\\n",
       "Afghanistan                                                  62.0                                                                   \n",
       "Albania                                                      70.0                                                                   \n",
       "Algeria                                                      66.0                                                                   \n",
       "American Samoa                                                NaN                                                                   \n",
       "Andorra                                                       NaN                                                                   \n",
       "\n",
       "                Children with diarrhea who received oral rehydration and continuous feeding: % of children under age 5 with diarrhea: 2009-2016  \\\n",
       "Afghanistan                                                  41.0                                                                                 \n",
       "Albania                                                      63.0                                                                                 \n",
       "Algeria                                                      42.0                                                                                 \n",
       "American Samoa                                                NaN                                                                                 \n",
       "Andorra                                                       NaN                                                                                 \n",
       "\n",
       "                Children sleeping under treated bed nets: % of children under age 5: 2009-2016  \\\n",
       "Afghanistan                                                   4.6                                \n",
       "Albania                                                       NaN                                \n",
       "Algeria                                                       NaN                                \n",
       "American Samoa                                                NaN                                \n",
       "Andorra                                                       NaN                                \n",
       "\n",
       "                Children with fever receiving antimalarial drugs: % of children under age 5 with fever: 2009-2016  \\\n",
       "Afghanistan                                                  11.8                                                   \n",
       "Albania                                                       NaN                                                   \n",
       "Algeria                                                       NaN                                                   \n",
       "American Samoa                                                NaN                                                   \n",
       "Andorra                                                       NaN                                                   \n",
       "\n",
       "                Tuberculosis: Treatment success rate: % of new cases: 2014  \\\n",
       "Afghanistan                                                  87.0            \n",
       "Albania                                                      88.0            \n",
       "Algeria                                                      88.0            \n",
       "American Samoa                                                NaN            \n",
       "Andorra                                                      83.0            \n",
       "\n",
       "                Tuberculosis: Cases detection rate: % of new estimated cases: 2015  \n",
       "Afghanistan                                                  58.0                   \n",
       "Albania                                                      76.0                   \n",
       "Algeria                                                      80.0                   \n",
       "American Samoa                                               87.0                   \n",
       "Andorra                                                      87.0                   \n",
       "\n",
       "[5 rows x 45 columns]"
      ]
     },
     "execution_count": 2,
     "metadata": {},
     "output_type": "execute_result"
    }
   ],
   "source": [
    "wb = pd.read_csv(\"data/world_bank_misc.csv\", index_col=0)\n",
    "wb.head()"
   ]
  },
  {
   "cell_type": "markdown",
   "metadata": {
    "nbgrader": {
     "grade": false,
     "grade_id": "explore-cols",
     "locked": true,
     "schema_version": 2,
     "solution": false
    }
   },
   "source": [
    "This table contains some interesting columns.  Take a look:"
   ]
  },
  {
   "cell_type": "code",
   "execution_count": 3,
   "metadata": {
    "nbgrader": {
     "grade": false,
     "grade_id": "explore-cols-code",
     "locked": true,
     "schema_version": 2,
     "solution": false
    }
   },
   "outputs": [
    {
     "data": {
      "text/plain": [
       "['Primary completion rate: Male: % of relevant age group: 2015',\n",
       " 'Primary completion rate: Female: % of relevant age group: 2015',\n",
       " 'Lower secondary completion rate: Male: % of relevant age group: 2015',\n",
       " 'Lower secondary completion rate: Female: % of relevant age group: 2015',\n",
       " 'Youth literacy rate: Male: % of ages 15-24: 2005-14',\n",
       " 'Youth literacy rate: Female: % of ages 15-24: 2005-14',\n",
       " 'Adult literacy rate: Male: % ages 15 and older: 2005-14',\n",
       " 'Adult literacy rate: Female: % ages 15 and older: 2005-14',\n",
       " 'Students at lowest proficiency on PISA: Mathematics: % of 15 year-olds: 2015',\n",
       " 'Students at lowest proficiency on PISA: Reading: % of 15 year-olds: 2015',\n",
       " 'Students at lowest proficiency on PISA: Science: % of 15 year-olds: 2015',\n",
       " 'Population: millions: 2016',\n",
       " 'Surface area: sq. km thousands: 2016',\n",
       " 'Population density: people per sq. km: 2016',\n",
       " 'Gross national income, Atlas method: $ billions: 2016',\n",
       " 'Gross national income per capita, Atlas method: $: 2016',\n",
       " 'Purchasing power parity gross national income: $ billions: 2016',\n",
       " 'per capita: $: 2016',\n",
       " 'Gross domestic product: % growth : 2016',\n",
       " 'per capita: % growth: 2016',\n",
       " 'Prevalence of smoking: Male: % of adults: 2015',\n",
       " 'Prevalence of smoking: Female: % of adults: 2015',\n",
       " 'Incidence of tuberculosis: per 100,000 people: 2015',\n",
       " 'Prevalence of diabetes: % of population ages 20 to 79: 2015',\n",
       " 'Incidence of HIV: Total: % of uninfected population ages 15-49: 2015',\n",
       " 'Prevalence of HIV: Total: % of population ages 15-49: 2015',\n",
       " \"Prevalence of HIV: Women's share of population ages 15+ living with HIV: %: 2015\",\n",
       " 'Prevalence of HIV: Youth, Male: % of population ages 15-24: 2015',\n",
       " 'Prevalence of HIV: Youth, Female: % of population ages 15-24: 2015',\n",
       " 'Antiretroviral therapy coverage: % of people living with HIV: 2015',\n",
       " 'Cause of death: Communicable diseases and maternal, prenatal, and nutrition conditions: % of population: 2015',\n",
       " 'Cause of death: Non-communicable diseases: % of population: 2015',\n",
       " 'Cause of death: Injuries: % of population: 2015',\n",
       " 'Access to an improved water source: % of population: 1990',\n",
       " 'Access to an improved water source: % of population: 2015',\n",
       " 'Access to improved sanitation facilities: % of population: 1990',\n",
       " 'Access to improved sanitation facilities: % of population: 2015',\n",
       " 'Child immunization rate: Measles: % of children ages 12-23 months: 2015',\n",
       " 'Child immunization rate: DTP3: % of children ages 12-23 months: 2015',\n",
       " 'Children with acute respiratory infection taken to health provider: % of children under age 5 with ARI: 2009-2016',\n",
       " 'Children with diarrhea who received oral rehydration and continuous feeding: % of children under age 5 with diarrhea: 2009-2016',\n",
       " 'Children sleeping under treated bed nets: % of children under age 5: 2009-2016',\n",
       " 'Children with fever receiving antimalarial drugs: % of children under age 5 with fever: 2009-2016',\n",
       " 'Tuberculosis: Treatment success rate: % of new cases: 2014',\n",
       " 'Tuberculosis: Cases detection rate: % of new estimated cases: 2015']"
      ]
     },
     "execution_count": 3,
     "metadata": {},
     "output_type": "execute_result"
    }
   ],
   "source": [
    "list(wb.columns)"
   ]
  },
  {
   "cell_type": "markdown",
   "metadata": {
    "nbgrader": {
     "grade": false,
     "grade_id": "part1",
     "locked": true,
     "schema_version": 2,
     "solution": false
    }
   },
   "source": [
    "# Part 1: Scaling\n",
    "\n",
    "In the first part of this assignment we will look at the distribution of values for child measles immunization rate as well as the gross national income per capita. The code below creates a copy of the DataFrame that contains only the two Series we want, and then drops all rows that contain null values in either column.\n",
    "\n",
    "**Note:** For this lab we are dropping null values without investigating them further. However, this is generally not the best practice and can severely affect our analyses.\n",
    "\n",
    "See the seaborn documentation on [distributions](https://seaborn.pydata.org/tutorial/distributions.html) and [functions](https://seaborn.pydata.org/tutorial/function_overview.html) for more details."
   ]
  },
  {
   "cell_type": "code",
   "execution_count": 4,
   "metadata": {
    "nbgrader": {
     "grade": false,
     "grade_id": "q1-answer",
     "locked": true,
     "schema_version": 2,
     "solution": false
    },
    "scrolled": true,
    "tags": [
     "student"
    ]
   },
   "outputs": [
    {
     "name": "stdout",
     "output_type": "stream",
     "text": [
      "Original records: 216\n",
      "Final records: 180\n"
     ]
    }
   ],
   "source": [
    "#creates a DataFrame with the appropriate index\n",
    "df = pd.DataFrame(index=wb.index)\n",
    "\n",
    "#copies the Series we want\n",
    "df['imm'] = wb['Child immunization rate: Measles: % of children ages 12-23 months: 2015']\n",
    "df['inc'] = wb['Gross national income per capita, Atlas method: $: 2016']\n",
    "\n",
    "#the line below drops all records that have a NaN value in either column\n",
    "df.dropna(inplace=True)\n",
    "print(\"Original records:\", len(wb))\n",
    "print(\"Final records:\", len(df))"
   ]
  },
  {
   "cell_type": "code",
   "execution_count": 5,
   "metadata": {
    "nbgrader": {
     "grade": false,
     "grade_id": "cell-dcd091fc26fffb77",
     "locked": true,
     "schema_version": 2,
     "solution": false
    }
   },
   "outputs": [
    {
     "data": {
      "text/html": [
       "<div>\n",
       "<style scoped>\n",
       "    .dataframe tbody tr th:only-of-type {\n",
       "        vertical-align: middle;\n",
       "    }\n",
       "\n",
       "    .dataframe tbody tr th {\n",
       "        vertical-align: top;\n",
       "    }\n",
       "\n",
       "    .dataframe thead th {\n",
       "        text-align: right;\n",
       "    }\n",
       "</style>\n",
       "<table border=\"1\" class=\"dataframe\">\n",
       "  <thead>\n",
       "    <tr style=\"text-align: right;\">\n",
       "      <th></th>\n",
       "      <th>imm</th>\n",
       "      <th>inc</th>\n",
       "    </tr>\n",
       "  </thead>\n",
       "  <tbody>\n",
       "    <tr>\n",
       "      <th>Afghanistan</th>\n",
       "      <td>68.0</td>\n",
       "      <td>580.0</td>\n",
       "    </tr>\n",
       "    <tr>\n",
       "      <th>Albania</th>\n",
       "      <td>98.0</td>\n",
       "      <td>4250.0</td>\n",
       "    </tr>\n",
       "    <tr>\n",
       "      <th>Algeria</th>\n",
       "      <td>95.0</td>\n",
       "      <td>4270.0</td>\n",
       "    </tr>\n",
       "    <tr>\n",
       "      <th>Angola</th>\n",
       "      <td>55.0</td>\n",
       "      <td>3440.0</td>\n",
       "    </tr>\n",
       "    <tr>\n",
       "      <th>Antigua and Barbuda</th>\n",
       "      <td>98.0</td>\n",
       "      <td>13400.0</td>\n",
       "    </tr>\n",
       "  </tbody>\n",
       "</table>\n",
       "</div>"
      ],
      "text/plain": [
       "                      imm      inc\n",
       "Afghanistan          68.0    580.0\n",
       "Albania              98.0   4250.0\n",
       "Algeria              95.0   4270.0\n",
       "Angola               55.0   3440.0\n",
       "Antigua and Barbuda  98.0  13400.0"
      ]
     },
     "execution_count": 5,
     "metadata": {},
     "output_type": "execute_result"
    }
   ],
   "source": [
    "df.head(5)"
   ]
  },
  {
   "cell_type": "markdown",
   "metadata": {
    "nbgrader": {
     "grade": false,
     "grade_id": "cell-15d94e63e4d461a0",
     "locked": true,
     "schema_version": 2,
     "solution": false
    }
   },
   "source": [
    "## Question 1a"
   ]
  },
  {
   "cell_type": "markdown",
   "metadata": {
    "nbgrader": {
     "grade": false,
     "grade_id": "cell-30751ff6e5b72286",
     "locked": true,
     "schema_version": 2,
     "solution": false
    }
   },
   "source": [
    "Suppose we wanted to build a histogram of our data to understand the distribution of immunization rates and income per capita individually. We can use [`countplot`](https://seaborn.pydata.org/generated/seaborn.countplot.html) in seaborn to create bar charts from categorical data. "
   ]
  },
  {
   "cell_type": "code",
   "execution_count": 6,
   "metadata": {
    "nbgrader": {
     "grade": false,
     "grade_id": "cell-5e0c40ff7263e7df",
     "locked": true,
     "schema_version": 2,
     "solution": false
    }
   },
   "outputs": [
    {
     "data": {
      "image/png": "[encoded data removed]",
      "text/plain": [
       "<Figure size 1152x360 with 2 Axes>"
      ]
     },
     "metadata": {
      "needs_background": "light"
     },
     "output_type": "display_data"
    }
   ],
   "source": [
    "plt.figure(figsize=(16,5))\n",
    "\n",
    "plt.subplot(1,2,1)\n",
    "sns.countplot(x = df['imm'])\n",
    "plt.xlabel(\"Child immunization rate: Measles: % of children (12-23 months): 2015\")\n",
    "plt.title('World Bank Child Measles Immunization Rate')\n",
    "\n",
    "plt.subplot(1,2,2)\n",
    "sns.countplot(x = df['inc'])\n",
    "plt.xlabel('Gross national income per capita, $: 2016')\n",
    "plt.title('World Bank Gross National Income Per Capita')\n",
    "plt.show()"
   ]
  },
  {
   "cell_type": "markdown",
   "metadata": {
    "deletable": false,
    "editable": false,
    "nbgrader": {
     "grade": false,
     "grade_id": "cell-f903d9acbd3014e1",
     "locked": true,
     "schema_version": 2,
     "solution": false
    }
   },
   "source": [
    "In the cell below, explain why `countplot` is NOT the right tool for visualizing the distribution of our data.\n",
    "\n",
    "<!--\n",
    "BEGIN QUESTION\n",
    "name: q1a\n",
    "-->"
   ]
  },
  {
   "cell_type": "markdown",
   "metadata": {},
   "source": [
    "_Type your answer here, replacing this text._"
   ]
  },
  {
   "cell_type": "markdown",
   "metadata": {
    "deletable": false,
    "editable": false,
    "nbgrader": {
     "grade": false,
     "grade_id": "q2a",
     "locked": true,
     "schema_version": 2,
     "solution": false
    }
   },
   "source": [
    "## Question 1b\n",
    "\n",
    "In the cell below, create a plot of immunization rate and income per capita using the [`histplot`](https://seaborn.pydata.org/generated/seaborn.histplot.html) function. As above, you should have two subplots, where the left subplot is immunization, and the right subplot is income. When you call `histplot`, set the `kde` parameter to false.\n",
    "\n",
    "Don't forget to title the plot and label axes!\n",
    "\n",
    "**Hint:** *Copy and paste from above to start.*\n",
    "\n",
    "<!--\n",
    "BEGIN QUESTION\n",
    "name: q1b1\n",
    "-->"
   ]
  },
  {
   "cell_type": "code",
   "execution_count": 7,
   "metadata": {
    "nbgrader": {
     "grade": true,
     "grade_id": "q2a-answer",
     "locked": false,
     "points": 1,
     "schema_version": 2,
     "solution": true
    },
    "scrolled": true,
    "tags": [
     "student"
    ]
   },
   "outputs": [
    {
     "data": {
      "text/plain": [
       "Ellipsis"
      ]
     },
     "execution_count": 7,
     "metadata": {},
     "output_type": "execute_result"
    }
   ],
   "source": [
    "..."
   ]
  },
  {
   "cell_type": "markdown",
   "metadata": {
    "nbgrader": {
     "grade": false,
     "grade_id": "cell-56f8e35b03f38694",
     "locked": true,
     "schema_version": 2,
     "solution": false
    }
   },
   "source": [
    "You should see histograms that show the counts of how many data points appear in each bin. `histplot` uses a heuristic called the Freedman-Diaconis rule to automatically identify the best bin sizes, though it is possible to set the bins yourself (we won't).\n",
    "\n",
    "\n",
    "In the cell below, we will explore adding a `rugplot` to the each plot. Note how the result of first call to `sns.histplot` is assigned to an `ax` object, which then gets passed in to the call to `rugplot`. This ensures that the `rugplot` and `histplot` occupy the same space."
   ]
  },
  {
   "cell_type": "code",
   "execution_count": 8,
   "metadata": {
    "nbgrader": {
     "grade": true,
     "grade_id": "cell-72d2c195130debd8",
     "locked": false,
     "points": 1,
     "schema_version": 2,
     "solution": true
    }
   },
   "outputs": [
    {
     "data": {
      "image/png": "[encoded data removed]",
      "text/plain": [
       "<Figure size 1152x360 with 2 Axes>"
      ]
     },
     "metadata": {
      "needs_background": "light"
     },
     "output_type": "display_data"
    }
   ],
   "source": [
    "plt.figure(figsize=(16,5))\n",
    "\n",
    "plt.subplot(1,2,1)\n",
    "ax1 = sns.histplot(df['imm'], kde=False)\n",
    "sns.rugplot(df['imm'], ax = ax1)\n",
    "plt.xlabel(\"Child immunization rate: Measles: % of children (12-23 months): 2015\")\n",
    "plt.title('World Bank Child Measles Immunization Rate')\n",
    "plt.ylabel('Count')\n",
    "\n",
    "plt.subplot(1,2,2)\n",
    "ax2 = sns.histplot(df['inc'], kde=False)\n",
    "sns.rugplot(df['inc'], ax = ax2)\n",
    "plt.xlabel('Gross national income per capita, $: 2016')\n",
    "plt.title('World Bank Gross National Income Per Capita')\n",
    "plt.ylabel('Count')\n",
    "plt.show()"
   ]
  },
  {
   "cell_type": "markdown",
   "metadata": {
    "nbgrader": {
     "grade": false,
     "grade_id": "cell-782e4ce886bdd92b",
     "locked": true,
     "schema_version": 2,
     "solution": false
    }
   },
   "source": [
    "Above, you should see little lines at the bottom of the plot showing the actual data points. In the cell below, we will see what happens when we further set the `kde` parameter to True."
   ]
  },
  {
   "cell_type": "code",
   "execution_count": 9,
   "metadata": {
    "nbgrader": {
     "grade": true,
     "grade_id": "cell-1aaac759f52a2269",
     "locked": false,
     "points": 1,
     "schema_version": 2,
     "solution": true
    }
   },
   "outputs": [
    {
     "data": {
      "image/png": "[encoded data removed]",
      "text/plain": [
       "<Figure size 1152x360 with 2 Axes>"
      ]
     },
     "metadata": {
      "needs_background": "light"
     },
     "output_type": "display_data"
    }
   ],
   "source": [
    "plt.figure(figsize=(16,5))\n",
    "\n",
    "plt.subplot(1,2,1)\n",
    "ax1 = sns.histplot(df['imm'], kde=True)\n",
    "sns.rugplot(df['imm'], ax = ax1)\n",
    "plt.xlabel(\"Child immunization rate: Measles: % of children (12-23 months): 2015\")\n",
    "plt.title('World Bank Child Measles Immunization Rate')\n",
    "plt.ylabel('Count')\n",
    "\n",
    "plt.subplot(1,2,2)\n",
    "ax2 = sns.histplot(df['inc'], kde=True)\n",
    "sns.rugplot(df['inc'], ax = ax2)\n",
    "plt.xlabel('Gross national income per capita, $: 2016')\n",
    "plt.title('World Bank Gross National Income Per Capita')\n",
    "plt.ylabel('Count')\n",
    "plt.show()"
   ]
  },
  {
   "cell_type": "markdown",
   "metadata": {
    "nbgrader": {
     "grade": false,
     "grade_id": "cell-d2ac0f8505508bb9",
     "locked": true,
     "schema_version": 2,
     "solution": false
    }
   },
   "source": [
    "You should see roughly the same histogram as before. However, now you should see an overlaid smooth line. This is the kernel density estimate discussed in class. \n",
    "\n",
    "Observations:\n",
    "* The KDE is just an estimate, as is the histogram. Notice that it assigns a large fraction of its area to values in the 100-120% literacy rate. This is definitely an impossibility.\n",
    "\n",
    "We'll talk a bit about KDEs in this lab, but you'll learn more in this Thursday's lecture."
   ]
  },
  {
   "cell_type": "markdown",
   "metadata": {
    "deletable": false,
    "editable": false,
    "nbgrader": {
     "grade": false,
     "grade_id": "q2b",
     "locked": true,
     "schema_version": 2,
     "solution": false
    }
   },
   "source": [
    "## Question 1c\n",
    "\n",
    "Looking at the income data, it is difficult to see the distribution among low income countries because they are all scrunched up at the left side of the plot. The KDE also has a problem where the density function has a lot of area below 0. \n",
    "\n",
    "Transforming the `inc` data logarithmically gives us a more symmetric distribution of values. This can make it easier to see patterns.\n",
    "\n",
    "In addition, summary statistics like the mean and standard deviation (square-root of the variance) are more stable with symmetric distributions.\n",
    "\n",
    "In the cell below, make a distribution plot of `inc` with the data transformed using `np.log10` and `kde=True`. If you want to see a KDE, just set `kde=True`. If you don't specify the `kde` parameter, it is by default set to False. \n",
    "\n",
    "<!--\n",
    "BEGIN QUESTION\n",
    "name: q1c\n",
    "-->"
   ]
  },
  {
   "cell_type": "code",
   "execution_count": 10,
   "metadata": {
    "nbgrader": {
     "grade": true,
     "grade_id": "q2c-answer",
     "locked": false,
     "points": 1,
     "schema_version": 2,
     "solution": true
    },
    "tags": [
     "student"
    ]
   },
   "outputs": [],
   "source": [
    "ax = ...\n",
    "plt.title('World Bank Gross National Income Per Capita')\n",
    "plt.ylabel('Density')\n",
    "plt.xlabel('Log Gross national income per capita, Atlas method: $: 2016');"
   ]
  },
  {
   "cell_type": "markdown",
   "metadata": {},
   "source": [
    "When a distribution has a long right tail, a log-transformation often does a good job of symmetrizing the distribution, as it did here.  Long right tails are common with variables that have a lower limit on the values. \n",
    "\n",
    "On the other hand, long left tails are common with distributions of variables that have an upper limit, such as percentages (can't be higher than 100%) and GPAs (can't be higher than 4).  That is the case for the immunization rate. Typically taking a power-transformation such as squaring or cubing the values can help symmetrize the left skew distribution.\n",
    "\n",
    "In the cell below, we will make a distribution plot of `imm` with the data transformed using a power, i.e., raise `imm` to the 2nd, 3rd, and 4th power. In the case of the immunization data, the left skew is so pronounced that we raise `imm` to the 6th power.\n"
   ]
  },
  {
   "cell_type": "code",
   "execution_count": 11,
   "metadata": {},
   "outputs": [],
   "source": [
    "ax = sns.histplot((df['imm'])**6)\n",
    "plt.ylabel('Density')\n",
    "plt.xlabel(\"Child immunization rate: Measles: % of children (12-23 months): 2015\", labelpad=40)\n",
    "plt.title('World Bank Child Measles Immunization Rate (6th power)', pad=30);\n",
    "# plt.figure(figsize=(12,8))"
   ]
  },
  {
   "cell_type": "markdown",
   "metadata": {
    "deletable": false,
    "editable": false
   },
   "source": [
    "## Question 1d\n",
    "\n",
    "If we want to examine the relationship between the measles immunization rate and the gross national income per capita, we need to make a scatter plot. \n",
    "\n",
    "In the cell below, create a scatter plot of untransformed income per capita and immunization rate using the `sns.scatterplot` function. Make  sure to label both axes using `plt.xlabel` and `plt.ylabel`.\n",
    "\n",
    "<!--\n",
    "BEGIN QUESTION\n",
    "name: q1d\n",
    "-->"
   ]
  },
  {
   "cell_type": "code",
   "execution_count": 12,
   "metadata": {},
   "outputs": [],
   "source": [
    "..."
   ]
  },
  {
   "cell_type": "markdown",
   "metadata": {},
   "source": [
    "We can better assess the relationship between two variables when they have been straightened because it is easier for us to recognize linearity.\n",
    "\n",
    "In the cell below, we see a scatter plot of log-transformed income per capita against immunization rate.\n"
   ]
  },
  {
   "cell_type": "code",
   "execution_count": 13,
   "metadata": {},
   "outputs": [],
   "source": [
    "sns.scatterplot(x = df['imm'], y = np.log10(df['inc']))\n",
    "plt.xlabel(\"Child immunization rate\\nMeasles: % of children (12-23 months): 2015\")\n",
    "plt.ylabel('Gross national income per capita (log scale)')\n",
    "plt.title('World Bank: Gross National Income Per Capita vs\\n Child Measles Immunization Rate');"
   ]
  },
  {
   "cell_type": "markdown",
   "metadata": {
    "deletable": false,
    "editable": false
   },
   "source": [
    "This scatter plot looks better. The relationship is closer to linear.\n",
    "\n",
    "We can think of the log-linear relationship between x and y, as follows: a constant change in x corresponds to a percent (scaled) change in y.\n",
    "\n",
    "We can also see that the long left tail of immunization rate is represented in this plot by a lot of the points being bunched up near 100. Try squaring immunization rate and taking the log of income. Does the plot look better? \n",
    "\n",
    "<!--\n",
    "BEGIN QUESTION\n",
    "name: q1d2\n",
    "-->"
   ]
  },
  {
   "cell_type": "code",
   "execution_count": 14,
   "metadata": {
    "tags": []
   },
   "outputs": [],
   "source": [
    "plt.figure(figsize=(10,5))\n",
    "..."
   ]
  },
  {
   "cell_type": "markdown",
   "metadata": {},
   "source": [
    "Choosing the best transformation for a relationship is often a balance between keeping the model simple and straightening the scatter plot."
   ]
  },
  {
   "cell_type": "markdown",
   "metadata": {},
   "source": [
    "# SQL Setup"
   ]
  },
  {
   "cell_type": "code",
   "execution_count": 15,
   "metadata": {},
   "outputs": [],
   "source": [
    "db_path = Path('data/imdbmini.db')"
   ]
  },
  {
   "cell_type": "markdown",
   "metadata": {},
   "source": [
    "The following cell will connect to the above database using the SQL Alchemy library. This library is more general than the `sqlite3` module from the standard library because it can connect to several different database management systems, such as MySQL and PostgreSQL. It also supports an advanced feature for generating queries called an [object relational mapper](https://docs.sqlalchemy.org/en/latest/orm/tutorial.html) or ORM, which we won't discuss in this course but is quite useful for application development."
   ]
  },
  {
   "cell_type": "code",
   "execution_count": 16,
   "metadata": {},
   "outputs": [],
   "source": [
    "engine = sqlalchemy.create_engine(f\"sqlite:///{db_path}\")\n",
    "connection = engine.connect()\n",
    "inspector = sqlalchemy.inspect(engine)"
   ]
  },
  {
   "cell_type": "markdown",
   "metadata": {},
   "source": [
    "To check that everything is working we will list the available tables."
   ]
  },
  {
   "cell_type": "code",
   "execution_count": 17,
   "metadata": {},
   "outputs": [],
   "source": [
    "inspector.get_table_names()"
   ]
  },
  {
   "cell_type": "markdown",
   "metadata": {},
   "source": [
    "# SQL Problems"
   ]
  },
  {
   "cell_type": "markdown",
   "metadata": {},
   "source": [
    "The assignment consists of **2 SQL problems**: 1 required, and 1 optional. These questions use the same dataset that we've used for this week's homework.\n",
    "\n",
    "**NOTE:** In order to run the autograder tests, you must not add any code blocks in after the block containing your solution, and the last line in the solution block must be `SELECT * FROM TableName;`."
   ]
  },
  {
   "cell_type": "markdown",
   "metadata": {},
   "source": [
    "<details>\n",
    "    <summary>▶ [Click to Expand] <b>Dataset</b>: In this assignment, we will work with a miniature version of the <a href=\"https://www.imdb.com/interfaces/\">IMDB Dataset</a>. There are 4 tables: <code>titles</code>, <code>ratings</code>, <code>names</code>, <code>roles</code>. Click here to see description of 4 tables.</b></summary>\n",
    "\n",
    "    \n",
    "**`Name`** – Contains the following information for names (originally called `names.basic`)\n",
    "- nconst (string) - alphanumeric unique identifier of the name/person\n",
    "- primaryName (string)– name by which the person is most often credited\n",
    "- birthYear – in YYYY format\n",
    "- deathYear – in YYYY format if applicable, else '\\\\N'\n",
    "- primaryProfession (array of strings)– the top-3 professions of the person\n",
    "- knownForTitles (array of tconsts) – titles the person is known for\n",
    "    \n",
    "    \n",
    "**`Rating`** – Contains the IMDb rating and votes information for titles\n",
    "- tconst (string) - alphanumeric unique identifier of the title\n",
    "- averageRating – weighted average of all the individual user ratings\n",
    "- numVotes - number of votes the title has received\n",
    "    \n",
    "    \n",
    "**`Role`** – Contains the principal cast/crew for titles (originally called `principals`)\n",
    "- tconst (string) - alphanumeric unique identifier of the title\n",
    "- ordering (integer) – a number to uniquely identify rows for a given titleId\n",
    "- nconst (string) - alphanumeric unique identifier of the name/person\n",
    "- category (string) - the category of job that person was in\n",
    "- job (string) - the specific job title if applicable, else '\\\\N'\n",
    "- characters (string) - the name of the character played if applicable, else '\\\\N'\n",
    "    \n",
    "    \n",
    "**`Title`** - Contains the following information for titles (originally called `title.basics`):\n",
    "- tconst (string) - alphanumeric unique identifier of the title\n",
    "- titleType (string) – the type/format of the title (e.g. movie, short, tvseries, tvepisode, video, etc)\n",
    "- primaryTitle (string) – the more popular title / the title used by the filmmakers on promotional materials at the point of release\n",
    "- originalTitle (string) - original title, in the original language\n",
    "- isAdult (boolean) - 0: non-adult title; 1: adult title\n",
    "- startYear (YYYY) – represents the release year of a title. In the case of TV Series, it is the series start year\n",
    "- endYear (YYYY) – TV Series end year. '\\\\N' for all other title types\n",
    "- runtimeMinutes – primary runtime of the title, in minutes\n",
    "- genres (string array) – includes up to three genres associated with the title\n",
    "</details>"
   ]
  },
  {
   "cell_type": "code",
   "execution_count": 18,
   "metadata": {},
   "outputs": [],
   "source": [
    "query = \"\"\"\n",
    "SELECT *\n",
    "FROM Name\n",
    "LIMIT 3\n",
    "\"\"\"\n",
    "pd.read_sql(query, engine)"
   ]
  },
  {
   "cell_type": "markdown",
   "metadata": {
    "deletable": false,
    "editable": false
   },
   "source": [
    "## Question 2: Find 10 films with the most votes.\n",
    "\n",
    "- Output the film title `title` and the number of votes `numVotes`\n",
    "\n",
    "<!--\n",
    "BEGIN QUESTION\n",
    "name: q2\n",
    "-->"
   ]
  },
  {
   "cell_type": "code",
   "execution_count": 19,
   "metadata": {},
   "outputs": [],
   "source": [
    "query_q2 = \"\"\"\n",
    "SELECT\n",
    "    ... \n",
    "    ... \n",
    "FROM Title\n",
    "JOIN ...\n",
    "    ...\n",
    "...\n",
    "LIMIT ...\n",
    "\"\"\"\n",
    "\n",
    "\n",
    "res_q2 = pd.read_sql(query_q2, engine)\n",
    "res_q2"
   ]
  },
  {
   "cell_type": "code",
   "execution_count": null,
   "metadata": {
    "deletable": false,
    "editable": false
   },
   "outputs": [],
   "source": [
    "grader.check(\"q2\")"
   ]
  },
  {
   "cell_type": "markdown",
   "metadata": {
    "deletable": false,
    "editable": false
   },
   "source": [
    "##  [OPTIONAL] Question 3: Find 10 actors/actresses in the most movies.\n",
    "\n",
    "- Output the actor/actress `name` and the number of films per actor/actress `total`.\n",
    "- Sort by number of films in descending order.\n",
    "\n",
    "<details>\n",
    "    <summary>▶ [Click to Expand] <b>Hints</b></summary>\n",
    "    \n",
    "- **Hint**: Read one tip at a time. Break down the question into parts: (1) Link actors/actresses to films. (2) Keep only **movies**. Keep only **actors/actresses**. (3) Count movies per actor/actress.\n",
    "    \n",
    "- **Hint**: Part 1 - Actors and actresses are in `Name` and films are in `Title`. How do we connect them? See 9.3 https://youtu.be/vGgKqxUPX7A to understand how the \"junction table\" `Role` is important.\n",
    "    \n",
    "- **Hint**: Part 2 - See which roles people play in movies using `SELECT DISTINCT category FROM Role`. You will need to keep only actors/actresses.\n",
    "    \n",
    "- **Hint**: You can assume each actor/actress only has one role per film. If you're not sure how this hint affects your answer, don't worry about it.\n",
    "</details>\n",
    "\n",
    "<!--\n",
    "BEGIN QUESTION\n",
    "name: q3\n",
    "-->"
   ]
  },
  {
   "cell_type": "code",
   "execution_count": 22,
   "metadata": {},
   "outputs": [],
   "source": [
    "query_q3 = \"\"\"\n",
    "SELECT\n",
    "    ... \n",
    "    ... \n",
    "FROM Name\n",
    "JOIN ...\n",
    "    ...\n",
    "...\n",
    "...\n",
    "WHERE ...\n",
    "...\n",
    "...\n",
    "LIMIT ...\n",
    "\"\"\"\n",
    "\n",
    "\n",
    "res_q3 = pd.read_sql(query_q3, engine)\n",
    "res_q3"
   ]
  },
  {
   "cell_type": "code",
   "execution_count": null,
   "metadata": {
    "deletable": false,
    "editable": false
   },
   "outputs": [],
   "source": [
    "grader.check(\"q3\")"
   ]
  },
  {
   "cell_type": "markdown",
   "metadata": {
    "nbgrader": {
     "grade": false,
     "grade_id": "finish",
     "locked": true,
     "schema_version": 2,
     "solution": false
    }
   },
   "source": [
    "**Congrats!** You are finished with this assignment."
   ]
  },
  {
   "cell_type": "markdown",
   "metadata": {
    "deletable": false,
    "editable": false
   },
   "source": [
    "---\n",
    "\n",
    "To double-check your work, the cell below will rerun all of the autograder tests."
   ]
  },
  {
   "cell_type": "code",
   "execution_count": null,
   "metadata": {
    "deletable": false,
    "editable": false
   },
   "outputs": [],
   "source": [
    "grader.check_all()"
   ]
  },
  {
   "cell_type": "markdown",
   "metadata": {
    "deletable": false,
    "editable": false
   },
   "source": [
    "## Submission\n",
    "\n",
    "Make sure you have run all cells in your notebook in order before running the cell below, so that all images/graphs appear in the output. The cell below will generate a zip file for you to submit. **Please save before exporting!**"
   ]
  },
  {
   "cell_type": "code",
   "execution_count": null,
   "metadata": {
    "deletable": false,
    "editable": false
   },
   "outputs": [],
   "source": [
    "# Save your notebook first, then run this cell to export your submission.\n",
    "grader.export(pdf=False)"
   ]
  },
  {
   "cell_type": "markdown",
   "metadata": {},
   "source": [
    " "
   ]
  }
 ],
 "metadata": {
  "_change_revision": 0,
  "_is_fork": false,
  "celltoolbar": "Create Assignment",
  "kernelspec": {
   "display_name": "Python 3 (ipykernel)",
   "language": "python",
   "name": "python3"
  },
  "language_info": {
   "codemirror_mode": {
    "name": "ipython",
    "version": 3
   },
   "file_extension": ".py",
   "mimetype": "text/x-python",
   "name": "python",
   "nbconvert_exporter": "python",
   "pygments_lexer": "ipython3",
   "version": "3.9.7"
  }
 },
 "nbformat": 4,
 "nbformat_minor": 4
}
