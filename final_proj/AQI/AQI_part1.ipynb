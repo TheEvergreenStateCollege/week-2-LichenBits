{
 "cells": [
  {
   "cell_type": "code",
   "execution_count": null,
   "id": "fa3bc413",
   "metadata": {
    "deletable": false,
    "editable": false
   },
   "outputs": [],
   "source": [
    "# Initialize Otter\n",
    "import otter\n",
    "grader = otter.Notebook(\"AQI_part1.ipynb\")"
   ]
  },
  {
   "cell_type": "markdown",
   "id": "26f59d5a",
   "metadata": {},
   "source": [
    "# Final Project Part 1: Air Quality Dataset\n",
    "## Analyzing and Predicting AQI Data through Modeling\n",
    "## Due Date: Wednesday, November 17th, 11:59 PM\n",
    "## Collaboration Policy\n",
    "\n",
    "Data science is a collaborative activity. While you may talk with other groups about\n",
    "the project, we ask that you **write your solutions individually**. If you do\n",
    "discuss the assignments with others outside of your group please **include their names** at the top\n",
    "of your notebook."
   ]
  },
  {
   "cell_type": "markdown",
   "id": "237e14a3",
   "metadata": {},
   "source": [
    "## This Assignment\n",
    "\n",
    "In this final project, we will investigate AQI data for the year 2020 from **USA EPA** data. All the data used for this project can be accessed from the [EPA Website](https://aqs.epa.gov/aqsweb/airdata/download_files.html), which we will pull from directly in this notebook. This dataset contains geographical and time-series data on various factors that contribute to AQI from all government sites. The main goal at the end for you will be to understand how AQI varies both geographically and over time, and use your analysis (as well as other data that you can find) to be predict AQI at a certain point in time for various locations in California.\n",
    "\n",
    "Through this final project, you will demonstrate your experience with:\n",
    "* EDA and merging on location using Pandas\n",
    "* Unsupervised and supervised learning techniques\n",
    "* Visualization and interpolation\n",
    "\n",
    "This is **part 1** of the project, which includes the data cleaning, guided EDA and open-ended EDA components of the project. This will help you for part 2, where you will be completing the modeling component. "
   ]
  },
  {
   "cell_type": "code",
   "execution_count": 1,
   "id": "ce478a02",
   "metadata": {},
   "outputs": [],
   "source": [
    "import pandas as pd\n",
    "import numpy as np\n",
    "import seaborn as sns\n",
    "import matplotlib.pyplot as plt\n",
    "import re\n",
    "import geopandas as gpd\n",
    "\n",
    "import os\n",
    "import requests, zipfile, io\n",
    "\n",
    "import warnings\n",
    "warnings.filterwarnings('ignore')"
   ]
  },
  {
   "cell_type": "markdown",
   "id": "8ad37b32",
   "metadata": {},
   "source": [
    "<br/><br/>\n",
    "\n",
    "---\n",
    "## Section 1: Data Cleaning\n",
    "\n",
    "As mentioned, we will be using the **US EPA** data from the EPA website. Below is a dataframe of the files we will be using for the project. The following two cells will download the data and put it into a dictionary called `epa_data`."
   ]
  },
  {
   "cell_type": "code",
   "execution_count": 2,
   "id": "96be7dc6",
   "metadata": {},
   "outputs": [],
   "source": [
    "epa_weburl = \"https://aqs.epa.gov/aqsweb/airdata/\"\n",
    "epa_filenames = pd.read_csv(\"data/epa_filenames.csv\")\n",
    "epa_filenames"
   ]
  },
  {
   "cell_type": "markdown",
   "id": "7ecc95d6",
   "metadata": {},
   "source": [
    "Below is code that we used to extract the code from the AQI website, which we encourage you to understand! This will pull directly from the website urls and put it into your `data/` folder. "
   ]
  },
  {
   "cell_type": "code",
   "execution_count": 3,
   "id": "246defb4",
   "metadata": {},
   "outputs": [],
   "source": [
    "epa_data = {}\n",
    "for name, filename in zip(epa_filenames['name'], epa_filenames['epa_filename']):\n",
    "    path_name = 'data/{}'.format(name)\n",
    "    if not os.path.isdir(path_name): \n",
    "        data_url = '{}{}.zip'.format(epa_weburl, filename)\n",
    "        req = requests.get(data_url)\n",
    "        z = zipfile.ZipFile(io.BytesIO(req.content))\n",
    "        z.extractall(path_name)\n",
    "    data = pd.read_csv(f'data/{name}/{filename}.csv')\n",
    "    epa_data[name] = data"
   ]
  },
  {
   "cell_type": "markdown",
   "id": "a2efe193",
   "metadata": {},
   "source": [
    "Use the below cell to explore each of the datasets, which can be accessed using the keys in the `name` column of `epa_filenames` above. Currently, the cell is viewing the `annual_county_aqi` dataset, but feel free to change it to whichever dataset you want to explore. "
   ]
  },
  {
   "cell_type": "code",
   "execution_count": 4,
   "id": "16cd0a47",
   "metadata": {},
   "outputs": [],
   "source": [
    "epa_data.get('annual_county_aqi').head()"
   ]
  },
  {
   "cell_type": "markdown",
   "id": "8d0cfe6d",
   "metadata": {
    "deletable": false,
    "editable": false
   },
   "source": [
    "<!-- BEGIN QUESTION -->\n",
    "\n",
    "<br/>\n",
    "\n",
    "### Question 0: Understanding the Data\n",
    "\n",
    "Notice that for the table `annual_county_aqi`, the 90th percentile AQI is reported as a column. Why would the 90th percentile AQI be useful as opposed to the maximum? What does it mean when the difference between the 90th percentile AQI and Max AQI is very large compared to the difference between the 90th percentile AQI and the median AQI?\n",
    "\n",
    "<!--\n",
    "BEGIN QUESTION\n",
    "name: q0\n",
    "manual: True\n",
    "points: 2\n",
    "-->"
   ]
  },
  {
   "cell_type": "markdown",
   "id": "05fd5455",
   "metadata": {},
   "source": [
    "_Type your answer here, replacing this text._"
   ]
  },
  {
   "cell_type": "markdown",
   "id": "e189f4f0",
   "metadata": {
    "deletable": false,
    "editable": false
   },
   "source": [
    "<!-- END QUESTION -->\n",
    "\n",
    "<br/>\n",
    "\n",
    "### Question 1a: Creating Month and Day Columns\n",
    "\n",
    "In the `daily_county_aqi` table in `epa_data`, add two new columns called `Day` and `Month` that denote the day and month, respectively, of the AQI reading. The day and month should both be reported as an **integer** as opposed to a string (`Jan`, `Feb`, etc.)\n",
    "\n",
    "hint: `pd.to_datetime` may be useful.\n",
    "\n",
    "<!--\n",
    "BEGIN QUESTION\n",
    "name: q1a\n",
    "points: 1\n",
    "-->"
   ]
  },
  {
   "cell_type": "code",
   "execution_count": 5,
   "id": "83b4fa41",
   "metadata": {},
   "outputs": [],
   "source": [
    "daily_county = epa_data.get('daily_county_aqi')\n",
    "daily_county['Month'] = ...\n",
    "daily_county['Day'] = ...\n",
    "\n",
    "\n",
    "daily_county.head()"
   ]
  },
  {
   "cell_type": "code",
   "execution_count": null,
   "id": "50cb9b2f",
   "metadata": {
    "deletable": false,
    "editable": false
   },
   "outputs": [],
   "source": [
    "grader.check(\"q1a\")"
   ]
  },
  {
   "cell_type": "markdown",
   "id": "451d778b",
   "metadata": {
    "deletable": false,
    "editable": false
   },
   "source": [
    "<br/>\n",
    "\n",
    "### Question 1b: California Data\n",
    "\n",
    "Currently, `epa_data` contains data for **all** counties in the United States. For the guided part of this project, we are specifically going to be focusing on AQI data for counties in California only. Your task is to assign `epa_data_CA` a dictionary mapping table names to dataframes. This map should have the same contents as `epa_data` but only tables that contain **daily data** in the state of `California`.\n",
    "\n",
    "<!--\n",
    "BEGIN QUESTION\n",
    "name: q1b\n",
    "points: 3\n",
    "-->"
   ]
  },
  {
   "cell_type": "code",
   "execution_count": 8,
   "id": "e7215ccd",
   "metadata": {},
   "outputs": [],
   "source": [
    "epa_data_CA = {}\n",
    "\n",
    "...\n",
    "    \n",
    "\n",
    "epa_data_CA.get('daily_county_aqi').head()"
   ]
  },
  {
   "cell_type": "code",
   "execution_count": null,
   "id": "46ce285b",
   "metadata": {
    "deletable": false,
    "editable": false
   },
   "outputs": [],
   "source": [
    "grader.check(\"q1b\")"
   ]
  },
  {
   "cell_type": "markdown",
   "id": "9e245b47",
   "metadata": {
    "deletable": false,
    "editable": false
   },
   "source": [
    "<br/>\n",
    "\n",
    "### Question 1c: Merging Site Information\n",
    "\n",
    "Now take a look at this [link](https://www.epa.gov/outdoor-air-quality-data/about-air-data-reports) and look under \"Site ID\". For later analysis, we want to first get the latitude and longitudes of each of the measurements in the `daily_county_aqi` table by merging two or more tables in `epa_data_CA` (one of the tables is `daily_county_aqi`).\n",
    "\n",
    "Our final merged table should be assigned to `epa_data_CA_merged` and the result should contain the following columns: `State Name`, `county Name`, `Month`, `Day`, `AQI`, `Category`, `Defining Site`, `Latitude`, and `Longitude`\n",
    "\n",
    "<!--\n",
    "BEGIN QUESTION\n",
    "name: q1c\n",
    "points: 4\n",
    "-->"
   ]
  },
  {
   "cell_type": "code",
   "execution_count": 11,
   "id": "b0ea7497",
   "metadata": {},
   "outputs": [],
   "source": [
    "cols = ['State Name', 'county Name', 'Month', 'Day', 'AQI', 'Category', 'Defining Site', 'Latitude', 'Longitude']\n",
    "epa_data_CA_merged = ...\n",
    "\n",
    "\n",
    "epa_data_CA_merged.head()"
   ]
  },
  {
   "cell_type": "code",
   "execution_count": null,
   "id": "17d27244",
   "metadata": {
    "deletable": false,
    "editable": false
   },
   "outputs": [],
   "source": [
    "grader.check(\"q1c\")"
   ]
  },
  {
   "cell_type": "markdown",
   "id": "9735e329",
   "metadata": {
    "deletable": false,
    "editable": false
   },
   "source": [
    "<br/>\n",
    "\n",
    "### Question 2a - Cleaning Traffic Data \n",
    "\n",
    "Throughout this project, you will be using other datasets to assist with analysis and predictions. Traditionally, to join dataframes we need to join on a specific column with shared values. However, when it comes to locations, exact latitudes and longitudes are hard to come by since it is a continuous space. First, lets look at such a dataset that we may want to merge on with `epa_data_CA_merged`. \n",
    "\n",
    "In the below cell, we have loaded in the `traffic_data` dataset, which contains traffic data for various locations in California. Your task is to clean this table so that it includes only the following columns (you may have to rename some): `District`, `Route`, `County`, `Descriptn`, `AADT`, `Latitude`, `Longitude`, where `AADT` is found by taking the sum of the back and ahead `AADT`s (you may run into some issues with cleaning the data in order to add these columns - `.str` functions may help with this). The metric AADT, annual average daily traffic, is calculated as the sum of the traffic north of the route (ahead AADT) and south of the route (back AADT). You also need to make sure to clean and remove any illegal values from the dataframe (hint: check `Latitude` and `Longitude`).\n",
    "\n",
    "*Hint:* `str` functions you will likely use: `.strip()`, `.replace()`.\n",
    "\n",
    "<!--\n",
    "BEGIN QUESTION\n",
    "name: q2a\n",
    "points: 3\n",
    "-->"
   ]
  },
  {
   "cell_type": "code",
   "execution_count": 14,
   "id": "f7fa3450",
   "metadata": {},
   "outputs": [],
   "source": [
    "traffic_data = pd.read_csv(\"data/Traffic_Volumes_AADT.csv\")\n",
    "traffic_data_cleaned = ...\n",
    "\n",
    "\n",
    "traffic_data_cleaned.head()"
   ]
  },
  {
   "cell_type": "code",
   "execution_count": null,
   "id": "6ce7029c",
   "metadata": {
    "deletable": false,
    "editable": false
   },
   "outputs": [],
   "source": [
    "grader.check(\"q2a\")"
   ]
  },
  {
   "cell_type": "markdown",
   "id": "234674cd",
   "metadata": {
    "deletable": false,
    "editable": false
   },
   "source": [
    "### Question 2b - Merging on Traffic Data \n",
    "\n",
    "Traditionally, we could employ some sort of join where we join `epa_data_CA_merged` rows with the row in `traffic_data` that it is the \"closest\" to, as measured by euclidean distance. As you can imagine, this can be quite tedious so instead we will use a special type of join called a **spatial join**, which can be done using the package `geopandas`, which is imported as `gpd`. The documentation for `geopandas` is linked [here](https://geopandas.org/docs/reference/api/geopandas.sjoin_nearest.html). Please use this as a resource to do the following tasks: \n",
    "\n",
    " - turn `traffic_data_cleaned` and `epa_data_CA_merged` into a geopandas dataframe using the latitude and longitude.\n",
    " - Use a spatial join (which function is this in the documentation?) to match the correct traffic row information to each entry in `epa_data_CA_merged`. \n",
    "\n",
    "Your final dataframe should be assigned to `gpd_epa_traffic` with the following columns: `State Name`, `county Name`, `Month`, `Day`, `AQI`, `Category`, `Defining Site`, `Site Lat`, `Site Long`, `Traffic Lat`, `Traffic Long`, `Descriptn`, and `AADT`.\n",
    "\n",
    "<!--\n",
    "BEGIN QUESTION\n",
    "name: q2b\n",
    "points: 2\n",
    "-->"
   ]
  },
  {
   "cell_type": "code",
   "execution_count": 16,
   "id": "1b9aadf4",
   "metadata": {},
   "outputs": [],
   "source": [
    "gpd_epa_traffic = ...\n",
    "\n",
    "\n",
    "\n",
    "gpd_epa_traffic.head()"
   ]
  },
  {
   "cell_type": "code",
   "execution_count": null,
   "id": "b14bb28d",
   "metadata": {
    "deletable": false,
    "editable": false
   },
   "outputs": [],
   "source": [
    "grader.check(\"q2b\")"
   ]
  },
  {
   "cell_type": "markdown",
   "id": "f04ce63f",
   "metadata": {},
   "source": [
    "<br/><br/>\n",
    "\n",
    "---\n",
    "## Section 2: Guided EDA\n"
   ]
  },
  {
   "cell_type": "markdown",
   "id": "9e1ed997",
   "metadata": {
    "deletable": false,
    "editable": false
   },
   "source": [
    "### Question 3a: Initial AQI Analysis\n",
    "\n",
    "Assign a `pd.Series` object to `worst_median_aqis` that contains the states with the top 10 worst median AQIs throughout the year 2020, as measured by the average median AQIs across all counties for a single state. Your result should have index `state`, the column value should be labelled `Average Median AQI`, and it should be arranged in descending order.\n",
    "\n",
    "Now, assign the same thing to `worst_max_aqis`, except instead of aggregating the average median AQIs across all counties, aggregate the average **max AQIs** across all counties. Your result should have the same shape and labels as before, except the column value should be labelled `Average Max AQI`. \n",
    "\n",
    "Note: you may have to remove a few regions in your tables. Make sure every entry in your output is a **US State**.\n",
    "\n",
    "<!--\n",
    "BEGIN QUESTION\n",
    "name: q3a\n",
    "points: 2\n",
    "-->"
   ]
  },
  {
   "cell_type": "code",
   "execution_count": 18,
   "id": "c4a2fd9c",
   "metadata": {},
   "outputs": [],
   "source": [
    "worst_median_aqis = ...\n",
    "worst_max_aqis = ...\n",
    "\n",
    "\n",
    "print(\"Worst Median AQI : \\n{}\\n\".format(worst_median_aqis))\n",
    "print(\"Worst Max AQI : \\n{}\".format(worst_max_aqis))\n",
    "\n",
    "np.round(list(worst_max_aqis), 2)"
   ]
  },
  {
   "cell_type": "code",
   "execution_count": null,
   "id": "b74eef5e",
   "metadata": {
    "deletable": false,
    "editable": false
   },
   "outputs": [],
   "source": [
    "grader.check(\"q3a\")"
   ]
  },
  {
   "cell_type": "markdown",
   "id": "40e24e98",
   "metadata": {
    "deletable": false,
    "editable": false,
    "tags": []
   },
   "source": [
    "<!-- BEGIN QUESTION -->\n",
    "\n",
    "<br/>\n",
    "\n",
    "### Question 3b: Worst AQI States\n",
    "\n",
    "What are the states that are in both of the top 10 lists? Why do you think most of these states are on both of the lists?\n",
    "\n",
    "<!--\n",
    "BEGIN QUESTION\n",
    "name: q3b\n",
    "manual: True\n",
    "points: 2\n",
    "-->"
   ]
  },
  {
   "cell_type": "markdown",
   "id": "df611715",
   "metadata": {},
   "source": [
    "_Type your answer here, replacing this text._"
   ]
  },
  {
   "cell_type": "markdown",
   "id": "371230ea",
   "metadata": {
    "deletable": false,
    "editable": false
   },
   "source": [
    "<!-- END QUESTION -->\n",
    "\n",
    "<br/>\n",
    "\n",
    "### Question 4a: Missing AQI Data\n",
    "\n",
    "We want to see the accessibility of the AQI data across states. In the following cell, assign `days_with_AQI` to a series that contains the state as the index and the average number of days with AQI entries across all counties in that state as the value. Make sure to label the series as `Days with AQI` and sort in ascending order (smallest average number of days at the top). As before, make sure to remove the regions that are not **US States** from your series.\n",
    "\n",
    "<!--\n",
    "BEGIN QUESTION\n",
    "name: q4a\n",
    "points: 2\n",
    "-->"
   ]
  },
  {
   "cell_type": "code",
   "execution_count": 21,
   "id": "267182b8",
   "metadata": {},
   "outputs": [],
   "source": [
    "days_with_AQI = ...\n",
    "\n",
    "\n",
    "days_with_AQI.head()"
   ]
  },
  {
   "cell_type": "code",
   "execution_count": null,
   "id": "0444b30b",
   "metadata": {
    "deletable": false,
    "editable": false
   },
   "outputs": [],
   "source": [
    "grader.check(\"q4a\")"
   ]
  },
  {
   "cell_type": "markdown",
   "id": "c9f4cc0f",
   "metadata": {},
   "source": [
    "<br/>\n",
    "\n",
    "### Question 4b: What are the missing dates?\n",
    "\n",
    "In the following cell, we create the series `ca_aqi_days` that outputs a series with each county in California mapped to the number of days that they have AQI data on. Notice that there exists a few counties without the full year of data, which is what you will be taking a closer look at in the following two parts."
   ]
  },
  {
   "cell_type": "code",
   "execution_count": 23,
   "id": "c5372004",
   "metadata": {},
   "outputs": [],
   "source": [
    "ca_annual_data = epa_data.get('annual_county_aqi')[epa_data.get('annual_county_aqi')['State'] == 'California']\n",
    "ca_aqi_days = ca_annual_data['Days with AQI'].sort_values()\n",
    "ca_aqi_days.head(10)"
   ]
  },
  {
   "cell_type": "markdown",
   "id": "578b6659",
   "metadata": {
    "deletable": false,
    "editable": false
   },
   "source": [
    "#### Question 4bi: Missing Days\n",
    "\n",
    "Assign `county_to_missing_dates` to a dictionary that maps each county with less than the full year of data to the dates that have missing AQI data. Make sure that your keys are just the county name (no whitespace around it or `, California` appended to it) and the values are of the format `yyyy-mm-dd`.\n",
    "\n",
    "<!--\n",
    "BEGIN QUESTION\n",
    "name: q4i\n",
    "points: 2\n",
    "-->"
   ]
  },
  {
   "cell_type": "code",
   "execution_count": 24,
   "id": "066d70a1",
   "metadata": {},
   "outputs": [],
   "source": [
    "county_to_missing_dates = {}\n"
   ]
  },
  {
   "cell_type": "code",
   "execution_count": null,
   "id": "7eb1b316",
   "metadata": {
    "deletable": false,
    "editable": false
   },
   "outputs": [],
   "source": [
    "grader.check(\"q4i\")"
   ]
  },
  {
   "cell_type": "markdown",
   "id": "efc8d9aa",
   "metadata": {
    "deletable": false,
    "editable": false
   },
   "source": [
    "<!-- BEGIN QUESTION -->\n",
    "\n",
    "#### Question 4bii: Missing Days\n",
    "\n",
    "Are there any key missing dates in common between the counties that have missing AQI data? What two counties have the most missing days and why do you think they do?\n",
    "\n",
    "<!--\n",
    "BEGIN QUESTION\n",
    "name: q4bii\n",
    "manual: True\n",
    "points: 2\n",
    "-->"
   ]
  },
  {
   "cell_type": "markdown",
   "id": "fee26424",
   "metadata": {},
   "source": [
    "_Type your answer here, replacing this text._"
   ]
  },
  {
   "cell_type": "markdown",
   "id": "37216f62",
   "metadata": {},
   "source": [
    "<!-- END QUESTION -->\n",
    "\n",
    "\n",
    "\n",
    "<br/>\n",
    "\n",
    "### Question 5a: AQI over Time "
   ]
  },
  {
   "cell_type": "markdown",
   "id": "04330fac",
   "metadata": {
    "deletable": false,
    "editable": false
   },
   "source": [
    "Assign `aqi_per_month` to a series of the average aqi per month across all US states and `aqi_per_month_CA` to a series of the average AQI per month across California.\n",
    "\n",
    "<!--\n",
    "BEGIN QUESTION\n",
    "name: q5a\n",
    "points: 1\n",
    "-->"
   ]
  },
  {
   "cell_type": "code",
   "execution_count": 28,
   "id": "f069fcfb",
   "metadata": {},
   "outputs": [],
   "source": [
    "aqi_per_month = ...\n",
    "aqi_per_month_CA = ...\n",
    "\n",
    "\n",
    "print(\"AQI per Month: \\n{}\\n\".format(aqi_per_month))\n",
    "print(\"AQI per Month California : \\n{}\".format(aqi_per_month_CA))"
   ]
  },
  {
   "cell_type": "code",
   "execution_count": null,
   "id": "c5391bc2",
   "metadata": {
    "deletable": false,
    "editable": false
   },
   "outputs": [],
   "source": [
    "grader.check(\"q5a\")"
   ]
  },
  {
   "cell_type": "markdown",
   "id": "fe2d7e8c",
   "metadata": {
    "deletable": false,
    "editable": false
   },
   "source": [
    "<!-- BEGIN QUESTION -->\n",
    "\n",
    "<br/>\n",
    "\n",
    "### Question 5b: AQI over Time Analysis \n",
    "\n",
    "Is there anything interesting that you notice in `aqi_per_month_CA`? If so, why do you think that is?\n",
    "\n",
    "<!--\n",
    "BEGIN QUESTION\n",
    "name: q5b\n",
    "manual: True\n",
    "points: 1\n",
    "-->"
   ]
  },
  {
   "cell_type": "markdown",
   "id": "f3238d76",
   "metadata": {},
   "source": [
    "_Type your answer here, replacing this text._"
   ]
  },
  {
   "cell_type": "markdown",
   "id": "7e9b503b",
   "metadata": {
    "deletable": false,
    "editable": false
   },
   "source": [
    "<!-- END QUESTION -->\n",
    "\n",
    "<!-- BEGIN QUESTION -->\n",
    "\n",
    "<br/>\n",
    "\n",
    "### Question 5c: Modeling AQI over Time\n",
    "\n",
    "Based on the AQI pattern in the year 2020, if we were to model AQI over the last 10 years, with the average AQI per year being the same, what sort of parametric function $f(x)$ would you use? Let us say that we see a linear increase in the average AQI per year over the last 10 years instead, then what parametric function $g(x)$ would you use?\n",
    "\n",
    "<!--\n",
    "BEGIN QUESTION\n",
    "name: q5c\n",
    "manual: True\n",
    "points: 3\n",
    "-->"
   ]
  },
  {
   "cell_type": "markdown",
   "id": "014d5c9d",
   "metadata": {},
   "source": [
    "_Type your answer here, replacing this text._"
   ]
  },
  {
   "cell_type": "markdown",
   "id": "182def9b",
   "metadata": {},
   "source": [
    "<!-- END QUESTION -->\n",
    "\n",
    "\n",
    "\n",
    "<br/>\n",
    "\n",
    "### Question 6a: Create Heatmap Buckets\n",
    "\n",
    "Now we want to create a function called `bucket_data`, which takes in the following parameters: `table`, `resolution`. It outputs a pivot table with the latitude bucket (smallest latitude for that grid point) on the index and the longitude bucket (smallest longitude for that grid point) on the columns. The values in the pivot table should be the average AQI of the monitor sites inside that respective rectangle grid of latitudes and longitudes. The following should be the output of `bucket_data(epa_data_CA_merged, np.mean, 5)`:\n",
    "\n",
    "<img src=\"images/q6a.png\" width=\"600px\" align=\"center\"/>"
   ]
  },
  {
   "cell_type": "markdown",
   "id": "ecf6b022",
   "metadata": {
    "deletable": false,
    "editable": false
   },
   "source": [
    "The `resolution` parameter describes the number of buckets that the latitudes and longitudes are divided into on the heatmap. As an example, let us say that the range of longitudes for site monitors are between \\[100, 110\\]; make sure that the start of the range is exactly the **minimum** of all longitude values of your site monitors and the end of the range is the exactly the **maximum** of all longitude values of your site monitors. Let us say that we have a resolution of 10. Then we have the buckets \n",
    "$$([100, 101], [101, 102], ..., [109, 110])$$\n",
    "\n",
    "The column and row labels of this dataframe should be labelled as the **start** of the bucket. In the case of the example above, the names of the buckets should be $ 100, 101, \\dots 109 $. Note that we are just looking at the longitude dimension in this example, and you have to do do the same for the latitude dimension along the rows in order to build the pivot table.\n",
    "\n",
    "Finally, make sure the row and column labels of your pivot table are **exactly** the same as the example given above. \n",
    "<!--\n",
    "BEGIN QUESTION\n",
    "name: q6a\n",
    "points: 6\n",
    "-->"
   ]
  },
  {
   "cell_type": "code",
   "execution_count": 31,
   "id": "ff816af6",
   "metadata": {},
   "outputs": [],
   "source": [
    "def bucket_data(table, aggfunc, resolution):\n",
    "    ...\n",
    "\n",
    "\n",
    "bucket_data(epa_data_CA_merged, np.mean, 5)"
   ]
  },
  {
   "cell_type": "code",
   "execution_count": null,
   "id": "7df7ad69",
   "metadata": {
    "deletable": false,
    "editable": false
   },
   "outputs": [],
   "source": [
    "grader.check(\"q6a\")"
   ]
  },
  {
   "cell_type": "markdown",
   "id": "f9988da8",
   "metadata": {
    "deletable": false,
    "editable": false
   },
   "source": [
    "<br/>\n",
    "\n",
    "### Question 6b: Visualize Heatmap\n",
    "\n",
    "Assign `heatmap_data` to a heatmap bucket pivot table aggregated by median with resolution 30 for California AQI for the month of september. The code in the following cell will plot this heatmap for you. \n",
    "\n",
    "<!--\n",
    "BEGIN QUESTION\n",
    "name: q6b\n",
    "points: 1\n",
    "-->"
   ]
  },
  {
   "cell_type": "code",
   "execution_count": 33,
   "id": "695c8448",
   "metadata": {},
   "outputs": [],
   "source": [
    "heatmap_data = ...\n",
    "\n",
    "\n",
    "#create visualization\n",
    "plt.figure(figsize=(15, 8))\n",
    "ax = sns.heatmap(heatmap_data, vmin=0, vmax=230, cmap = sns.cm.rocket_r)\n",
    "ax.invert_yaxis()\n",
    "plt.show()"
   ]
  },
  {
   "cell_type": "code",
   "execution_count": null,
   "id": "bb4c65ac",
   "metadata": {
    "deletable": false,
    "editable": false
   },
   "outputs": [],
   "source": [
    "grader.check(\"q6b\")"
   ]
  },
  {
   "cell_type": "markdown",
   "id": "34f2c9c3",
   "metadata": {
    "deletable": false,
    "editable": false
   },
   "source": [
    "<!-- BEGIN QUESTION -->\n",
    "\n",
    "<br/>\n",
    "\n",
    "### Question 6c: Analyze Heatmap\n",
    "\n",
    "Look up where the dark regions correspond to. Does this heatmap make sense?\n",
    "\n",
    "<!--\n",
    "BEGIN QUESTION\n",
    "name: q6c\n",
    "manual: True\n",
    "points: 2\n",
    "-->"
   ]
  },
  {
   "cell_type": "markdown",
   "id": "90e267bf",
   "metadata": {},
   "source": [
    "_Type your answer here, replacing this text._"
   ]
  },
  {
   "cell_type": "markdown",
   "id": "69060842",
   "metadata": {},
   "source": [
    "<!-- END QUESTION -->\n",
    "\n",
    "\n",
    "\n",
    "<br/><br/>\n",
    "\n",
    "---\n",
    "## Part 3: Open-Ended EDA\n",
    "\n",
    "Not that we have explored the data both spatially and temporally, we want to be able to look at what other indicators there are for air quality in California. Through the previous few questions we have discussed that wilfire data as well as temperature may be good indicators, but we can explitly look at correlations via the temperature to verify our hypothesis. Like temperature, there are other columns of data such as particulate matter, chemical concentrations, wind data, etc. Your open-ended EDA will be useful for filling in missing points in the heatmap that you created in question 4b. \n",
    "\n",
    "Your goal in this question is to find relationships between AQI and other features in the current datasets, across time and space. Your exploration can include, but is not limited to: \n",
    "- Looking at correlations between AQI and various columns of interest in `epa_data_CA`.\n",
    "    - This will require some merging, which you can look at question 1 for reference. \n",
    "- Performing clustering and/or other unsupervised learning methods such as PCA to discover clusters or useful (combinations of) features in the data.\n",
    "- Merging and exploring other external datasets that you may think are useful."
   ]
  },
  {
   "cell_type": "markdown",
   "id": "3b61eded",
   "metadata": {
    "deletable": false,
    "editable": false
   },
   "source": [
    "<!-- BEGIN QUESTION -->\n",
    "\n",
    "### Question 7a - Code and Analysis\n",
    "\n",
    "Please complete all of your analysis in the **single cell** below based on the prompt above.\n",
    "\n",
    "<!--\n",
    "BEGIN QUESTION\n",
    "name: q7a\n",
    "manual: True\n",
    "points: 10\n",
    "-->"
   ]
  },
  {
   "cell_type": "code",
   "execution_count": 35,
   "id": "2356a9db",
   "metadata": {},
   "outputs": [],
   "source": [
    "epa_data.get('annual_county_aqi').head()"
   ]
  },
  {
   "cell_type": "markdown",
   "id": "1560d03e",
   "metadata": {
    "deletable": false,
    "editable": false
   },
   "source": [
    "<!-- END QUESTION -->\n",
    "\n",
    "<!-- BEGIN QUESTION -->\n",
    "\n",
    "<br/>\n",
    "\n",
    "### Question 7b - Visualization\n",
    "\n",
    "Please create **two** visualizations to summarize your analysis above. The only restrictions are that these visualizations **cannot** simply be scatterplots between two features in the dataset(s) and **cannot** be of the same type (dont make two bar graphs, for example). \n",
    "\n",
    "<!--\n",
    "BEGIN QUESTION\n",
    "name: q7b\n",
    "manual: True\n",
    "points: 4\n",
    "-->"
   ]
  },
  {
   "cell_type": "code",
   "execution_count": 36,
   "id": "1d53825a",
   "metadata": {},
   "outputs": [],
   "source": [
    "#plt.scatter(...)"
   ]
  },
  {
   "cell_type": "markdown",
   "id": "13ce1cc5",
   "metadata": {
    "deletable": false,
    "editable": false
   },
   "source": [
    "<!-- END QUESTION -->\n",
    "\n",
    "<!-- BEGIN QUESTION -->\n",
    "\n",
    "<br/>\n",
    "\n",
    "### Question 7c - Summary\n",
    "\n",
    "In a paragraph, summarize the your findings and visualizations and explain how they will be useful for predicting AQI. Make sure that your answer is thoughtful and detailed in that it describes what you did and how you reached your conclusion. \n",
    "\n",
    "<!--\n",
    "BEGIN QUESTION\n",
    "name: q7c\n",
    "manual: True\n",
    "points: 4\n",
    "-->"
   ]
  },
  {
   "cell_type": "markdown",
   "id": "b581832c",
   "metadata": {},
   "source": [
    "_Type your answer here, replacing this text._"
   ]
  },
  {
   "cell_type": "markdown",
   "id": "27b265bc",
   "metadata": {
    "deletable": false,
    "editable": false
   },
   "source": [
    "<!-- END QUESTION -->"
   ]
  },
  {
   "cell_type": "code",
   "execution_count": null,
   "id": "b625aa1d",
   "metadata": {},
   "outputs": [],
   "source": []
  },
  {
   "cell_type": "markdown",
   "id": "8c2cf5ce",
   "metadata": {
    "deletable": false,
    "editable": false
   },
   "source": [
    "---\n",
    "\n",
    "To double-check your work, the cell below will rerun all of the autograder tests."
   ]
  },
  {
   "cell_type": "code",
   "execution_count": null,
   "id": "16c68a5f",
   "metadata": {
    "deletable": false,
    "editable": false
   },
   "outputs": [],
   "source": [
    "grader.check_all()"
   ]
  },
  {
   "cell_type": "markdown",
   "id": "48ffcc9d",
   "metadata": {
    "deletable": false,
    "editable": false
   },
   "source": [
    "## Submission\n",
    "\n",
    "Make sure you have run all cells in your notebook in order before running the cell below, so that all images/graphs appear in the output. The cell below will generate a zip file for you to submit. **Please save before exporting!**"
   ]
  },
  {
   "cell_type": "code",
   "execution_count": null,
   "id": "189c33e3",
   "metadata": {
    "deletable": false,
    "editable": false
   },
   "outputs": [],
   "source": [
    "# Save your notebook first, then run this cell to export your submission.\n",
    "grader.export()"
   ]
  },
  {
   "cell_type": "markdown",
   "id": "6f01bdb8",
   "metadata": {},
   "source": [
    " "
   ]
  }
 ],
 "metadata": {
  "kernelspec": {
   "display_name": "Python 3 (ipykernel)",
   "language": "python",
   "name": "python3"
  },
  "language_info": {
   "codemirror_mode": {
    "name": "ipython",
    "version": 3
   },
   "file_extension": ".py",
   "mimetype": "text/x-python",
   "name": "python",
   "nbconvert_exporter": "python",
   "pygments_lexer": "ipython3",
   "version": "3.9.7"
  }
 },
 "nbformat": 4,
 "nbformat_minor": 5
}
