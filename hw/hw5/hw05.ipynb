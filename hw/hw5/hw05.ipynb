{
 "cells": [
  {
   "cell_type": "code",
   "execution_count": null,
   "id": "69665fd8",
   "metadata": {
    "deletable": false,
    "editable": false
   },
   "outputs": [],
   "source": [
    "# Initialize Otter\n",
    "import otter\n",
    "grader = otter.Notebook(\"hw05.ipynb\")"
   ]
  },
  {
   "cell_type": "markdown",
   "id": "4b7cc849",
   "metadata": {},
   "source": [
    "# Homework 5: SQL\n",
    "\n",
    "## Due Date: Oct 2st, 11:59 PM"
   ]
  },
  {
   "cell_type": "markdown",
   "id": "12a371a0",
   "metadata": {},
   "source": [
    "**Collaborators**: *list  collaborators here*"
   ]
  },
  {
   "cell_type": "code",
   "execution_count": 2,
   "id": "352afb06",
   "metadata": {},
   "outputs": [],
   "source": [
    "import pandas as pd\n",
    "import numpy as np\n",
    "import seaborn as sns\n",
    "import matplotlib.pyplot as plt\n",
    "import sqlalchemy\n",
    "from pathlib import Path\n",
    "\n",
    "plt.style.use('fivethirtyeight') # Use plt.style.available to see more styles\n",
    "sns.set()\n",
    "sns.set_context(\"talk\")\n",
    "%matplotlib inline"
   ]
  },
  {
   "cell_type": "markdown",
   "id": "fabbd2f4",
   "metadata": {},
   "source": [
    "The assignment consists of **8 problems** with 12 parts total. All questions are designed to look innocent, most with descriptions of 7 words or less. However, these questions get difficult, quickly, and reflect real-world queries you would find on the job:\n",
    "- **1 warmup** (Q1): Just to get you up and running.\n",
    "- **3 problems** (Q2, Q3, Q4): Relevant lectures have highly-similar practice problems.\n",
    "- **3 guided, difficult problems** (Q5, Q6, Q7): Conceptual insight needed. Relevant lectures have somewhat similar practice problems.\n",
    "- **1 brutally difficult but optional problem** (Q8)\n",
    "\n",
    "\n",
    "<details>\n",
    "    <summary>▶ [Click to Expand] <b>Logistics:</b> Collaboration Policy, Grading, Scoring Breakdown</summary>\n",
    "\n",
    "## Collaboration Policy\n",
    "\n",
    "Data science is a collaborative activity. While you may talk with others about\n",
    "the homework, we ask that you **write your solutions individually**. If you do\n",
    "discuss the assignments with others please **include their names** below.\n",
    "    \n",
    "## Grading\n",
    "\n",
    "Grading is broken down into autograded answers and free response. \n",
    "\n",
    "For autograded answers, the results of your code are compared to provided and/or hidden tests. **For autograded probability questions, the provided tests will only check that your answer is within a reasonable range.**\n",
    "\n",
    "### Please make sure to save regularly; do not rely on autosave to save your work for you!\n",
    "\n",
    "**Caution:** Be careful with large SQL queries.  You may need to reboot your Jupyter Hub instance if it stops responding.\n",
    "\n",
    "## Scoring Breakdown\n",
    "\n",
    "|Question|Points|\n",
    "|---|---|\n",
    "|Q1 | 1 |\n",
    "|Q2 | 2 |\n",
    "|Q3 | 3 |\n",
    "|Q4 | 3 |\n",
    "|Q5 | 2 |\n",
    "|Q6a | 2 |  \n",
    "|Q6b | 3 |\n",
    "|Q7a | 2 |\n",
    "|Q7b | 3 |\n",
    "|Total | 21 |\n",
    "</details>\n",
    "\n",
    "<details>\n",
    "    <summary>▶ [Click to Expand] <b>Dataset</b>: In this assignment, we will work with a miniature version of the <a href=\"https://www.imdb.com/interfaces/\">IMDB Dataset</a>. There are 4 tables: <code>Title</code>, <code>Rating</code>, <code>Name</code>, <code>Role</code>. Click here to see description of 4 tables.</b></summary>\n",
    "\n",
    "    \n",
    "**`Name`** – Contains the following information for names (originally called `names.basic`)\n",
    "- nconst (string) - alphanumeric unique identifier of the name/person\n",
    "- primaryName (string)– name by which the person is most often credited\n",
    "- birthYear – in YYYY format\n",
    "- deathYear – in YYYY format if applicable, else '\\\\N'\n",
    "- primaryProfession (array of strings)– the top-3 professions of the person\n",
    "- knownForTitles (array of tconsts) – titles the person is known for\n",
    "    \n",
    "    \n",
    "**`Rating`** – Contains the IMDb rating and votes information for titles\n",
    "- tconst (string) - alphanumeric unique identifier of the title\n",
    "- averageRating – weighted average of all the individual user ratings\n",
    "- numVotes - number of votes the title has received\n",
    "    \n",
    "    \n",
    "**`Role`** – Contains the principal cast/crew for titles (originally called `principals`)\n",
    "- tconst (string) - alphanumeric unique identifier of the title\n",
    "- ordering (integer) – a number to uniquely identify rows for a given titleId\n",
    "- nconst (string) - alphanumeric unique identifier of the name/person\n",
    "- category (string) - the category of job that person was in\n",
    "- job (string) - the specific job title if applicable, else '\\\\N'\n",
    "- characters (string) - the name of the character played if applicable, else '\\\\N'\n",
    "    \n",
    "    \n",
    "**`Title`** - Contains the following information for titles (originally called `title.basics`):\n",
    "- tconst (string) - alphanumeric unique identifier of the title\n",
    "- titleType (string) – the type/format of the title (e.g. movie, short, tvseries, tvepisode, video, etc)\n",
    "- primaryTitle (string) – the more popular title / the title used by the filmmakers on promotional materials at the point of release\n",
    "- originalTitle (string) - original title, in the original language\n",
    "- isAdult (boolean) - 0: non-adult title; 1: adult title\n",
    "- startYear (YYYY) – represents the release year of a title. In the case of TV Series, it is the series start year\n",
    "- endYear (YYYY) – TV Series end year. '\\\\N' for all other title types\n",
    "- runtimeMinutes – primary runtime of the title, in minutes\n",
    "- genres (string array) – includes up to three genres associated with the title\n",
    "</details>"
   ]
  },
  {
   "cell_type": "code",
   "execution_count": 3,
   "id": "736c51f2",
   "metadata": {
    "scrolled": true
   },
   "outputs": [],
   "source": [
    "# Setup - Load the SQL extension and connect to the Mini IMDB dataset we've prepared\n",
    "db_path = Path('data/imdbmini.db')\n",
    "\n",
    "engine = sqlalchemy.create_engine(f\"sqlite:///{db_path}\")\n",
    "connection = engine.connect()\n",
    "inspector = sqlalchemy.inspect(engine)\n",
    "\n",
    "#Get table names\n",
    "inspector.get_table_names()\n",
    "\n"
   ]
  },
  {
   "cell_type": "code",
   "execution_count": 4,
   "id": "55cceeb7",
   "metadata": {},
   "outputs": [],
   "source": [
    "query_name = \"\"\"\n",
    "SELECT * \n",
    "FROM Name\n",
    "\"\"\"\n",
    "pd.read_sql(query_name, engine).head()"
   ]
  },
  {
   "cell_type": "code",
   "execution_count": 5,
   "id": "b9078eb4",
   "metadata": {},
   "outputs": [],
   "source": [
    "query_role = \"\"\"\n",
    "SELECT * \n",
    "FROM Rating\n",
    "\"\"\"\n",
    "pd.read_sql(query_role, engine).head()"
   ]
  },
  {
   "cell_type": "code",
   "execution_count": 6,
   "id": "68259080",
   "metadata": {},
   "outputs": [],
   "source": [
    "query_rating = \"\"\"\n",
    "SELECT * \n",
    "FROM Role\n",
    "\"\"\"\n",
    "pd.read_sql(query_rating, engine).head()"
   ]
  },
  {
   "cell_type": "code",
   "execution_count": 7,
   "id": "d1aa82c7",
   "metadata": {},
   "outputs": [],
   "source": [
    "query_title = \"\"\"\n",
    "SELECT * \n",
    "FROM Title \n",
    "LIMIT 3\n",
    "\"\"\"\n",
    "pd.read_sql(query_title, engine).head()"
   ]
  },
  {
   "cell_type": "markdown",
   "id": "8a98b6af",
   "metadata": {
    "deletable": false,
    "editable": false
   },
   "source": [
    "## Question 1: Find all *distinct* film roles.\n",
    "\n",
    "<br/>\n",
    "<details>\n",
    "    <summary>▶ [Click to Expand] <b>Hints + Output</b></summary>\n",
    "\n",
    "- Tests: `DISTINCT`\n",
    "- Our solution is 2 lines.\n",
    "- **Hint Data**: The table `Role` contains all film roles.\n",
    "- **Hint**: Use `DISTINCT`\n",
    "</details>\n",
    "\n",
    "The first 3 lines of the table should look like the following (but you should compute the entire table).\n",
    "    \n",
    "|category|\n",
    "|---|\n",
    "|actor|\n",
    "|actress |\n",
    "|writer |\n",
    "\n",
    "<!--\n",
    "BEGIN QUESTION\n",
    "name: q1\n",
    "points: 1\n",
    "-->"
   ]
  },
  {
   "cell_type": "code",
   "execution_count": 8,
   "id": "9e28755e",
   "metadata": {
    "scrolled": true
   },
   "outputs": [],
   "source": [
    "query_q1 = \"\"\"\n",
    "...\n",
    "\"\"\"\n",
    "\n",
    "\n",
    "res_q1 = pd.read_sql(query_q1, engine)\n",
    "res_q1.head()"
   ]
  },
  {
   "cell_type": "code",
   "execution_count": null,
   "id": "276a509f",
   "metadata": {
    "deletable": false,
    "editable": false
   },
   "outputs": [],
   "source": [
    "grader.check(\"q1\")"
   ]
  },
  {
   "cell_type": "markdown",
   "id": "b30af9ce",
   "metadata": {
    "deletable": false,
    "editable": false
   },
   "source": [
    "## Question 2: Compute number of film releases, annually.\n",
    "\n",
    "Details: Sort from newest to oldest, and ignore titles with `NULL` years.\n",
    "\n",
    "<br/>\n",
    "\n",
    "<details>\n",
    "    <summary>▶ [Click to Expand] <b>Hints</b></summary>\n",
    "\n",
    "- Tests: grouping, aggregation, handling NULL\n",
    "- Our solution is 7 lines.\n",
    "    \n",
    "- **Approach**: You need to (#1) filter out `NULL` years, (#2) group by year and (#3) count within each group.\n",
    "        \n",
    "- **Hint #1**: For filtering out `NULL` values, see lecture 9.5 @ 2:20 https://youtu.be/LEMkOxv599U?t=140\n",
    "    \n",
    "- **Hint #2**: For using `GROUP BY`, see lecture 8.6 @ 2:46 https://youtu.be/WsyA75ppEAU?t=166\n",
    "    \n",
    "- **Hint Data**: Per the IMDB Dataset description, use the column `startYear` to determine when a film was released.\n",
    "    \n",
    "- **Hint**: For changing `ORDER BY` direction, consider `DESC` (descending) and `ASC` (ascending).\n",
    "</details>\n",
    "\n",
    "Output the year `year` and the number of films per year `total`. The first 3 lines of the table should look like the following (but you should compute the first 10 rows).\n",
    "<table border=\"1\" class=\"dataframe\">\n",
    "  <thead>\n",
    "    <tr style=\"text-align: right;\">\n",
    "      <th>year</th>\n",
    "      <th>total</th>\n",
    "    </tr>\n",
    "  </thead>\n",
    "  <tbody>\n",
    "    <tr>\n",
    "      <td>2021</td>\n",
    "      <td>128</td>\n",
    "    </tr>\n",
    "    <tr>\n",
    "      <td>2020</td>\n",
    "      <td>181</td>\n",
    "    </tr>\n",
    "    <tr>\n",
    "      <td>2019</td>\n",
    "      <td>278</td>\n",
    "    </tr>\n",
    "  </tbody>\n",
    "</table>\n",
    "\n",
    "<!--\n",
    "BEGIN QUESTION\n",
    "name: q2\n",
    "points: 2\n",
    "-->"
   ]
  },
  {
   "cell_type": "code",
   "execution_count": 10,
   "id": "39947998",
   "metadata": {},
   "outputs": [],
   "source": [
    "query_q2 = \"\"\"\n",
    "...\n",
    "\"\"\"\n",
    "\n",
    "\n",
    "res_q2 = pd.read_sql(query_q2, engine)\n",
    "res_q2.head()"
   ]
  },
  {
   "cell_type": "code",
   "execution_count": null,
   "id": "9fc61e3f",
   "metadata": {
    "deletable": false,
    "editable": false
   },
   "outputs": [],
   "source": [
    "grader.check(\"q2\")"
   ]
  },
  {
   "cell_type": "markdown",
   "id": "6c6d7877",
   "metadata": {
    "deletable": false,
    "editable": false
   },
   "source": [
    "## Question 3: Report number of \"Big-Hit\" and \"Not-Big-Hit\" films.\n",
    "\n",
    "Details: A \"big hit\" is a film with over 100,000 votes.\n",
    "\n",
    "<br/>\n",
    "\n",
    "<details>\n",
    "    <summary>▶ [Click to Expand] <b>Hints</b></summary>\n",
    "\n",
    "- Tests: Case, one-to-many Join\n",
    "- Our solution is 10 lines.\n",
    "    \n",
    "- **Approach**: You need to (1) link films to ratings, (2) compute whether or not a film is a \"hit\", according to its ratings, and (3) group by and aggregate within hits and not hits.\n",
    "    \n",
    "- **Hint Data**: Use `Rating.numVotes` for number of votes.\n",
    "- **Hint #1**: Use `JOIN`. See 9.4 @ 3:23 for an example https://youtu.be/FAYKJT1TFUA?t=199\n",
    "- **Hint #2**: Use `CASE`. See 9.7 @ 0:40 for a brief overview https://youtu.be/6vkZUwkoAwM?t=40\n",
    "- Review #3: For using `GROUP BY`, see lecture 8.6 @ 2:46 https://youtu.be/WsyA75ppEAU?t=166\n",
    "   \n",
    "</details>\n",
    "\n",
    "Output whether or not the film is a hit `isBigHit` and number of films in that category `total`. Your output should match the following, exactly:\n",
    "\n",
    "|isBigHit|total|\n",
    "|---|---|\n",
    "|no|5341|\n",
    "|yes|2233|\n",
    "\n",
    "<!--\n",
    "BEGIN QUESTION\n",
    "name: q3\n",
    "points: 3\n",
    "-->"
   ]
  },
  {
   "cell_type": "code",
   "execution_count": 14,
   "id": "5b865304",
   "metadata": {},
   "outputs": [],
   "source": [
    "query_q3 = \"\"\"\n",
    "...\n",
    "\"\"\"\n",
    "\n",
    "\n",
    "res_q3 = pd.read_sql(query_q3, engine)\n",
    "res_q3"
   ]
  },
  {
   "cell_type": "code",
   "execution_count": null,
   "id": "5b0bee0a",
   "metadata": {
    "deletable": false,
    "editable": false
   },
   "outputs": [],
   "source": [
    "grader.check(\"q3\")"
   ]
  },
  {
   "cell_type": "markdown",
   "id": "432c92a6",
   "metadata": {
    "deletable": false,
    "editable": false
   },
   "source": [
    "## Question 4: Compute average rating across films, per year.\n",
    "\n",
    "**Warning**: `Rating` provides average rating *per film*, but we need average rating *across votes* per year. See hints for details.\n",
    "\n",
    "<br/>\n",
    "\n",
    "<details>\n",
    "    <summary>▶ [Click to Expand] <b>Hints</b></summary>\n",
    "    \n",
    "    \n",
    "- Tests: SQL aggregates + arithmetic\n",
    "- Our solution is 7 lines\n",
    "    \n",
    "- **Approach**: You'll need to (1) link titles with ratings, (2) group by and aggregate within each title's release year, according to the formula above.\n",
    "    \n",
    "\n",
    "- **Hint Data**: Use `Title.startYear` for film release year.\n",
    "- **Hint Data**: You shouldn't use the `AVG(...)` aggregate, because the `Rating` table contains *average ratings per film* and the number of votes. We want the *average across all votes*, for a year of films, which we can compute using: `sumRatingsPerYear / numVotesInYear = sum(averageFilmRating * numFilmVotes) / sum(numFilmVotes)` (the sums are across all films in a single year).\n",
    "    \n",
    "- Review #1: Use a `JOIN`. See 9.4 @ 3:23 for an example https://youtu.be/FAYKJT1TFUA?t=199\n",
    "- Review #2: For using `GROUP BY`, see lecture 8.6 @ 2:46 https://youtu.be/WsyA75ppEAU?t=166. \n",
    "</details>\n",
    "\n",
    "Output the year `year` and average rating `rating`, ordered by `year` with the most recent year at the top. The first 3 lines of your output should look like the following (but you should compute the first 10 rows):\n",
    "\n",
    "|year|rating|\n",
    "|---|---|\n",
    "|2021|7.036896|\n",
    "|2020|7.004193|\n",
    "|2019|7.333072|\n",
    "\n",
    "<!--\n",
    "BEGIN QUESTION\n",
    "name: q4\n",
    "points: 3\n",
    "-->"
   ]
  },
  {
   "cell_type": "code",
   "execution_count": 16,
   "id": "fe283ca6",
   "metadata": {},
   "outputs": [],
   "source": [
    "query_q4 = \"\"\"\n",
    "...\n",
    "\"\"\"\n",
    "\n",
    "\n",
    "res_q4 = pd.read_sql(query_q4, engine)\n",
    "res_q4.head()"
   ]
  },
  {
   "cell_type": "code",
   "execution_count": null,
   "id": "794651ea",
   "metadata": {
    "deletable": false,
    "editable": false
   },
   "outputs": [],
   "source": [
    "grader.check(\"q4\")"
   ]
  },
  {
   "cell_type": "markdown",
   "id": "c138982d",
   "metadata": {
    "deletable": false,
    "editable": false
   },
   "source": [
    "## Question 5: Find people with the most ratings.\n",
    "\n",
    "Details: Sort from highest to lowest.\n",
    "\n",
    "<br/>\n",
    "\n",
    "<details>\n",
    "    <summary>▶ [Click to Expand] <b>Hints</b></summary>\n",
    "    \n",
    "- Tests: many-to-many join\n",
    "- Our solution is 13 lines, excluding the `VIEW` scaffolding.\n",
    "- **Approach**: You'll need to (1) link name to ratings, (2) group all ratings per person, and (3) compute total number of votes.\n",
    "- **Hint #1**: Use multiple `JOIN`s. Here is an example with multiple JOINs (but you may want to watch the entire lesson from the start) 9.7 @ 5:32 https://youtu.be/6vkZUwkoAwM?t=332\n",
    "- Review #2: For using GROUP BY, see lecture 8.6 @ 2:46 https://youtu.be/WsyA75ppEAU?t=166.\n",
    "</details>\n",
    "\n",
    "Output the person's `name`, average rating `rating`, and number of votes cast `numVotes`. The first 3 lines of your output should look like the following:\n",
    "\n",
    "|nconst|name|numVotes|\n",
    "|---|---|---|\n",
    "|2369|John Williams|16574610|\n",
    "|93|Brad Pitt|16007625|\n",
    "|138|Leonardo DiCaprio|14757121|\n",
    "\n",
    "<!--\n",
    "BEGIN QUESTION\n",
    "name: q5\n",
    "points: 2\n",
    "-->"
   ]
  },
  {
   "cell_type": "code",
   "execution_count": 19,
   "id": "51454cd2",
   "metadata": {},
   "outputs": [],
   "source": [
    "query_q5 = \"\"\"\n",
    "CREATE VIEW PeopleRating AS\n",
    "    ...\n",
    "\"\"\"\n",
    "\n",
    "\n",
    "#writing PeopleRating to db\n",
    "engine.execute(\"DROP VIEW IF EXISTS PeopleRating\")\n",
    "engine.execute(query_q5)\n",
    "\n",
    "res_q5 = pd.read_sql(\"SELECT * FROM PeopleRating LIMIT 10\", engine)\n",
    "res_q5"
   ]
  },
  {
   "cell_type": "code",
   "execution_count": null,
   "id": "5c7f53ec",
   "metadata": {
    "deletable": false,
    "editable": false
   },
   "outputs": [],
   "source": [
    "grader.check(\"q5\")"
   ]
  },
  {
   "cell_type": "markdown",
   "id": "5e12c3a4",
   "metadata": {},
   "source": [
    "\n",
    "## Question 6: Compute number of A/B/C-list people per film.\n",
    "\n",
    "Details: A-list people have 1,000,000+ votes. B-list have 500,000 - 999,999 votes. C-list have 100,000 - 499,999. Return top 10 films, ranked by number of A-list actors/actresses.\n",
    "\n",
    "Before looking below, take a moment to consider how you would do this problem. Would you use a `CASE`? (Why can't you?)"
   ]
  },
  {
   "cell_type": "markdown",
   "id": "46a50a27",
   "metadata": {
    "deletable": false,
    "editable": false
   },
   "source": [
    "### Question 6a: Compute \"X-List\" classification per person.\n",
    "\n",
    "<br/>\n",
    "\n",
    "<details>\n",
    "    <summary>▶ [Click to Expand] <b>Hints</b></summary>\n",
    "    \n",
    "- Tests: `AND` for predicates\n",
    "- The solution is 7 lines.\n",
    "</details>\n",
    "\n",
    "Using `PeopleRating` from Question 5, compute booleans `isAList`, `isBList`, and `isCList` for each person. Additionally output `PeopleRating.nconst`. The first 3 lines of your output should look like the following (but when using this query for Question 6, compute the full table).\n",
    "\n",
    "|isAList|isBList|isCList|nconst|\n",
    "|---|---|---|---|\n",
    "|1|0|0|2369|\n",
    "|1|0|0|93|\n",
    "|1|0|0|138|\n",
    "\n",
    "<!--\n",
    "BEGIN QUESTION\n",
    "name: q6a\n",
    "points: 2\n",
    "-->"
   ]
  },
  {
   "cell_type": "code",
   "execution_count": 23,
   "id": "9c06f4ac",
   "metadata": {},
   "outputs": [],
   "source": [
    "query_q6a = \"\"\"\n",
    "CREATE VIEW PeopleABC AS\n",
    "    ...\n",
    "\"\"\"\n",
    "\n",
    "\n",
    "#writing PeopleABC to db\n",
    "engine.execute(\"DROP VIEW IF EXISTS PeopleABC\")\n",
    "engine.execute(query_q6)\n",
    "\n",
    "res_q6a = pd.read_sql(\"SELECT * FROM PeopleABC LIMIT 10\", engine)\n",
    "res_q6a"
   ]
  },
  {
   "cell_type": "code",
   "execution_count": null,
   "id": "bdedb399",
   "metadata": {
    "deletable": false,
    "editable": false
   },
   "outputs": [],
   "source": [
    "grader.check(\"q6a\")"
   ]
  },
  {
   "cell_type": "markdown",
   "id": "b5cf964d",
   "metadata": {
    "deletable": false,
    "editable": false
   },
   "source": [
    "### Question 6b: Count up \"X-List\" people per film\n",
    "\n",
    "<br/>\n",
    "\n",
    "<details>\n",
    "    <summary>▶ [Click to Expand] <b>Hints</b></summary>\n",
    "    \n",
    "- Tests: When NOT to use case\n",
    "    \n",
    "- **Approach**: You need to: (1) Use a subquery, common table expression, or view to compute a boolean column for each \"rank\" -- `isAList`, `isBList` and `isCList` for every person; (2) link people ranks with titles; (3) group by and sum within each movie.\n",
    "    \n",
    "- **Hint #1**: Try Question 6a if this is confusing.\n",
    "- Reivew #2: Use multiple JOINs. Here is an example with multiple JOINs (but you may want to watch the entire lesson from the start) 9.7 @ 5:32 https://youtu.be/6vkZUwkoAwM?t=332\n",
    "- Review #3: For using GROUP BY, see lecture 8.6 @ 2:46 https://youtu.be/WsyA75ppEAU?t=166.\n",
    "</details>\n",
    "\n",
    "Output the number of A-list `numAList`, B-list `numBList`, and C-list `numCList` people, along with the film title. The first 3 lines of your output should look like the following (but you should compute the first 10 rows):\n",
    "\n",
    "|numAList|\tnumBList|\tnumCList|\tprimaryTitle|\n",
    "|---|---|---|---|\n",
    "|10|\t0|\t0|\tThe Godfather |\n",
    "|10|\t0|\t0|\tThe Godfather: Part II |\n",
    "|10|\t0|\t0|\tStar Wars: Episode V - The Empire Strikes Back |\n",
    "\n",
    "<!--\n",
    "BEGIN QUESTION\n",
    "name: q6b\n",
    "points: 3\n",
    "-->"
   ]
  },
  {
   "cell_type": "code",
   "execution_count": 26,
   "id": "8083d04f",
   "metadata": {
    "scrolled": true,
    "tags": []
   },
   "outputs": [],
   "source": [
    "query_q6b = \"\"\"\n",
    "...\n",
    "\"\"\"\n",
    "\n",
    "\n",
    "res_q6b = pd.read_sql(query_q6b, engine)\n",
    "res_q6b"
   ]
  },
  {
   "cell_type": "code",
   "execution_count": null,
   "id": "3985defa",
   "metadata": {
    "deletable": false,
    "editable": false
   },
   "outputs": [],
   "source": [
    "grader.check(\"q6b\")"
   ]
  },
  {
   "cell_type": "markdown",
   "id": "dcc5a567",
   "metadata": {},
   "source": [
    "## Question 7: Find pairs of people that have 50+ collaborations.\n",
    "\n",
    "Before looking below, take a moment to consider how you would do this problem. Can you do this without subqueries or common table expressions? Why not?"
   ]
  },
  {
   "cell_type": "markdown",
   "id": "7f32198b",
   "metadata": {
    "deletable": false,
    "editable": false
   },
   "source": [
    "### Question 7a: For each movie, list all pairs of collaborators.\n",
    "\n",
    "**Warning**: Make sure not to double-count pairs or to match any person with themselves as a \"pair\". See hints for details.\n",
    "\n",
    "<br/>\n",
    "\n",
    "<details>\n",
    "    <summary>▶ [Click to Expand] <b>Hints</b></summary>\n",
    "\n",
    "- Testing: self-joins with pairs\n",
    "\n",
    "- Our solution has 8 lines excluding the `VIEW` scaffolding.\n",
    "    \n",
    "- **Approach**: You will need to (1) consider pairs and (2) filter pairs to avoid double-counting and/or counting one person with themselves as a pair.\n",
    "    \n",
    "- **Hint #1**: Pick whichever approach is more intuitive. You can (a) compute all pairs, then filter out invalid pairs using hint #2 like 9.4 @ 4:20 https://youtu.be/FAYKJT1TFUA?t=254 OR (b) write the more efficient inner JOIN, using hint #2 as the join predicate, like 9.4 @ 3:19 https://youtu.be/FAYKJT1TFUA?t=199\n",
    "- **Hint #2**: To avoid double-counting and avoid counting one person with themselves as a pair, see 9.7 @ 7:19 https://youtu.be/6vkZUwkoAwM?t=439 \n",
    "</details>\n",
    "\n",
    "Output primary keys for both people `nconst1`, `nconst2` and for the film `tconst`. The first 3 lines of your output should look like the following (but you should compute the first 10 rows)\n",
    "\n",
    "|nconst1\t|nconst2\t|tconst|\n",
    "|---|---|---|\n",
    "|617588\t|29244\t|417|\n",
    "|617588\t|76933\t|417|\n",
    "|617588\t|242155\t|417|\n",
    "\n",
    "<!--\n",
    "BEGIN QUESTION\n",
    "name: q7a\n",
    "points: 2\n",
    "-->"
   ]
  },
  {
   "cell_type": "code",
   "execution_count": 30,
   "id": "07805846",
   "metadata": {},
   "outputs": [],
   "source": [
    "query_q7a = \"\"\"\n",
    "CREATE VIEW Pair AS\n",
    "    ...\n",
    "\"\"\"\n",
    "\n",
    "\n",
    "#writing Pair to db\n",
    "engine.execute(\"DROP VIEW IF EXISTS Pair\")\n",
    "engine.execute(query_q7a)\n",
    "\n",
    "res_q7a = pd.read_sql(\"SELECT * FROM Pair LIMIT 10\", engine)\n",
    "res_q7a.head()"
   ]
  },
  {
   "cell_type": "code",
   "execution_count": null,
   "id": "8d8c7ffa",
   "metadata": {
    "deletable": false,
    "editable": false
   },
   "outputs": [],
   "source": [
    "grader.check(\"q7a\")"
   ]
  },
  {
   "cell_type": "markdown",
   "id": "9cfb1bea",
   "metadata": {
    "deletable": false,
    "editable": false
   },
   "source": [
    "### Question 7b: Report number of movies per pair.\n",
    "\n",
    "Details: For all pairs that have collaborated at least 50 times.\n",
    "\n",
    "<br/>\n",
    "\n",
    "<details>\n",
    "    <summary>▶ [Click to Expand] <b>Hints</b></summary>\n",
    "\n",
    "- Tests: group by over multiple columns\n",
    "- Our solution has 12 lines.\n",
    "</details>\n",
    "\n",
    "Output the names of both people, `name1` and `name2`, in addition to the number of collaborations `total`. The first 3 lines of your output should look like the following (but you should compute the whole table)\n",
    "\n",
    "|name1|\tname2|\ttotal|\n",
    "|---|---|---|\n",
    "|D.B. Weiss\t|David Benioff|\t74|\n",
    "|David Benioff|\tGeorge R.R. Martin|\t73|\n",
    "|D.B. Weiss|\tGeorge R.R. Martin|\t73|\n",
    "\n",
    "<!--\n",
    "BEGIN QUESTION\n",
    "name: q7b\n",
    "points: 3\n",
    "-->"
   ]
  },
  {
   "cell_type": "code",
   "execution_count": 33,
   "id": "242cf72a",
   "metadata": {},
   "outputs": [],
   "source": [
    "query_q7b = \"\"\"\n",
    "...\n",
    "\"\"\"\n",
    "\n",
    "\n",
    "res_q7b = pd.read_sql(query_q7b, engine)\n",
    "res_q7b.head()"
   ]
  },
  {
   "cell_type": "code",
   "execution_count": null,
   "id": "5f77fa02",
   "metadata": {
    "deletable": false,
    "editable": false
   },
   "outputs": [],
   "source": [
    "grader.check(\"q7b\")"
   ]
  },
  {
   "cell_type": "markdown",
   "id": "792d0d93",
   "metadata": {},
   "source": [
    "## [Optional] Question 8: Find person with the highest ratings improvement, from first to last year of films.\n",
    "\n",
    "**Before looking at the code below**, I suggest thinking about how you would approach this question.\n",
    "\n",
    "<br/>\n",
    "\n",
    "<details>\n",
    "    <summary>▶ [Click to Expand] <b>See how I approached this.</b></summary>\n",
    "    \n",
    "I broke up this problem into 2 subqueries/views/CTEs, in addition to the actual query:\n",
    "1. `PeopleAnnualRating`: Compute the annual rating per person. Link all the relevant tables, reuse the average rating formula from before, and do a joint group by over both names and film years.\n",
    "2. `FirstLastYear`: Compute the first and last year that each person was involved in the film industry.\n",
    "3. Join `FirstLastYear` with the relevant rows from `PeopleAnnualRating` to get ratings for each person's first and last years\n",
    "</details>\n",
    "\n",
    "**This is written as a debug question.** Your goal is to find what is wrong and fix it. What happens is: If you uncomment the last cell in this notebook and run it, the cell will run forever and crash the kernel. Why is that? The answer is in the next collapsible. See if you can come up with the fix on your own first.\n",
    "\n",
    "<br/>\n",
    "\n",
    "<details>\n",
    "    <summary>▶ [Click to Expand] <b>See the answer for how to fix.</b></summary>\n",
    "\n",
    "1. The query running forever is a sign that we're producing a combinatorially large table. So that immediately narrowed down my focus to the join predicates `ON...`.\n",
    "2. Looking there, I realized that I had forgotten to filter by the name. Forgetting that meant I was joining `FirstLastYear` with *all* people that had ratings in `PeopleAnnualRating` for a single year.... which is to say, a lot of people! And I was doing this for each person in `FirstLastYear`.\n",
    "3. So, the answer is just to additionally add a name filter to the predicate for both JOINs, like this `LastYear.year = FirstLastYear.lastYear AND LastYear.nconst = FirstLastYear.nconst`\n",
    "</details>"
   ]
  },
  {
   "cell_type": "code",
   "execution_count": 36,
   "id": "d0dfd6af",
   "metadata": {},
   "outputs": [],
   "source": [
    "query_q8a = \"\"\"\n",
    "CREATE VIEW PeopleAnnualRating AS\n",
    "    SELECT \n",
    "        Role.nconst,\n",
    "        Title.startYear AS year,\n",
    "        SUM(Rating.averageRating * Rating.numVotes) / SUM(Rating.numVotes) AS rating\n",
    "    FROM Role\n",
    "    JOIN Title\n",
    "        ON Role.tconst = Title.tconst\n",
    "    JOIN Rating\n",
    "        ON Rating.tconst = Title.tconst\n",
    "    GROUP BY Role.nconst, Title.startYear\n",
    "\"\"\"\n",
    "\n",
    "#writing PeopleAnnualRating to db\n",
    "engine.execute(\"DROP VIEW IF EXISTS PeopleAnnualRating\")\n",
    "engine.execute(query_q8a)\n",
    "\n",
    "res_q8a = pd.read_sql(\"SELECT * FROM PeopleAnnualRating LIMIT 3\", engine)\n",
    "res_q8a.head()"
   ]
  },
  {
   "cell_type": "code",
   "execution_count": 37,
   "id": "b2dcaf1b",
   "metadata": {},
   "outputs": [],
   "source": [
    "query_q8b = \"\"\"\n",
    "CREATE VIEW FirstLastYear AS\n",
    "    SELECT\n",
    "        MIN(year) AS firstYear,\n",
    "        MAX(year) AS lastYear,\n",
    "        nconst\n",
    "    FROM PeopleAnnualRating\n",
    "    GROUP BY nconst\n",
    "\"\"\"\n",
    "\n",
    "#writing PeopleAnnualRating to db\n",
    "engine.execute(\"DROP VIEW IF EXISTS FirstLastYear\")\n",
    "engine.execute(query_q8b)\n",
    "\n",
    "res_q8b = pd.read_sql(\"SELECT * FROM FirstLastYear LIMIT 3\", engine)\n",
    "res_q8b.head()"
   ]
  },
  {
   "cell_type": "code",
   "execution_count": 38,
   "id": "c7435004",
   "metadata": {},
   "outputs": [],
   "source": [
    "# fix this query\n",
    "# query_q8c = \"\"\"\n",
    "# SELECT\n",
    "#     LastYear.rating - StartYear.rating AS improvement,\n",
    "#     Name.primaryName\n",
    "# FROM FirstLastYear\n",
    "# JOIN PeopleAnnualRating AS StartYear\n",
    "#     ON StartYear.year = FirstLastYear.firstYear\n",
    "# JOIN PeopleAnnualRating AS LastYear\n",
    "#     ON LastYear.year = FirstLastYear.lastYear\n",
    "# JOIN Name\n",
    "#     ON Name.nconst = FirstLastYear.nconst\n",
    "# ORDER BY improvement DESC\n",
    "# LIMIT 10;\n",
    "# \"\"\"\n",
    "\n",
    "query_q8c = \"\"\"\n",
    "...\n",
    "\"\"\"\n",
    "\n",
    "\n",
    "res_q8c = pd.read_sql(query_q8c, engine)\n",
    "res_q8c.head()"
   ]
  },
  {
   "cell_type": "markdown",
   "id": "44eea2b7",
   "metadata": {
    "deletable": false,
    "editable": false
   },
   "source": [
    "---\n",
    "\n",
    "To double-check your work, the cell below will rerun all of the autograder tests."
   ]
  },
  {
   "cell_type": "code",
   "execution_count": null,
   "id": "17096b39",
   "metadata": {
    "deletable": false,
    "editable": false
   },
   "outputs": [],
   "source": [
    "grader.check_all()"
   ]
  },
  {
   "cell_type": "markdown",
   "id": "e2284758",
   "metadata": {
    "deletable": false,
    "editable": false
   },
   "source": [
    "## Submission\n",
    "\n",
    "Make sure you have run all cells in your notebook in order before running the cell below, so that all images/graphs appear in the output. The cell below will generate a zip file for you to submit. **Please save before exporting!**"
   ]
  },
  {
   "cell_type": "code",
   "execution_count": null,
   "id": "ae9495c5",
   "metadata": {
    "deletable": false,
    "editable": false
   },
   "outputs": [],
   "source": [
    "# Save your notebook first, then run this cell to export your submission.\n",
    "grader.export()"
   ]
  },
  {
   "cell_type": "markdown",
   "id": "65e6d2b9",
   "metadata": {},
   "source": [
    " "
   ]
  }
 ],
 "metadata": {
  "kernelspec": {
   "display_name": "Python 3 (ipykernel)",
   "language": "python",
   "name": "python3"
  },
  "language_info": {
   "codemirror_mode": {
    "name": "ipython",
    "version": 3
   },
   "file_extension": ".py",
   "mimetype": "text/x-python",
   "name": "python",
   "nbconvert_exporter": "python",
   "pygments_lexer": "ipython3",
   "version": "3.9.7"
  }
 },
 "nbformat": 4,
 "nbformat_minor": 5
}
